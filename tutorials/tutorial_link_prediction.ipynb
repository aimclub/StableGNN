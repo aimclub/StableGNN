{
 "cells": [
  {
   "cell_type": "markdown",
   "source": [
    "# Оптимизация Сети Добычи\n",
    "модель для предсказания оптимальных связей между нефтяными и газовыми скважинами и центрами сбора или переработки. Здесь узлы - это скважины, а рёбра - логистические или технологические связи. Каждому месторождению соответствует вектор атрибутов: название, страна, регион месторождения, тектонический режим, тип углеводорода, структурные свойства, литология, литологический период, проницаемость, долгота и широта, валовая прибыль."
   ],
   "metadata": {
    "collapsed": false
   }
  },
  {
   "cell_type": "code",
   "execution_count": null,
   "outputs": [],
   "source": [
    "import pandas as pd\n",
    "import torch_geometric.transforms as T\n",
    "from stable_gnn.model_link_predict import ModelLinkPrediction\n",
    "from stable_gnn.graph import Graph"
   ],
   "metadata": {
    "collapsed": false
   }
  },
  {
   "cell_type": "markdown",
   "source": [
    "## Загружаем данные исходного графа"
   ],
   "metadata": {
    "collapsed": false
   }
  },
  {
   "cell_type": "code",
   "execution_count": null,
   "outputs": [],
   "source": [
    "root = '../data_validation/'\n",
    "name = 'oil_fields'\n",
    "adjust_flag = False\n",
    "dataset = Graph(root=root + str(name), name=name, transform=T.NormalizeFeatures(),adjust_flag=adjust_flag)"
   ],
   "metadata": {
    "collapsed": false
   }
  },
  {
   "cell_type": "code",
   "execution_count": 29,
   "outputs": [],
   "source": [
    "results = pd.DataFrame(columns=['embeddings_learn', 'adjust_flag','test accuracy'])"
   ],
   "metadata": {
    "collapsed": false,
    "ExecuteTime": {
     "end_time": "2024-01-05T16:19:40.175929600Z",
     "start_time": "2024-01-05T16:19:40.156936300Z"
    }
   }
  },
  {
   "cell_type": "markdown",
   "source": [
    "## Обучаем модель link prediction на атрибутах\n",
    "### Разбиене данных на train test"
   ],
   "metadata": {
    "collapsed": false
   }
  },
  {
   "cell_type": "code",
   "execution_count": 32,
   "outputs": [],
   "source": [
    "def num_of_trials(embeddings_learn):\n",
    "    if embeddings_learn:\n",
    "        return 50\n",
    "    else:\n",
    "        return 0\n",
    "    \n",
    "embeddings_learn = 0\n",
    "num_trials = num_of_trials(num_of_trials)\n",
    "    \n",
    "model = ModelLinkPrediction(number_of_trials=num_trials)\n",
    "train_edges, train_negative, test_edges, test_negative = model.train_test_edges(dataset)"
   ],
   "metadata": {
    "collapsed": false,
    "ExecuteTime": {
     "end_time": "2024-01-05T16:20:32.825105900Z",
     "start_time": "2024-01-05T16:20:30.309938400Z"
    }
   }
  },
  {
   "cell_type": "markdown",
   "source": [
    "### Обучаем классификатор на тренировочных ребрах, который выдает 1 если ребро есть и 0 -- если нет"
   ],
   "metadata": {
    "collapsed": false
   }
  },
  {
   "cell_type": "code",
   "execution_count": null,
   "outputs": [],
   "source": [
    "cl = model.train_cl(train_edges,train_negative)"
   ],
   "metadata": {
    "collapsed": false
   }
  },
  {
   "cell_type": "markdown",
   "source": [
    "### Проведем тестирование и узнаем точность модели"
   ],
   "metadata": {
    "collapsed": false
   }
  },
  {
   "cell_type": "code",
   "execution_count": 31,
   "outputs": [
    {
     "name": "stderr",
     "output_type": "stream",
     "text": [
      "C:\\Users\\Полина\\Desktop\\StableGNN\\stable_gnn\\model_link_predict.py:116: UserWarning: To copy construct from a tensor, it is recommended to use sourceTensor.clone().detach() or sourceTensor.clone().detach().requires_grad_(True), rather than torch.tensor(sourceTensor).\n",
      "  emb_norm = torch.nn.functional.normalize(torch.tensor(self.embeddings))\n"
     ]
    },
    {
     "name": "stdout",
     "output_type": "stream",
     "text": [
      "f1 measure 0.7483388704318938\n"
     ]
    }
   ],
   "source": [
    "test_accuracy = model.test(cl,test_edges,test_negative)\n",
    "print(\"f1 measure\", test_accuracy)\n",
    "results=pd.concat([results, pd.DataFrame([embeddings_learn,adjust_flag,test_accuracy],index=results.columns).transpose()], ignore_index=True, axis=0)"
   ],
   "metadata": {
    "collapsed": false,
    "ExecuteTime": {
     "end_time": "2024-01-05T16:19:52.718818300Z",
     "start_time": "2024-01-05T16:19:52.517821600Z"
    }
   }
  },
  {
   "cell_type": "markdown",
   "source": [
    "# Теперь проверим точность в случае обучения векторных представлений"
   ],
   "metadata": {
    "collapsed": false
   }
  },
  {
   "cell_type": "code",
   "execution_count": 33,
   "outputs": [
    {
     "name": "stderr",
     "output_type": "stream",
     "text": [
      "[I 2024-01-05 19:22:11,811] A new study created in memory with name: no-name-18e59030-35d6-40b9-bd38-66976b73f816\n",
      "[I 2024-01-05 19:22:19,731] Trial 0 finished with value: 5.351813793182373 and parameters: {'hidden_layer': 64, 'dropout': 0.2, 'size of network, number of convs': 2, 'lr': 0.005609700116324191, 'out_layer': 32, 'num_negative_samples': 1, 'alpha': 0.9}. Best is trial 0 with value: 5.351813793182373.\n",
      "[I 2024-01-05 19:22:48,265] Trial 1 finished with value: 3.3733105659484863 and parameters: {'hidden_layer': 64, 'dropout': 0.1, 'size of network, number of convs': 3, 'lr': 0.0069892351678262545, 'out_layer': 128, 'num_negative_samples': 21, 'alpha': 0.1}. Best is trial 1 with value: 3.3733105659484863.\n",
      "[I 2024-01-05 19:22:55,849] Trial 2 finished with value: 4.6360979080200195 and parameters: {'hidden_layer': 64, 'dropout': 0.5, 'size of network, number of convs': 1, 'lr': 0.009450459868094067, 'out_layer': 32, 'num_negative_samples': 1, 'alpha': 0.5}. Best is trial 1 with value: 3.3733105659484863.\n",
      "[I 2024-01-05 19:23:11,235] Trial 3 finished with value: 3.3728866577148438 and parameters: {'hidden_layer': 32, 'dropout': 0.5, 'size of network, number of convs': 3, 'lr': 0.009552597016213603, 'out_layer': 64, 'num_negative_samples': 11, 'alpha': 0.1}. Best is trial 3 with value: 3.3728866577148438.\n",
      "[I 2024-01-05 19:23:24,470] Trial 4 finished with value: 4.269547939300537 and parameters: {'hidden_layer': 32, 'dropout': 0.4, 'size of network, number of convs': 2, 'lr': 0.008563081246774096, 'out_layer': 32, 'num_negative_samples': 11, 'alpha': 0.3}. Best is trial 3 with value: 3.3728866577148438.\n",
      "[I 2024-01-05 19:23:36,723] Trial 5 finished with value: 3.93782639503479 and parameters: {'hidden_layer': 32, 'dropout': 0.4, 'size of network, number of convs': 2, 'lr': 0.009584543011651899, 'out_layer': 32, 'num_negative_samples': 6, 'alpha': 0.2}. Best is trial 3 with value: 3.3728866577148438.\n",
      "[I 2024-01-05 19:23:49,928] Trial 6 finished with value: 3.37357497215271 and parameters: {'hidden_layer': 128, 'dropout': 0.0, 'size of network, number of convs': 2, 'lr': 0.0073921776579672065, 'out_layer': 64, 'num_negative_samples': 1, 'alpha': 0.1}. Best is trial 3 with value: 3.3728866577148438.\n",
      "[I 2024-01-05 19:23:57,993] Trial 7 finished with value: 5.498486518859863 and parameters: {'hidden_layer': 32, 'dropout': 0.5, 'size of network, number of convs': 1, 'lr': 0.007543475231565121, 'out_layer': 128, 'num_negative_samples': 1, 'alpha': 0.9}. Best is trial 3 with value: 3.3728866577148438.\n",
      "[I 2024-01-05 19:24:22,116] Trial 8 finished with value: 4.246725082397461 and parameters: {'hidden_layer': 64, 'dropout': 0.1, 'size of network, number of convs': 3, 'lr': 0.006711103457691092, 'out_layer': 128, 'num_negative_samples': 21, 'alpha': 0.3}. Best is trial 3 with value: 3.3728866577148438.\n",
      "[I 2024-01-05 19:24:33,720] Trial 9 finished with value: 4.274162292480469 and parameters: {'hidden_layer': 64, 'dropout': 0.0, 'size of network, number of convs': 1, 'lr': 0.005964449337332377, 'out_layer': 32, 'num_negative_samples': 6, 'alpha': 0.3}. Best is trial 3 with value: 3.3728866577148438.\n",
      "[I 2024-01-05 19:24:50,255] Trial 10 finished with value: 4.449816703796387 and parameters: {'hidden_layer': 128, 'dropout': 0.30000000000000004, 'size of network, number of convs': 3, 'lr': 0.008598444702855413, 'out_layer': 64, 'num_negative_samples': 11, 'alpha': 0.4}. Best is trial 3 with value: 3.3728866577148438.\n",
      "[I 2024-01-05 19:25:07,089] Trial 11 finished with value: 3.362362861633301 and parameters: {'hidden_layer': 32, 'dropout': 0.2, 'size of network, number of convs': 3, 'lr': 0.00986992773348104, 'out_layer': 64, 'num_negative_samples': 16, 'alpha': 0.1}. Best is trial 11 with value: 3.362362861633301.\n",
      "[I 2024-01-05 19:25:26,523] Trial 12 finished with value: 3.38310170173645 and parameters: {'hidden_layer': 32, 'dropout': 0.30000000000000004, 'size of network, number of convs': 3, 'lr': 0.00987999291431052, 'out_layer': 64, 'num_negative_samples': 16, 'alpha': 0.1}. Best is trial 11 with value: 3.362362861633301.\n",
      "[I 2024-01-05 19:25:39,504] Trial 13 finished with value: 4.798335552215576 and parameters: {'hidden_layer': 32, 'dropout': 0.2, 'size of network, number of convs': 3, 'lr': 0.009932442853570225, 'out_layer': 64, 'num_negative_samples': 16, 'alpha': 0.7}. Best is trial 11 with value: 3.362362861633301.\n",
      "[I 2024-01-05 19:25:54,410] Trial 14 finished with value: 4.679211139678955 and parameters: {'hidden_layer': 32, 'dropout': 0.4, 'size of network, number of convs': 3, 'lr': 0.00894848802798331, 'out_layer': 64, 'num_negative_samples': 11, 'alpha': 0.6}. Best is trial 11 with value: 3.362362861633301.\n",
      "[I 2024-01-05 19:26:08,323] Trial 15 finished with value: 4.980052947998047 and parameters: {'hidden_layer': 32, 'dropout': 0.2, 'size of network, number of convs': 3, 'lr': 0.009052957925955707, 'out_layer': 64, 'num_negative_samples': 16, 'alpha': 0.8}. Best is trial 11 with value: 3.362362861633301.\n",
      "[I 2024-01-05 19:26:25,694] Trial 16 finished with value: 3.3701331615448 and parameters: {'hidden_layer': 128, 'dropout': 0.1, 'size of network, number of convs': 3, 'lr': 0.008113038294418489, 'out_layer': 64, 'num_negative_samples': 11, 'alpha': 0.1}. Best is trial 11 with value: 3.362362861633301.\n",
      "[I 2024-01-05 19:26:48,517] Trial 17 finished with value: 3.3657798767089844 and parameters: {'hidden_layer': 128, 'dropout': 0.1, 'size of network, number of convs': 3, 'lr': 0.008217262483479227, 'out_layer': 64, 'num_negative_samples': 16, 'alpha': 0.1}. Best is trial 11 with value: 3.362362861633301.\n",
      "[I 2024-01-05 19:27:03,712] Trial 18 finished with value: 4.78205680847168 and parameters: {'hidden_layer': 128, 'dropout': 0.1, 'size of network, number of convs': 3, 'lr': 0.00808642343403293, 'out_layer': 64, 'num_negative_samples': 16, 'alpha': 0.7}. Best is trial 11 with value: 3.362362861633301.\n",
      "[I 2024-01-05 19:27:15,811] Trial 19 finished with value: 4.5317792892456055 and parameters: {'hidden_layer': 128, 'dropout': 0.0, 'size of network, number of convs': 1, 'lr': 0.009124836065842513, 'out_layer': 64, 'num_negative_samples': 16, 'alpha': 0.4}. Best is trial 11 with value: 3.362362861633301.\n",
      "[I 2024-01-05 19:27:33,577] Trial 20 finished with value: 4.63243293762207 and parameters: {'hidden_layer': 128, 'dropout': 0.30000000000000004, 'size of network, number of convs': 3, 'lr': 0.008262962419333119, 'out_layer': 128, 'num_negative_samples': 16, 'alpha': 0.6}. Best is trial 11 with value: 3.362362861633301.\n",
      "[I 2024-01-05 19:27:50,786] Trial 21 finished with value: 3.369615316390991 and parameters: {'hidden_layer': 128, 'dropout': 0.1, 'size of network, number of convs': 3, 'lr': 0.007966625649853273, 'out_layer': 64, 'num_negative_samples': 16, 'alpha': 0.1}. Best is trial 11 with value: 3.362362861633301.\n",
      "[I 2024-01-05 19:28:09,174] Trial 22 finished with value: 3.368594169616699 and parameters: {'hidden_layer': 128, 'dropout': 0.2, 'size of network, number of convs': 3, 'lr': 0.00757918815183642, 'out_layer': 64, 'num_negative_samples': 16, 'alpha': 0.1}. Best is trial 11 with value: 3.362362861633301.\n",
      "[I 2024-01-05 19:28:27,452] Trial 23 finished with value: 3.377999782562256 and parameters: {'hidden_layer': 128, 'dropout': 0.2, 'size of network, number of convs': 3, 'lr': 0.007702179400017023, 'out_layer': 64, 'num_negative_samples': 16, 'alpha': 0.1}. Best is trial 11 with value: 3.362362861633301.\n",
      "[I 2024-01-05 19:28:44,278] Trial 24 finished with value: 4.574207782745361 and parameters: {'hidden_layer': 128, 'dropout': 0.2, 'size of network, number of convs': 3, 'lr': 0.008649411144676367, 'out_layer': 64, 'num_negative_samples': 16, 'alpha': 0.5}. Best is trial 11 with value: 3.362362861633301.\n",
      "[I 2024-01-05 19:29:00,300] Trial 25 finished with value: 4.926977157592773 and parameters: {'hidden_layer': 128, 'dropout': 0.30000000000000004, 'size of network, number of convs': 3, 'lr': 0.007192171670278947, 'out_layer': 64, 'num_negative_samples': 16, 'alpha': 0.8}. Best is trial 11 with value: 3.362362861633301.\n",
      "[I 2024-01-05 19:29:15,483] Trial 26 finished with value: 3.9337210655212402 and parameters: {'hidden_layer': 128, 'dropout': 0.1, 'size of network, number of convs': 3, 'lr': 0.007777116312302825, 'out_layer': 64, 'num_negative_samples': 6, 'alpha': 0.2}. Best is trial 11 with value: 3.362362861633301.\n",
      "[I 2024-01-05 19:29:33,875] Trial 27 finished with value: 3.370589017868042 and parameters: {'hidden_layer': 128, 'dropout': 0.2, 'size of network, number of convs': 3, 'lr': 0.006604899088479046, 'out_layer': 64, 'num_negative_samples': 16, 'alpha': 0.1}. Best is trial 11 with value: 3.362362861633301.\n",
      "[I 2024-01-05 19:29:51,814] Trial 28 finished with value: 3.3582756519317627 and parameters: {'hidden_layer': 128, 'dropout': 0.0, 'size of network, number of convs': 2, 'lr': 0.008364382815692356, 'out_layer': 64, 'num_negative_samples': 21, 'alpha': 0.1}. Best is trial 28 with value: 3.3582756519317627.\n",
      "[I 2024-01-05 19:30:11,779] Trial 29 finished with value: 5.328651428222656 and parameters: {'hidden_layer': 32, 'dropout': 0.0, 'size of network, number of convs': 2, 'lr': 0.00836544782409044, 'out_layer': 128, 'num_negative_samples': 21, 'alpha': 0.9}. Best is trial 28 with value: 3.3582756519317627.\n",
      "[I 2024-01-05 19:30:26,384] Trial 30 finished with value: 3.371670722961426 and parameters: {'hidden_layer': 64, 'dropout': 0.0, 'size of network, number of convs': 2, 'lr': 0.008833641874804211, 'out_layer': 32, 'num_negative_samples': 21, 'alpha': 0.1}. Best is trial 28 with value: 3.3582756519317627.\n",
      "[I 2024-01-05 19:30:44,428] Trial 31 finished with value: 3.373420476913452 and parameters: {'hidden_layer': 128, 'dropout': 0.1, 'size of network, number of convs': 2, 'lr': 0.007839047579694607, 'out_layer': 64, 'num_negative_samples': 21, 'alpha': 0.1}. Best is trial 28 with value: 3.3582756519317627.\n",
      "[I 2024-01-05 19:31:02,516] Trial 32 finished with value: 3.3725199699401855 and parameters: {'hidden_layer': 128, 'dropout': 0.1, 'size of network, number of convs': 2, 'lr': 0.008304267964310502, 'out_layer': 64, 'num_negative_samples': 21, 'alpha': 0.1}. Best is trial 28 with value: 3.3582756519317627.\n",
      "[I 2024-01-05 19:31:19,550] Trial 33 finished with value: 3.3625450134277344 and parameters: {'hidden_layer': 128, 'dropout': 0.2, 'size of network, number of convs': 2, 'lr': 0.009236447798850361, 'out_layer': 64, 'num_negative_samples': 16, 'alpha': 0.1}. Best is trial 28 with value: 3.3582756519317627.\n",
      "[I 2024-01-05 19:31:35,852] Trial 34 finished with value: 4.56680154800415 and parameters: {'hidden_layer': 128, 'dropout': 0.0, 'size of network, number of convs': 2, 'lr': 0.009329824933401058, 'out_layer': 64, 'num_negative_samples': 21, 'alpha': 0.5}. Best is trial 28 with value: 3.3582756519317627.\n",
      "[I 2024-01-05 19:31:47,957] Trial 35 finished with value: 3.3456661701202393 and parameters: {'hidden_layer': 64, 'dropout': 0.2, 'size of network, number of convs': 2, 'lr': 0.009477969118451722, 'out_layer': 64, 'num_negative_samples': 1, 'alpha': 0.1}. Best is trial 35 with value: 3.3456661701202393.\n",
      "[I 2024-01-05 19:31:59,335] Trial 36 finished with value: 3.3738527297973633 and parameters: {'hidden_layer': 64, 'dropout': 0.30000000000000004, 'size of network, number of convs': 2, 'lr': 0.009338322511857206, 'out_layer': 32, 'num_negative_samples': 1, 'alpha': 0.1}. Best is trial 35 with value: 3.3456661701202393.\n",
      "[I 2024-01-05 19:32:10,755] Trial 37 finished with value: 3.947108030319214 and parameters: {'hidden_layer': 64, 'dropout': 0.2, 'size of network, number of convs': 2, 'lr': 0.009686531456934492, 'out_layer': 64, 'num_negative_samples': 1, 'alpha': 0.2}. Best is trial 35 with value: 3.3456661701202393.\n",
      "[I 2024-01-05 19:32:27,549] Trial 38 finished with value: 3.3789515495300293 and parameters: {'hidden_layer': 64, 'dropout': 0.4, 'size of network, number of convs': 2, 'lr': 0.009994277827922893, 'out_layer': 128, 'num_negative_samples': 1, 'alpha': 0.1}. Best is trial 35 with value: 3.3456661701202393.\n",
      "[I 2024-01-05 19:32:36,226] Trial 39 finished with value: 5.365490436553955 and parameters: {'hidden_layer': 64, 'dropout': 0.2, 'size of network, number of convs': 2, 'lr': 0.009366722450713145, 'out_layer': 32, 'num_negative_samples': 1, 'alpha': 0.9}. Best is trial 35 with value: 3.3456661701202393.\n",
      "[I 2024-01-05 19:32:48,539] Trial 40 finished with value: 4.442112445831299 and parameters: {'hidden_layer': 32, 'dropout': 0.30000000000000004, 'size of network, number of convs': 2, 'lr': 0.009572950346106628, 'out_layer': 64, 'num_negative_samples': 6, 'alpha': 0.4}. Best is trial 35 with value: 3.3456661701202393.\n",
      "[I 2024-01-05 19:33:00,650] Trial 41 finished with value: 3.3801562786102295 and parameters: {'hidden_layer': 64, 'dropout': 0.1, 'size of network, number of convs': 2, 'lr': 0.009172417468314625, 'out_layer': 64, 'num_negative_samples': 1, 'alpha': 0.1}. Best is trial 35 with value: 3.3456661701202393.\n",
      "[I 2024-01-05 19:33:15,926] Trial 42 finished with value: 3.422102928161621 and parameters: {'hidden_layer': 128, 'dropout': 0.1, 'size of network, number of convs': 1, 'lr': 0.008776272651119264, 'out_layer': 64, 'num_negative_samples': 16, 'alpha': 0.1}. Best is trial 35 with value: 3.3456661701202393.\n",
      "[I 2024-01-05 19:33:33,580] Trial 43 finished with value: 3.3857131004333496 and parameters: {'hidden_layer': 32, 'dropout': 0.2, 'size of network, number of convs': 2, 'lr': 0.00970300218502352, 'out_layer': 64, 'num_negative_samples': 21, 'alpha': 0.1}. Best is trial 35 with value: 3.3456661701202393.\n",
      "[I 2024-01-05 19:33:48,931] Trial 44 finished with value: 4.253999710083008 and parameters: {'hidden_layer': 64, 'dropout': 0.0, 'size of network, number of convs': 2, 'lr': 0.008510044731613603, 'out_layer': 64, 'num_negative_samples': 16, 'alpha': 0.3}. Best is trial 35 with value: 3.3456661701202393.\n",
      "[I 2024-01-05 19:33:57,828] Trial 45 finished with value: 4.834558486938477 and parameters: {'hidden_layer': 32, 'dropout': 0.1, 'size of network, number of convs': 1, 'lr': 0.008837147367103015, 'out_layer': 64, 'num_negative_samples': 1, 'alpha': 0.7}. Best is trial 35 with value: 3.3456661701202393.\n",
      "[I 2024-01-05 19:34:12,221] Trial 46 finished with value: 4.693758964538574 and parameters: {'hidden_layer': 128, 'dropout': 0.2, 'size of network, number of convs': 2, 'lr': 0.009489875493999475, 'out_layer': 128, 'num_negative_samples': 6, 'alpha': 0.6}. Best is trial 35 with value: 3.3456661701202393.\n",
      "[I 2024-01-05 19:34:27,287] Trial 47 finished with value: 3.376312732696533 and parameters: {'hidden_layer': 64, 'dropout': 0.30000000000000004, 'size of network, number of convs': 2, 'lr': 0.009048895393720965, 'out_layer': 64, 'num_negative_samples': 11, 'alpha': 0.1}. Best is trial 35 with value: 3.3456661701202393.\n",
      "[I 2024-01-05 19:34:40,586] Trial 48 finished with value: 3.391922950744629 and parameters: {'hidden_layer': 32, 'dropout': 0.1, 'size of network, number of convs': 1, 'lr': 0.009750351654128962, 'out_layer': 32, 'num_negative_samples': 16, 'alpha': 0.1}. Best is trial 35 with value: 3.3456661701202393.\n",
      "[I 2024-01-05 19:34:56,172] Trial 49 finished with value: 4.965284824371338 and parameters: {'hidden_layer': 128, 'dropout': 0.0, 'size of network, number of convs': 2, 'lr': 0.009302631275310457, 'out_layer': 64, 'num_negative_samples': 21, 'alpha': 0.8}. Best is trial 35 with value: 3.3456661701202393.\n",
      "C:\\Users\\Полина\\Desktop\\StableGNN\\venv\\lib\\site-packages\\sklearn\\neural_network\\_multilayer_perceptron.py:691: ConvergenceWarning: Stochastic Optimizer: Maximum iterations (100) reached and the optimization hasn't converged yet.\n",
      "  warnings.warn(\n"
     ]
    },
    {
     "name": "stdout",
     "output_type": "stream",
     "text": [
      "f1 measure 0.9029783393501806\n"
     ]
    }
   ],
   "source": [
    "embeddings_learn = 50\n",
    "num_trials = num_of_trials(num_of_trials)\n",
    "    \n",
    "model = ModelLinkPrediction(number_of_trials=num_trials)\n",
    "train_edges, train_negative, test_edges, test_negative = model.train_test_edges(dataset)\n",
    "cl = model.train_cl(train_edges,train_negative)\n",
    "test_accuracy = model.test(cl,test_edges,test_negative)\n",
    "print(\"f1 measure\", test_accuracy)\n",
    "results=pd.concat([results, pd.DataFrame([embeddings_learn,adjust_flag,test_accuracy],index=results.columns).transpose()], ignore_index=True, axis=0)"
   ],
   "metadata": {
    "collapsed": false,
    "ExecuteTime": {
     "end_time": "2024-01-05T16:35:36.249580100Z",
     "start_time": "2024-01-05T16:22:09.813757900Z"
    }
   }
  },
  {
   "cell_type": "code",
   "execution_count": 38,
   "outputs": [
    {
     "data": {
      "text/plain": "  embeddings_learn adjust_flag test accuracy\n1                0       False      0.748339\n2               50       False      0.902978",
      "text/html": "<div>\n<style scoped>\n    .dataframe tbody tr th:only-of-type {\n        vertical-align: middle;\n    }\n\n    .dataframe tbody tr th {\n        vertical-align: top;\n    }\n\n    .dataframe thead th {\n        text-align: right;\n    }\n</style>\n<table border=\"1\" class=\"dataframe\">\n  <thead>\n    <tr style=\"text-align: right;\">\n      <th></th>\n      <th>embeddings_learn</th>\n      <th>adjust_flag</th>\n      <th>test accuracy</th>\n    </tr>\n  </thead>\n  <tbody>\n    <tr>\n      <th>1</th>\n      <td>0</td>\n      <td>False</td>\n      <td>0.748339</td>\n    </tr>\n    <tr>\n      <th>2</th>\n      <td>50</td>\n      <td>False</td>\n      <td>0.902978</td>\n    </tr>\n  </tbody>\n</table>\n</div>"
     },
     "execution_count": 38,
     "metadata": {},
     "output_type": "execute_result"
    }
   ],
   "source": [
    "results"
   ],
   "metadata": {
    "collapsed": false,
    "ExecuteTime": {
     "end_time": "2024-01-05T16:36:08.483433400Z",
     "start_time": "2024-01-05T16:36:08.419434500Z"
    }
   }
  },
  {
   "cell_type": "markdown",
   "source": [
    "## Загружаем данные и уточняем граф с помощью флага adjust_flag = True"
   ],
   "metadata": {
    "collapsed": false
   }
  },
  {
   "cell_type": "code",
   "execution_count": 39,
   "outputs": [
    {
     "name": "stderr",
     "output_type": "stream",
     "text": [
      "Processing...\n",
      "Done!\n"
     ]
    }
   ],
   "source": [
    "root = '../data_validation/'\n",
    "name='oil_fields'\n",
    "adjust_flag = True\n",
    "\n",
    "dataset = Graph(root=root + str(name), name=name, transform=T.NormalizeFeatures(), adjust_flag=adjust_flag)"
   ],
   "metadata": {
    "collapsed": false,
    "ExecuteTime": {
     "end_time": "2024-01-05T16:36:40.351167500Z",
     "start_time": "2024-01-05T16:36:23.445464300Z"
    }
   }
  },
  {
   "cell_type": "markdown",
   "source": [
    "### Обучаем классификатор на тренировочных ребрах сначала обучая на атрибутах"
   ],
   "metadata": {
    "collapsed": false
   }
  },
  {
   "cell_type": "code",
   "execution_count": 46,
   "outputs": [
    {
     "name": "stderr",
     "output_type": "stream",
     "text": [
      "C:\\Users\\Полина\\Desktop\\StableGNN\\stable_gnn\\model_link_predict.py:93: UserWarning: To copy construct from a tensor, it is recommended to use sourceTensor.clone().detach() or sourceTensor.clone().detach().requires_grad_(True), rather than torch.tensor(sourceTensor).\n",
      "  emb_norm = torch.nn.functional.normalize(torch.tensor(self.embeddings))\n",
      "C:\\Users\\Полина\\Desktop\\StableGNN\\venv\\lib\\site-packages\\sklearn\\neural_network\\_multilayer_perceptron.py:691: ConvergenceWarning: Stochastic Optimizer: Maximum iterations (100) reached and the optimization hasn't converged yet.\n",
      "  warnings.warn(\n"
     ]
    }
   ],
   "source": [
    "embeddings_learn = 0\n",
    "num_trials = num_of_trials(embeddings_learn)\n",
    "\n",
    "model = ModelLinkPrediction(number_of_trials=num_trials)\n",
    "train_edges, train_negative, test_edges, test_negative = model.train_test_edges(dataset)\n",
    "cl = model.train_cl(train_edges,train_negative)\n"
   ],
   "metadata": {
    "collapsed": false,
    "ExecuteTime": {
     "end_time": "2024-01-05T16:38:10.335889400Z",
     "start_time": "2024-01-05T16:38:08.350895300Z"
    }
   }
  },
  {
   "cell_type": "markdown",
   "source": [
    "### Проведем тестирование и узнаем точность модели для уточненного графа"
   ],
   "metadata": {
    "collapsed": false
   }
  },
  {
   "cell_type": "code",
   "execution_count": 47,
   "outputs": [
    {
     "name": "stdout",
     "output_type": "stream",
     "text": [
      "f1 measure 0.4895833333333334\n"
     ]
    },
    {
     "name": "stderr",
     "output_type": "stream",
     "text": [
      "C:\\Users\\Полина\\Desktop\\StableGNN\\stable_gnn\\model_link_predict.py:116: UserWarning: To copy construct from a tensor, it is recommended to use sourceTensor.clone().detach() or sourceTensor.clone().detach().requires_grad_(True), rather than torch.tensor(sourceTensor).\n",
      "  emb_norm = torch.nn.functional.normalize(torch.tensor(self.embeddings))\n"
     ]
    }
   ],
   "source": [
    "test_accuracy = model.test(cl,test_edges,test_negative)\n",
    "print(\"f1 measure\", test_accuracy)\n",
    "results=pd.concat([results, pd.DataFrame([embeddings_learn,adjust_flag,test_accuracy],index=results.columns).transpose()], ignore_index=True, axis=0)"
   ],
   "metadata": {
    "collapsed": false,
    "ExecuteTime": {
     "end_time": "2024-01-05T16:38:17.476885700Z",
     "start_time": "2024-01-05T16:38:17.412893900Z"
    }
   }
  },
  {
   "cell_type": "markdown",
   "source": [
    "### Проверим точность при обучении векторных представлений"
   ],
   "metadata": {
    "collapsed": false
   }
  },
  {
   "cell_type": "code",
   "execution_count": 48,
   "outputs": [
    {
     "name": "stderr",
     "output_type": "stream",
     "text": [
      "[I 2024-01-05 19:38:24,761] A new study created in memory with name: no-name-03a197f5-94bb-4662-8240-04a882102189\n",
      "[I 2024-01-05 19:38:35,862] Trial 0 finished with value: 3.3235795497894287 and parameters: {'hidden_layer': 32, 'dropout': 0.30000000000000004, 'size of network, number of convs': 1, 'lr': 0.009794583675427977, 'out_layer': 64, 'num_negative_samples': 21, 'alpha': 0.3}. Best is trial 0 with value: 3.3235795497894287.\n",
      "[I 2024-01-05 19:38:44,030] Trial 1 finished with value: 4.4937744140625 and parameters: {'hidden_layer': 128, 'dropout': 0.4, 'size of network, number of convs': 1, 'lr': 0.006936588749113738, 'out_layer': 128, 'num_negative_samples': 11, 'alpha': 0.6}. Best is trial 0 with value: 3.3235795497894287.\n",
      "[I 2024-01-05 19:38:47,504] Trial 2 finished with value: 4.087934494018555 and parameters: {'hidden_layer': 32, 'dropout': 0.30000000000000004, 'size of network, number of convs': 1, 'lr': 0.007823853508227683, 'out_layer': 128, 'num_negative_samples': 1, 'alpha': 0.5}. Best is trial 0 with value: 3.3235795497894287.\n",
      "[I 2024-01-05 19:38:52,557] Trial 3 finished with value: 4.939884662628174 and parameters: {'hidden_layer': 32, 'dropout': 0.2, 'size of network, number of convs': 2, 'lr': 0.006452453987897357, 'out_layer': 32, 'num_negative_samples': 21, 'alpha': 0.7}. Best is trial 0 with value: 3.3235795497894287.\n",
      "[I 2024-01-05 19:38:59,406] Trial 4 finished with value: 4.397993564605713 and parameters: {'hidden_layer': 64, 'dropout': 0.4, 'size of network, number of convs': 2, 'lr': 0.007398881387239629, 'out_layer': 64, 'num_negative_samples': 16, 'alpha': 0.6}. Best is trial 0 with value: 3.3235795497894287.\n",
      "[I 2024-01-05 19:39:07,335] Trial 5 finished with value: 3.045992851257324 and parameters: {'hidden_layer': 128, 'dropout': 0.30000000000000004, 'size of network, number of convs': 1, 'lr': 0.006162537025509524, 'out_layer': 128, 'num_negative_samples': 6, 'alpha': 0.2}. Best is trial 5 with value: 3.045992851257324.\n",
      "[I 2024-01-05 19:39:13,298] Trial 6 finished with value: 2.6025097370147705 and parameters: {'hidden_layer': 128, 'dropout': 0.5, 'size of network, number of convs': 2, 'lr': 0.007908759153063083, 'out_layer': 32, 'num_negative_samples': 11, 'alpha': 0.1}. Best is trial 6 with value: 2.6025097370147705.\n",
      "[I 2024-01-05 19:39:16,803] Trial 7 finished with value: 4.967138290405273 and parameters: {'hidden_layer': 64, 'dropout': 0.30000000000000004, 'size of network, number of convs': 1, 'lr': 0.007601177123152317, 'out_layer': 64, 'num_negative_samples': 6, 'alpha': 0.7}. Best is trial 6 with value: 2.6025097370147705.\n",
      "[I 2024-01-05 19:39:21,264] Trial 8 finished with value: 3.384692430496216 and parameters: {'hidden_layer': 128, 'dropout': 0.4, 'size of network, number of convs': 1, 'lr': 0.00947796092019551, 'out_layer': 128, 'num_negative_samples': 1, 'alpha': 0.3}. Best is trial 6 with value: 2.6025097370147705.\n",
      "[I 2024-01-05 19:39:33,318] Trial 9 finished with value: 3.581223726272583 and parameters: {'hidden_layer': 64, 'dropout': 0.1, 'size of network, number of convs': 3, 'lr': 0.007895964218889846, 'out_layer': 128, 'num_negative_samples': 16, 'alpha': 0.4}. Best is trial 6 with value: 2.6025097370147705.\n",
      "[I 2024-01-05 19:39:39,971] Trial 10 finished with value: 2.5996034145355225 and parameters: {'hidden_layer': 128, 'dropout': 0.5, 'size of network, number of convs': 2, 'lr': 0.005415068397553251, 'out_layer': 32, 'num_negative_samples': 11, 'alpha': 0.1}. Best is trial 10 with value: 2.5996034145355225.\n",
      "[I 2024-01-05 19:39:45,969] Trial 11 finished with value: 2.6121065616607666 and parameters: {'hidden_layer': 128, 'dropout': 0.5, 'size of network, number of convs': 2, 'lr': 0.005004520059452066, 'out_layer': 32, 'num_negative_samples': 11, 'alpha': 0.1}. Best is trial 10 with value: 2.5996034145355225.\n",
      "[I 2024-01-05 19:39:51,969] Trial 12 finished with value: 2.603712558746338 and parameters: {'hidden_layer': 128, 'dropout': 0.5, 'size of network, number of convs': 2, 'lr': 0.005194922424717934, 'out_layer': 32, 'num_negative_samples': 11, 'alpha': 0.1}. Best is trial 10 with value: 2.5996034145355225.\n",
      "[I 2024-01-05 19:39:57,876] Trial 13 finished with value: 2.5954017639160156 and parameters: {'hidden_layer': 128, 'dropout': 0.0, 'size of network, number of convs': 2, 'lr': 0.0057197574280504065, 'out_layer': 32, 'num_negative_samples': 11, 'alpha': 0.1}. Best is trial 13 with value: 2.5954017639160156.\n",
      "[I 2024-01-05 19:40:01,711] Trial 14 finished with value: 7.553130626678467 and parameters: {'hidden_layer': 128, 'dropout': 0.0, 'size of network, number of convs': 3, 'lr': 0.005716350733058509, 'out_layer': 32, 'num_negative_samples': 11, 'alpha': 0.9}. Best is trial 13 with value: 2.5954017639160156.\n",
      "[I 2024-01-05 19:40:05,186] Trial 15 finished with value: 5.71860933303833 and parameters: {'hidden_layer': 128, 'dropout': 0.0, 'size of network, number of convs': 2, 'lr': 0.005685633681015541, 'out_layer': 32, 'num_negative_samples': 11, 'alpha': 0.8}. Best is trial 13 with value: 2.5954017639160156.\n",
      "[I 2024-01-05 19:40:11,183] Trial 16 finished with value: 2.6089024543762207 and parameters: {'hidden_layer': 128, 'dropout': 0.1, 'size of network, number of convs': 2, 'lr': 0.00564902044200495, 'out_layer': 32, 'num_negative_samples': 11, 'alpha': 0.1}. Best is trial 13 with value: 2.5954017639160156.\n",
      "[I 2024-01-05 19:40:17,204] Trial 17 finished with value: 2.598693370819092 and parameters: {'hidden_layer': 128, 'dropout': 0.1, 'size of network, number of convs': 2, 'lr': 0.005064722827986751, 'out_layer': 32, 'num_negative_samples': 11, 'alpha': 0.1}. Best is trial 13 with value: 2.5954017639160156.\n",
      "[I 2024-01-05 19:40:18,944] Trial 18 finished with value: 7.539566516876221 and parameters: {'hidden_layer': 64, 'dropout': 0.1, 'size of network, number of convs': 3, 'lr': 0.005031985972697446, 'out_layer': 32, 'num_negative_samples': 1, 'alpha': 0.9}. Best is trial 13 with value: 2.5954017639160156.\n",
      "[I 2024-01-05 19:40:21,456] Trial 19 finished with value: 5.712055206298828 and parameters: {'hidden_layer': 32, 'dropout': 0.0, 'size of network, number of convs': 2, 'lr': 0.006153374513792063, 'out_layer': 32, 'num_negative_samples': 6, 'alpha': 0.8}. Best is trial 13 with value: 2.5954017639160156.\n",
      "[I 2024-01-05 19:40:30,379] Trial 20 finished with value: 3.597395658493042 and parameters: {'hidden_layer': 128, 'dropout': 0.2, 'size of network, number of convs': 2, 'lr': 0.006021156463853993, 'out_layer': 64, 'num_negative_samples': 21, 'alpha': 0.4}. Best is trial 13 with value: 2.5954017639160156.\n",
      "[I 2024-01-05 19:40:36,402] Trial 21 finished with value: 2.5880022048950195 and parameters: {'hidden_layer': 128, 'dropout': 0.1, 'size of network, number of convs': 2, 'lr': 0.00537397975995367, 'out_layer': 32, 'num_negative_samples': 11, 'alpha': 0.1}. Best is trial 21 with value: 2.5880022048950195.\n",
      "[I 2024-01-05 19:40:42,577] Trial 22 finished with value: 2.6005308628082275 and parameters: {'hidden_layer': 128, 'dropout': 0.1, 'size of network, number of convs': 2, 'lr': 0.005411993886280848, 'out_layer': 32, 'num_negative_samples': 11, 'alpha': 0.1}. Best is trial 21 with value: 2.5880022048950195.\n",
      "[I 2024-01-05 19:40:48,478] Trial 23 finished with value: 2.6069469451904297 and parameters: {'hidden_layer': 128, 'dropout': 0.0, 'size of network, number of convs': 2, 'lr': 0.005018570217304301, 'out_layer': 32, 'num_negative_samples': 11, 'alpha': 0.1}. Best is trial 21 with value: 2.5880022048950195.\n",
      "[I 2024-01-05 19:40:53,443] Trial 24 finished with value: 3.9774317741394043 and parameters: {'hidden_layer': 128, 'dropout': 0.2, 'size of network, number of convs': 2, 'lr': 0.0055005916658230364, 'out_layer': 32, 'num_negative_samples': 16, 'alpha': 0.5}. Best is trial 21 with value: 2.5880022048950195.\n",
      "[I 2024-01-05 19:41:00,085] Trial 25 finished with value: 2.608616352081299 and parameters: {'hidden_layer': 128, 'dropout': 0.1, 'size of network, number of convs': 3, 'lr': 0.005906472709812557, 'out_layer': 32, 'num_negative_samples': 11, 'alpha': 0.1}. Best is trial 21 with value: 2.5880022048950195.\n",
      "[I 2024-01-05 19:41:05,680] Trial 26 finished with value: 2.943453073501587 and parameters: {'hidden_layer': 128, 'dropout': 0.0, 'size of network, number of convs': 2, 'lr': 0.0063537668718137135, 'out_layer': 32, 'num_negative_samples': 11, 'alpha': 0.2}. Best is trial 21 with value: 2.5880022048950195.\n",
      "[I 2024-01-05 19:41:11,674] Trial 27 finished with value: 2.5971643924713135 and parameters: {'hidden_layer': 128, 'dropout': 0.1, 'size of network, number of convs': 2, 'lr': 0.0053442643228101576, 'out_layer': 32, 'num_negative_samples': 11, 'alpha': 0.1}. Best is trial 21 with value: 2.5880022048950195.\n",
      "[I 2024-01-05 19:41:17,411] Trial 28 finished with value: 2.6065258979797363 and parameters: {'hidden_layer': 32, 'dropout': 0.2, 'size of network, number of convs': 2, 'lr': 0.006601238791895711, 'out_layer': 32, 'num_negative_samples': 11, 'alpha': 0.1}. Best is trial 21 with value: 2.5880022048950195.\n",
      "[I 2024-01-05 19:41:27,293] Trial 29 finished with value: 3.254683494567871 and parameters: {'hidden_layer': 64, 'dropout': 0.0, 'size of network, number of convs': 3, 'lr': 0.00581115421658874, 'out_layer': 64, 'num_negative_samples': 21, 'alpha': 0.3}. Best is trial 21 with value: 2.5880022048950195.\n",
      "[I 2024-01-05 19:41:33,604] Trial 30 finished with value: 2.6072330474853516 and parameters: {'hidden_layer': 32, 'dropout': 0.1, 'size of network, number of convs': 2, 'lr': 0.005399187949762003, 'out_layer': 64, 'num_negative_samples': 6, 'alpha': 0.1}. Best is trial 21 with value: 2.5880022048950195.\n",
      "[I 2024-01-05 19:41:39,602] Trial 31 finished with value: 2.6053593158721924 and parameters: {'hidden_layer': 128, 'dropout': 0.1, 'size of network, number of convs': 2, 'lr': 0.005290158906895091, 'out_layer': 32, 'num_negative_samples': 11, 'alpha': 0.1}. Best is trial 21 with value: 2.5880022048950195.\n",
      "[I 2024-01-05 19:41:43,570] Trial 32 finished with value: 4.361279010772705 and parameters: {'hidden_layer': 128, 'dropout': 0.2, 'size of network, number of convs': 2, 'lr': 0.005311133803490033, 'out_layer': 32, 'num_negative_samples': 11, 'alpha': 0.6}. Best is trial 21 with value: 2.5880022048950195.\n",
      "[I 2024-01-05 19:41:49,538] Trial 33 finished with value: 2.6030898094177246 and parameters: {'hidden_layer': 128, 'dropout': 0.1, 'size of network, number of convs': 2, 'lr': 0.005823029681422096, 'out_layer': 32, 'num_negative_samples': 11, 'alpha': 0.1}. Best is trial 21 with value: 2.5880022048950195.\n",
      "[I 2024-01-05 19:41:51,837] Trial 34 finished with value: 3.944701671600342 and parameters: {'hidden_layer': 128, 'dropout': 0.0, 'size of network, number of convs': 2, 'lr': 0.0055001944918950715, 'out_layer': 32, 'num_negative_samples': 1, 'alpha': 0.5}. Best is trial 21 with value: 2.5880022048950195.\n",
      "[I 2024-01-05 19:42:04,420] Trial 35 finished with value: 5.111702919006348 and parameters: {'hidden_layer': 128, 'dropout': 0.2, 'size of network, number of convs': 1, 'lr': 0.006048748173171134, 'out_layer': 128, 'num_negative_samples': 21, 'alpha': 0.7}. Best is trial 21 with value: 2.5880022048950195.\n",
      "[I 2024-01-05 19:42:10,182] Trial 36 finished with value: 2.6004552841186523 and parameters: {'hidden_layer': 32, 'dropout': 0.1, 'size of network, number of convs': 2, 'lr': 0.005263589576216331, 'out_layer': 32, 'num_negative_samples': 11, 'alpha': 0.1}. Best is trial 21 with value: 2.5880022048950195.\n",
      "[I 2024-01-05 19:42:17,018] Trial 37 finished with value: 2.942598581314087 and parameters: {'hidden_layer': 128, 'dropout': 0.0, 'size of network, number of convs': 2, 'lr': 0.006847485198960254, 'out_layer': 32, 'num_negative_samples': 16, 'alpha': 0.2}. Best is trial 21 with value: 2.5880022048950195.\n",
      "[I 2024-01-05 19:42:24,024] Trial 38 finished with value: 4.540952682495117 and parameters: {'hidden_layer': 128, 'dropout': 0.1, 'size of network, number of convs': 1, 'lr': 0.006405340249813412, 'out_layer': 128, 'num_negative_samples': 11, 'alpha': 0.6}. Best is trial 21 with value: 2.5880022048950195.\n",
      "[I 2024-01-05 19:42:29,228] Trial 39 finished with value: 3.278810501098633 and parameters: {'hidden_layer': 64, 'dropout': 0.30000000000000004, 'size of network, number of convs': 2, 'lr': 0.005588531455683302, 'out_layer': 64, 'num_negative_samples': 11, 'alpha': 0.3}. Best is trial 21 with value: 2.5880022048950195.\n",
      "[I 2024-01-05 19:42:32,465] Trial 40 finished with value: 2.619597911834717 and parameters: {'hidden_layer': 128, 'dropout': 0.2, 'size of network, number of convs': 1, 'lr': 0.00596053012410678, 'out_layer': 32, 'num_negative_samples': 1, 'alpha': 0.1}. Best is trial 21 with value: 2.5880022048950195.\n",
      "[I 2024-01-05 19:42:37,578] Trial 41 finished with value: 2.6189725399017334 and parameters: {'hidden_layer': 128, 'dropout': 0.4, 'size of network, number of convs': 2, 'lr': 0.00522824710932111, 'out_layer': 32, 'num_negative_samples': 11, 'alpha': 0.1}. Best is trial 21 with value: 2.5880022048950195.\n",
      "[I 2024-01-05 19:42:42,636] Trial 42 finished with value: 2.6102538108825684 and parameters: {'hidden_layer': 128, 'dropout': 0.1, 'size of network, number of convs': 2, 'lr': 0.00503182700108495, 'out_layer': 32, 'num_negative_samples': 11, 'alpha': 0.1}. Best is trial 21 with value: 2.5880022048950195.\n",
      "[I 2024-01-05 19:42:46,536] Trial 43 finished with value: 3.5792229175567627 and parameters: {'hidden_layer': 128, 'dropout': 0.4, 'size of network, number of convs': 2, 'lr': 0.005550546902611362, 'out_layer': 32, 'num_negative_samples': 11, 'alpha': 0.4}. Best is trial 21 with value: 2.5880022048950195.\n",
      "[I 2024-01-05 19:42:51,632] Trial 44 finished with value: 2.6012167930603027 and parameters: {'hidden_layer': 128, 'dropout': 0.30000000000000004, 'size of network, number of convs': 2, 'lr': 0.005762454758198734, 'out_layer': 32, 'num_negative_samples': 11, 'alpha': 0.1}. Best is trial 21 with value: 2.5880022048950195.\n",
      "[I 2024-01-05 19:42:56,788] Trial 45 finished with value: 4.957205295562744 and parameters: {'hidden_layer': 128, 'dropout': 0.5, 'size of network, number of convs': 2, 'lr': 0.005415497685409359, 'out_layer': 128, 'num_negative_samples': 6, 'alpha': 0.7}. Best is trial 21 with value: 2.5880022048950195.\n",
      "[I 2024-01-05 19:42:59,453] Trial 46 finished with value: 7.512551307678223 and parameters: {'hidden_layer': 128, 'dropout': 0.0, 'size of network, number of convs': 2, 'lr': 0.006213930553196775, 'out_layer': 32, 'num_negative_samples': 16, 'alpha': 0.9}. Best is trial 21 with value: 2.5880022048950195.\n",
      "[I 2024-01-05 19:43:04,213] Trial 47 finished with value: 2.599064350128174 and parameters: {'hidden_layer': 64, 'dropout': 0.4, 'size of network, number of convs': 3, 'lr': 0.005194160377457277, 'out_layer': 32, 'num_negative_samples': 11, 'alpha': 0.1}. Best is trial 21 with value: 2.5880022048950195.\n",
      "[I 2024-01-05 19:43:07,998] Trial 48 finished with value: 5.684124946594238 and parameters: {'hidden_layer': 64, 'dropout': 0.4, 'size of network, number of convs': 3, 'lr': 0.005167325420234531, 'out_layer': 32, 'num_negative_samples': 11, 'alpha': 0.8}. Best is trial 21 with value: 2.5880022048950195.\n",
      "[I 2024-01-05 19:43:20,102] Trial 49 finished with value: 2.604459762573242 and parameters: {'hidden_layer': 64, 'dropout': 0.30000000000000004, 'size of network, number of convs': 3, 'lr': 0.005640989843379975, 'out_layer': 128, 'num_negative_samples': 11, 'alpha': 0.1}. Best is trial 21 with value: 2.5880022048950195.\n",
      "C:\\Users\\Полина\\Desktop\\StableGNN\\venv\\lib\\site-packages\\sklearn\\neural_network\\_multilayer_perceptron.py:691: ConvergenceWarning: Stochastic Optimizer: Maximum iterations (100) reached and the optimization hasn't converged yet.\n",
      "  warnings.warn(\n"
     ]
    }
   ],
   "source": [
    "embeddings_learn = 50\n",
    "num_trials = num_of_trials(embeddings_learn)\n",
    "\n",
    "model = ModelLinkPrediction(number_of_trials=num_trials)\n",
    "train_edges, train_negative, test_edges, test_negative = model.train_test_edges(dataset)\n",
    "cl = model.train_cl(train_edges,train_negative)\n"
   ],
   "metadata": {
    "collapsed": false,
    "ExecuteTime": {
     "end_time": "2024-01-05T16:43:31.343168900Z",
     "start_time": "2024-01-05T16:38:24.715440900Z"
    }
   }
  },
  {
   "cell_type": "markdown",
   "source": [
    "### Проведем тестирование и узнаем точность модели для уточненного графа"
   ],
   "metadata": {
    "collapsed": false
   }
  },
  {
   "cell_type": "code",
   "execution_count": 49,
   "outputs": [
    {
     "name": "stdout",
     "output_type": "stream",
     "text": [
      "f1 measure 0.5714285714285714\n"
     ]
    }
   ],
   "source": [
    "test_accuracy = model.test(cl,test_edges,test_negative)\n",
    "print(\"f1 measure\", test_accuracy)\n",
    "results=pd.concat([results, pd.DataFrame([embeddings_learn,adjust_flag,test_accuracy],index=results.columns).transpose()], ignore_index=True, axis=0)"
   ],
   "metadata": {
    "collapsed": false,
    "ExecuteTime": {
     "end_time": "2024-01-05T16:43:31.432171800Z",
     "start_time": "2024-01-05T16:43:31.347181600Z"
    }
   }
  },
  {
   "cell_type": "markdown",
   "source": [
    "# Сводная таблица по точностям"
   ],
   "metadata": {
    "collapsed": false
   }
  },
  {
   "cell_type": "code",
   "execution_count": 50,
   "outputs": [
    {
     "data": {
      "text/plain": "  embeddings_learn adjust_flag test accuracy\n0                0       False      0.748339\n1               50       False      0.902978\n2                0        True      0.489583\n3               50        True      0.571429",
      "text/html": "<div>\n<style scoped>\n    .dataframe tbody tr th:only-of-type {\n        vertical-align: middle;\n    }\n\n    .dataframe tbody tr th {\n        vertical-align: top;\n    }\n\n    .dataframe thead th {\n        text-align: right;\n    }\n</style>\n<table border=\"1\" class=\"dataframe\">\n  <thead>\n    <tr style=\"text-align: right;\">\n      <th></th>\n      <th>embeddings_learn</th>\n      <th>adjust_flag</th>\n      <th>test accuracy</th>\n    </tr>\n  </thead>\n  <tbody>\n    <tr>\n      <th>0</th>\n      <td>0</td>\n      <td>False</td>\n      <td>0.748339</td>\n    </tr>\n    <tr>\n      <th>1</th>\n      <td>50</td>\n      <td>False</td>\n      <td>0.902978</td>\n    </tr>\n    <tr>\n      <th>2</th>\n      <td>0</td>\n      <td>True</td>\n      <td>0.489583</td>\n    </tr>\n    <tr>\n      <th>3</th>\n      <td>50</td>\n      <td>True</td>\n      <td>0.571429</td>\n    </tr>\n  </tbody>\n</table>\n</div>"
     },
     "execution_count": 50,
     "metadata": {},
     "output_type": "execute_result"
    }
   ],
   "source": [
    "results"
   ],
   "metadata": {
    "collapsed": false,
    "ExecuteTime": {
     "end_time": "2024-01-05T16:43:31.453168300Z",
     "start_time": "2024-01-05T16:43:31.400177Z"
    }
   }
  },
  {
   "cell_type": "code",
   "execution_count": null,
   "outputs": [],
   "source": [],
   "metadata": {
    "collapsed": false
   }
  }
 ],
 "metadata": {
  "kernelspec": {
   "display_name": "Python 3",
   "language": "python",
   "name": "python3"
  },
  "language_info": {
   "codemirror_mode": {
    "name": "ipython",
    "version": 2
   },
   "file_extension": ".py",
   "mimetype": "text/x-python",
   "name": "python",
   "nbconvert_exporter": "python",
   "pygments_lexer": "ipython2",
   "version": "2.7.6"
  }
 },
 "nbformat": 4,
 "nbformat_minor": 0
}
