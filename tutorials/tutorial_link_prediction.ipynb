{
 "cells": [
  {
   "cell_type": "markdown",
   "source": [
    "# Оптимизация Сети Добычи\n",
    "модель для предсказания оптимальных связей между нефтяными и газовыми скважинами и центрами сбора или переработки. Здесь узлы - это скважины, а рёбра - логистические или технологические связи. Каждому месторождению соответствует вектор атрибутов: название, страна, регион месторождения, тектонический режим, тип углеводорода, структурные свойства, литология, литологический период, проницаемость, долгота и широта, валовая прибыль."
   ],
   "metadata": {
    "collapsed": false
   }
  },
  {
   "cell_type": "code",
   "execution_count": 1,
   "outputs": [],
   "source": [
    "import torch_geometric.transforms as T\n",
    "from stable_gnn.model_link_predict import ModelLinkPrediction\n",
    "from stable_gnn.graph import Graph"
   ],
   "metadata": {
    "collapsed": false,
    "ExecuteTime": {
     "end_time": "2023-12-18T18:34:44.647613700Z",
     "start_time": "2023-12-18T18:34:41.476975Z"
    }
   }
  },
  {
   "cell_type": "markdown",
   "source": [],
   "metadata": {
    "collapsed": false
   }
  },
  {
   "cell_type": "markdown",
   "source": [
    "## Загружаем данные исходного графа"
   ],
   "metadata": {
    "collapsed": false
   }
  },
  {
   "cell_type": "code",
   "execution_count": 7,
   "outputs": [
    {
     "name": "stderr",
     "output_type": "stream",
     "text": [
      "Processing...\n",
      "Done!\n"
     ]
    }
   ],
   "source": [
    "root = '../data_validation/'\n",
    "name = 'oil_fields'\n",
    "adjust_flag = False\n",
    "dataset = Graph(root=root + str(name), name=name, transform=T.NormalizeFeatures(),adjust_flag=adjust_flag)"
   ],
   "metadata": {
    "collapsed": false,
    "ExecuteTime": {
     "end_time": "2023-12-18T19:28:00.681785400Z",
     "start_time": "2023-12-18T19:28:00.649778300Z"
    }
   }
  },
  {
   "cell_type": "markdown",
   "source": [
    "## Обучаем модель link prediction\n",
    "### Разбиене данных на train test"
   ],
   "metadata": {
    "collapsed": false
   }
  },
  {
   "cell_type": "code",
   "execution_count": 30,
   "outputs": [],
   "source": [
    "model = ModelLinkPrediction(number_of_trials=50)\n",
    "train_edges, train_negative, test_edges, test_negative = model.train_test_edges(dataset)"
   ],
   "metadata": {
    "collapsed": false,
    "ExecuteTime": {
     "end_time": "2023-12-18T13:47:05.786117600Z",
     "start_time": "2023-12-18T13:47:05.303590700Z"
    }
   }
  },
  {
   "cell_type": "markdown",
   "source": [
    "### Обучаем классификатор на тренировочных ребрах, который выдает 1 если ребро есть и 0 -- если нет"
   ],
   "metadata": {
    "collapsed": false
   }
  },
  {
   "cell_type": "code",
   "execution_count": 31,
   "outputs": [
    {
     "name": "stderr",
     "output_type": "stream",
     "text": [
      "\u001B[32m[I 2023-12-18 16:47:05,967]\u001B[0m A new study created in memory with name: no-name-fcbe11b4-ac46-4185-87e0-6ebb50b34124\u001B[0m\n",
      "\u001B[32m[I 2023-12-18 16:47:12,032]\u001B[0m Trial 0 finished with value: 4.769160747528076 and parameters: {'hidden_layer': 128, 'dropout': 0.1, 'size of network, number of convs': 3, 'lr': 0.006525558158234442, 'out_layer': 64, 'num_negative_samples': 11, 'alpha': 0.7}. Best is trial 0 with value: 4.769160747528076.\u001B[0m\n",
      "\u001B[32m[I 2023-12-18 16:47:17,560]\u001B[0m Trial 1 finished with value: 4.939577102661133 and parameters: {'hidden_layer': 32, 'dropout': 0.5, 'size of network, number of convs': 2, 'lr': 0.007343418027004721, 'out_layer': 64, 'num_negative_samples': 16, 'alpha': 0.8}. Best is trial 0 with value: 4.769160747528076.\u001B[0m\n",
      "\u001B[32m[I 2023-12-18 16:47:24,488]\u001B[0m Trial 2 finished with value: 4.620323181152344 and parameters: {'hidden_layer': 128, 'dropout': 0.4, 'size of network, number of convs': 1, 'lr': 0.009083136508257546, 'out_layer': 64, 'num_negative_samples': 6, 'alpha': 0.5}. Best is trial 2 with value: 4.620323181152344.\u001B[0m\n",
      "\u001B[32m[I 2023-12-18 16:47:33,276]\u001B[0m Trial 3 finished with value: 4.561476707458496 and parameters: {'hidden_layer': 64, 'dropout': 0.4, 'size of network, number of convs': 1, 'lr': 0.008532184162653937, 'out_layer': 128, 'num_negative_samples': 1, 'alpha': 0.4}. Best is trial 3 with value: 4.561476707458496.\u001B[0m\n",
      "\u001B[32m[I 2023-12-18 16:47:44,803]\u001B[0m Trial 4 finished with value: 3.922971248626709 and parameters: {'hidden_layer': 128, 'dropout': 0.30000000000000004, 'size of network, number of convs': 3, 'lr': 0.008710030422846925, 'out_layer': 32, 'num_negative_samples': 16, 'alpha': 0.2}. Best is trial 4 with value: 3.922971248626709.\u001B[0m\n",
      "\u001B[32m[I 2023-12-18 16:47:48,679]\u001B[0m Trial 5 finished with value: 5.329695224761963 and parameters: {'hidden_layer': 128, 'dropout': 0.4, 'size of network, number of convs': 2, 'lr': 0.007129213643711984, 'out_layer': 32, 'num_negative_samples': 16, 'alpha': 0.9}. Best is trial 4 with value: 3.922971248626709.\u001B[0m\n",
      "\u001B[32m[I 2023-12-18 16:48:01,202]\u001B[0m Trial 6 finished with value: 3.383517026901245 and parameters: {'hidden_layer': 32, 'dropout': 0.1, 'size of network, number of convs': 2, 'lr': 0.009315954021166167, 'out_layer': 64, 'num_negative_samples': 1, 'alpha': 0.1}. Best is trial 6 with value: 3.383517026901245.\u001B[0m\n",
      "\u001B[32m[I 2023-12-18 16:48:11,241]\u001B[0m Trial 7 finished with value: 4.274352073669434 and parameters: {'hidden_layer': 64, 'dropout': 0.2, 'size of network, number of convs': 3, 'lr': 0.005133279847993977, 'out_layer': 128, 'num_negative_samples': 11, 'alpha': 0.3}. Best is trial 6 with value: 3.383517026901245.\u001B[0m\n",
      "\u001B[32m[I 2023-12-18 16:48:15,526]\u001B[0m Trial 8 finished with value: 4.961498737335205 and parameters: {'hidden_layer': 128, 'dropout': 0.0, 'size of network, number of convs': 2, 'lr': 0.006859386405266278, 'out_layer': 32, 'num_negative_samples': 16, 'alpha': 0.8}. Best is trial 6 with value: 3.383517026901245.\u001B[0m\n",
      "\u001B[32m[I 2023-12-18 16:48:19,988]\u001B[0m Trial 9 finished with value: 5.320252418518066 and parameters: {'hidden_layer': 32, 'dropout': 0.0, 'size of network, number of convs': 2, 'lr': 0.005573056859022248, 'out_layer': 128, 'num_negative_samples': 1, 'alpha': 0.9}. Best is trial 6 with value: 3.383517026901245.\u001B[0m\n",
      "\u001B[32m[I 2023-12-18 16:48:32,819]\u001B[0m Trial 10 finished with value: 3.3664841651916504 and parameters: {'hidden_layer': 32, 'dropout': 0.2, 'size of network, number of convs': 2, 'lr': 0.009891599508191674, 'out_layer': 64, 'num_negative_samples': 21, 'alpha': 0.1}. Best is trial 10 with value: 3.3664841651916504.\u001B[0m\n",
      "\u001B[32m[I 2023-12-18 16:48:43,778]\u001B[0m Trial 11 finished with value: 3.374105930328369 and parameters: {'hidden_layer': 32, 'dropout': 0.2, 'size of network, number of convs': 2, 'lr': 0.009789648597773364, 'out_layer': 64, 'num_negative_samples': 21, 'alpha': 0.1}. Best is trial 10 with value: 3.3664841651916504.\u001B[0m\n",
      "\u001B[32m[I 2023-12-18 16:48:55,208]\u001B[0m Trial 12 finished with value: 3.383917808532715 and parameters: {'hidden_layer': 32, 'dropout': 0.2, 'size of network, number of convs': 2, 'lr': 0.009773162445175565, 'out_layer': 64, 'num_negative_samples': 21, 'alpha': 0.1}. Best is trial 10 with value: 3.3664841651916504.\u001B[0m\n",
      "\u001B[32m[I 2023-12-18 16:49:07,001]\u001B[0m Trial 13 finished with value: 3.37812876701355 and parameters: {'hidden_layer': 32, 'dropout': 0.30000000000000004, 'size of network, number of convs': 2, 'lr': 0.008147980702811709, 'out_layer': 64, 'num_negative_samples': 21, 'alpha': 0.1}. Best is trial 10 with value: 3.3664841651916504.\u001B[0m\n",
      "\u001B[32m[I 2023-12-18 16:49:12,904]\u001B[0m Trial 14 finished with value: 4.657228469848633 and parameters: {'hidden_layer': 32, 'dropout': 0.1, 'size of network, number of convs': 2, 'lr': 0.00996358650636147, 'out_layer': 64, 'num_negative_samples': 21, 'alpha': 0.6}. Best is trial 10 with value: 3.3664841651916504.\u001B[0m\n",
      "\u001B[32m[I 2023-12-18 16:49:23,722]\u001B[0m Trial 15 finished with value: 3.399245023727417 and parameters: {'hidden_layer': 32, 'dropout': 0.2, 'size of network, number of convs': 1, 'lr': 0.008156940189211337, 'out_layer': 64, 'num_negative_samples': 21, 'alpha': 0.1}. Best is trial 10 with value: 3.3664841651916504.\u001B[0m\n",
      "\u001B[32m[I 2023-12-18 16:49:34,384]\u001B[0m Trial 16 finished with value: 3.3724660873413086 and parameters: {'hidden_layer': 32, 'dropout': 0.30000000000000004, 'size of network, number of convs': 2, 'lr': 0.009241610848277047, 'out_layer': 64, 'num_negative_samples': 21, 'alpha': 0.1}. Best is trial 10 with value: 3.3664841651916504.\u001B[0m\n",
      "\u001B[32m[I 2023-12-18 16:49:40,381]\u001B[0m Trial 17 finished with value: 4.696327209472656 and parameters: {'hidden_layer': 64, 'dropout': 0.30000000000000004, 'size of network, number of convs': 2, 'lr': 0.009276433466318951, 'out_layer': 64, 'num_negative_samples': 6, 'alpha': 0.6}. Best is trial 10 with value: 3.3664841651916504.\u001B[0m\n",
      "\u001B[32m[I 2023-12-18 16:49:46,374]\u001B[0m Trial 18 finished with value: 4.917710304260254 and parameters: {'hidden_layer': 32, 'dropout': 0.5, 'size of network, number of convs': 1, 'lr': 0.007900985643667327, 'out_layer': 128, 'num_negative_samples': 21, 'alpha': 0.7}. Best is trial 10 with value: 3.3664841651916504.\u001B[0m\n",
      "\u001B[32m[I 2023-12-18 16:49:53,559]\u001B[0m Trial 19 finished with value: 4.4429850578308105 and parameters: {'hidden_layer': 32, 'dropout': 0.30000000000000004, 'size of network, number of convs': 3, 'lr': 0.00877267447796653, 'out_layer': 32, 'num_negative_samples': 21, 'alpha': 0.4}. Best is trial 10 with value: 3.3664841651916504.\u001B[0m\n",
      "\u001B[32m[I 2023-12-18 16:50:03,731]\u001B[0m Trial 20 finished with value: 3.913313865661621 and parameters: {'hidden_layer': 64, 'dropout': 0.1, 'size of network, number of convs': 2, 'lr': 0.006113157302616599, 'out_layer': 64, 'num_negative_samples': 21, 'alpha': 0.2}. Best is trial 10 with value: 3.3664841651916504.\u001B[0m\n",
      "\u001B[32m[I 2023-12-18 16:50:15,147]\u001B[0m Trial 21 finished with value: 3.378248691558838 and parameters: {'hidden_layer': 32, 'dropout': 0.2, 'size of network, number of convs': 2, 'lr': 0.009560078160372576, 'out_layer': 64, 'num_negative_samples': 21, 'alpha': 0.1}. Best is trial 10 with value: 3.3664841651916504.\u001B[0m\n",
      "\u001B[32m[I 2023-12-18 16:50:28,183]\u001B[0m Trial 22 finished with value: 3.371605396270752 and parameters: {'hidden_layer': 32, 'dropout': 0.2, 'size of network, number of convs': 2, 'lr': 0.009977155890215287, 'out_layer': 64, 'num_negative_samples': 21, 'alpha': 0.1}. Best is trial 10 with value: 3.3664841651916504.\u001B[0m\n",
      "\u001B[32m[I 2023-12-18 16:50:40,755]\u001B[0m Trial 23 finished with value: 3.38930606842041 and parameters: {'hidden_layer': 32, 'dropout': 0.30000000000000004, 'size of network, number of convs': 2, 'lr': 0.009078458481078258, 'out_layer': 64, 'num_negative_samples': 21, 'alpha': 0.1}. Best is trial 10 with value: 3.3664841651916504.\u001B[0m\n",
      "\u001B[32m[I 2023-12-18 16:50:48,575]\u001B[0m Trial 24 finished with value: 4.578268527984619 and parameters: {'hidden_layer': 32, 'dropout': 0.4, 'size of network, number of convs': 2, 'lr': 0.009920395985632663, 'out_layer': 64, 'num_negative_samples': 11, 'alpha': 0.5}. Best is trial 10 with value: 3.3664841651916504.\u001B[0m\n",
      "\u001B[32m[I 2023-12-18 16:51:00,284]\u001B[0m Trial 25 finished with value: 4.258641719818115 and parameters: {'hidden_layer': 32, 'dropout': 0.2, 'size of network, number of convs': 2, 'lr': 0.009440335382561803, 'out_layer': 64, 'num_negative_samples': 6, 'alpha': 0.3}. Best is trial 10 with value: 3.3664841651916504.\u001B[0m\n",
      "\u001B[32m[I 2023-12-18 16:51:13,538]\u001B[0m Trial 26 finished with value: 3.3703384399414062 and parameters: {'hidden_layer': 32, 'dropout': 0.1, 'size of network, number of convs': 2, 'lr': 0.00903432562197647, 'out_layer': 64, 'num_negative_samples': 21, 'alpha': 0.1}. Best is trial 10 with value: 3.3664841651916504.\u001B[0m\n",
      "\u001B[32m[I 2023-12-18 16:51:24,815]\u001B[0m Trial 27 finished with value: 3.3790974617004395 and parameters: {'hidden_layer': 32, 'dropout': 0.1, 'size of network, number of convs': 2, 'lr': 0.008449684436732817, 'out_layer': 64, 'num_negative_samples': 21, 'alpha': 0.1}. Best is trial 10 with value: 3.3664841651916504.\u001B[0m\n",
      "\u001B[32m[I 2023-12-18 16:51:37,720]\u001B[0m Trial 28 finished with value: 3.351825714111328 and parameters: {'hidden_layer': 32, 'dropout': 0.0, 'size of network, number of convs': 3, 'lr': 0.008979246923675499, 'out_layer': 128, 'num_negative_samples': 21, 'alpha': 0.1}. Best is trial 28 with value: 3.351825714111328.\u001B[0m\n",
      "\u001B[32m[I 2023-12-18 16:51:43,257]\u001B[0m Trial 29 finished with value: 4.782923698425293 and parameters: {'hidden_layer': 64, 'dropout': 0.0, 'size of network, number of convs': 3, 'lr': 0.007814691201985347, 'out_layer': 128, 'num_negative_samples': 11, 'alpha': 0.7}. Best is trial 28 with value: 3.351825714111328.\u001B[0m\n",
      "\u001B[32m[I 2023-12-18 16:51:54,898]\u001B[0m Trial 30 finished with value: 3.375565767288208 and parameters: {'hidden_layer': 128, 'dropout': 0.0, 'size of network, number of convs': 3, 'lr': 0.00872288218706153, 'out_layer': 128, 'num_negative_samples': 21, 'alpha': 0.1}. Best is trial 28 with value: 3.351825714111328.\u001B[0m\n",
      "\u001B[32m[I 2023-12-18 16:52:05,678]\u001B[0m Trial 31 finished with value: 3.383653163909912 and parameters: {'hidden_layer': 32, 'dropout': 0.1, 'size of network, number of convs': 3, 'lr': 0.009628949860419157, 'out_layer': 128, 'num_negative_samples': 21, 'alpha': 0.1}. Best is trial 28 with value: 3.351825714111328.\u001B[0m\n",
      "\u001B[32m[I 2023-12-18 16:52:10,154]\u001B[0m Trial 32 finished with value: 4.95589542388916 and parameters: {'hidden_layer': 32, 'dropout': 0.0, 'size of network, number of convs': 3, 'lr': 0.00897858941924438, 'out_layer': 128, 'num_negative_samples': 21, 'alpha': 0.8}. Best is trial 28 with value: 3.351825714111328.\u001B[0m\n",
      "\u001B[32m[I 2023-12-18 16:52:20,395]\u001B[0m Trial 33 finished with value: 3.386801242828369 and parameters: {'hidden_layer': 32, 'dropout': 0.1, 'size of network, number of convs': 3, 'lr': 0.009563259288709377, 'out_layer': 64, 'num_negative_samples': 21, 'alpha': 0.1}. Best is trial 28 with value: 3.351825714111328.\u001B[0m\n",
      "\u001B[32m[I 2023-12-18 16:52:27,169]\u001B[0m Trial 34 finished with value: 4.728105545043945 and parameters: {'hidden_layer': 32, 'dropout': 0.1, 'size of network, number of convs': 1, 'lr': 0.007564886625880018, 'out_layer': 128, 'num_negative_samples': 6, 'alpha': 0.5}. Best is trial 28 with value: 3.351825714111328.\u001B[0m\n",
      "\u001B[32m[I 2023-12-18 16:52:34,072]\u001B[0m Trial 35 finished with value: 4.44020414352417 and parameters: {'hidden_layer': 32, 'dropout': 0.1, 'size of network, number of convs': 3, 'lr': 0.008982916372545193, 'out_layer': 32, 'num_negative_samples': 1, 'alpha': 0.4}. Best is trial 28 with value: 3.351825714111328.\u001B[0m\n",
      "\u001B[32m[I 2023-12-18 16:52:45,033]\u001B[0m Trial 36 finished with value: 4.0041351318359375 and parameters: {'hidden_layer': 128, 'dropout': 0.0, 'size of network, number of convs': 1, 'lr': 0.00849824707848778, 'out_layer': 64, 'num_negative_samples': 16, 'alpha': 0.2}. Best is trial 28 with value: 3.351825714111328.\u001B[0m\n",
      "\u001B[32m[I 2023-12-18 16:52:56,281]\u001B[0m Trial 37 finished with value: 3.3605575561523438 and parameters: {'hidden_layer': 32, 'dropout': 0.2, 'size of network, number of convs': 2, 'lr': 0.009456252078966049, 'out_layer': 64, 'num_negative_samples': 21, 'alpha': 0.1}. Best is trial 28 with value: 3.351825714111328.\u001B[0m\n",
      "\u001B[32m[I 2023-12-18 16:53:00,211]\u001B[0m Trial 38 finished with value: 5.350614547729492 and parameters: {'hidden_layer': 64, 'dropout': 0.2, 'size of network, number of convs': 2, 'lr': 0.008178042644248627, 'out_layer': 32, 'num_negative_samples': 11, 'alpha': 0.9}. Best is trial 28 with value: 3.351825714111328.\u001B[0m\n",
      "\u001B[32m[I 2023-12-18 16:53:09,698]\u001B[0m Trial 39 finished with value: 4.266849040985107 and parameters: {'hidden_layer': 128, 'dropout': 0.0, 'size of network, number of convs': 3, 'lr': 0.008862683136488265, 'out_layer': 128, 'num_negative_samples': 1, 'alpha': 0.3}. Best is trial 28 with value: 3.351825714111328.\u001B[0m\n",
      "\u001B[32m[I 2023-12-18 16:53:15,169]\u001B[0m Trial 40 finished with value: 4.968770980834961 and parameters: {'hidden_layer': 32, 'dropout': 0.1, 'size of network, number of convs': 2, 'lr': 0.009187179952602318, 'out_layer': 64, 'num_negative_samples': 16, 'alpha': 0.8}. Best is trial 28 with value: 3.351825714111328.\u001B[0m\n",
      "\u001B[32m[I 2023-12-18 16:53:26,867]\u001B[0m Trial 41 finished with value: 3.367323637008667 and parameters: {'hidden_layer': 32, 'dropout': 0.2, 'size of network, number of convs': 2, 'lr': 0.009457887247991133, 'out_layer': 64, 'num_negative_samples': 21, 'alpha': 0.1}. Best is trial 28 with value: 3.351825714111328.\u001B[0m\n",
      "\u001B[32m[I 2023-12-18 16:53:37,287]\u001B[0m Trial 42 finished with value: 3.371344566345215 and parameters: {'hidden_layer': 32, 'dropout': 0.2, 'size of network, number of convs': 2, 'lr': 0.009433722022956576, 'out_layer': 64, 'num_negative_samples': 21, 'alpha': 0.1}. Best is trial 28 with value: 3.351825714111328.\u001B[0m\n",
      "\u001B[32m[I 2023-12-18 16:53:48,262]\u001B[0m Trial 43 finished with value: 3.3672125339508057 and parameters: {'hidden_layer': 32, 'dropout': 0.2, 'size of network, number of convs': 2, 'lr': 0.009666695909587861, 'out_layer': 64, 'num_negative_samples': 21, 'alpha': 0.1}. Best is trial 28 with value: 3.351825714111328.\u001B[0m\n",
      "\u001B[32m[I 2023-12-18 16:53:58,693]\u001B[0m Trial 44 finished with value: 3.3840599060058594 and parameters: {'hidden_layer': 32, 'dropout': 0.4, 'size of network, number of convs': 2, 'lr': 0.009722235883424182, 'out_layer': 64, 'num_negative_samples': 21, 'alpha': 0.1}. Best is trial 28 with value: 3.351825714111328.\u001B[0m\n",
      "\u001B[32m[I 2023-12-18 16:54:04,841]\u001B[0m Trial 45 finished with value: 4.66655158996582 and parameters: {'hidden_layer': 32, 'dropout': 0.2, 'size of network, number of convs': 2, 'lr': 0.009375928478164989, 'out_layer': 64, 'num_negative_samples': 21, 'alpha': 0.6}. Best is trial 28 with value: 3.351825714111328.\u001B[0m\n",
      "\u001B[32m[I 2023-12-18 16:54:16,279]\u001B[0m Trial 46 finished with value: 3.3737778663635254 and parameters: {'hidden_layer': 32, 'dropout': 0.30000000000000004, 'size of network, number of convs': 2, 'lr': 0.009718391718840836, 'out_layer': 32, 'num_negative_samples': 21, 'alpha': 0.1}. Best is trial 28 with value: 3.351825714111328.\u001B[0m\n",
      "\u001B[32m[I 2023-12-18 16:54:20,656]\u001B[0m Trial 47 finished with value: 5.533569812774658 and parameters: {'hidden_layer': 128, 'dropout': 0.2, 'size of network, number of convs': 1, 'lr': 0.006745699762776588, 'out_layer': 128, 'num_negative_samples': 6, 'alpha': 0.9}. Best is trial 28 with value: 3.351825714111328.\u001B[0m\n",
      "\u001B[32m[I 2023-12-18 16:54:31,771]\u001B[0m Trial 48 finished with value: 3.3680813312530518 and parameters: {'hidden_layer': 32, 'dropout': 0.5, 'size of network, number of convs': 2, 'lr': 0.009986156694814953, 'out_layer': 64, 'num_negative_samples': 1, 'alpha': 0.1}. Best is trial 28 with value: 3.351825714111328.\u001B[0m\n",
      "\u001B[32m[I 2023-12-18 16:54:38,017]\u001B[0m Trial 49 finished with value: 4.765384674072266 and parameters: {'hidden_layer': 32, 'dropout': 0.30000000000000004, 'size of network, number of convs': 2, 'lr': 0.009445089021215127, 'out_layer': 64, 'num_negative_samples': 16, 'alpha': 0.7}. Best is trial 28 with value: 3.351825714111328.\u001B[0m\n",
      "C:\\Users\\user\\Desktop\\StableGNN\\venv\\lib\\site-packages\\sklearn\\neural_network\\_multilayer_perceptron.py:692: ConvergenceWarning: Stochastic Optimizer: Maximum iterations (100) reached and the optimization hasn't converged yet.\n",
      "  warnings.warn(\n"
     ]
    }
   ],
   "source": [
    "cl = model.train_cl(train_edges,train_negative)"
   ],
   "metadata": {
    "collapsed": false,
    "ExecuteTime": {
     "end_time": "2023-12-18T13:55:00.469701800Z",
     "start_time": "2023-12-18T13:47:05.967169500Z"
    }
   }
  },
  {
   "cell_type": "markdown",
   "source": [
    "### Проведем тестирование и узнаем точность модели"
   ],
   "metadata": {
    "collapsed": false
   }
  },
  {
   "cell_type": "markdown",
   "source": [],
   "metadata": {
    "collapsed": false
   }
  },
  {
   "cell_type": "code",
   "execution_count": 32,
   "outputs": [
    {
     "name": "stdout",
     "output_type": "stream",
     "text": [
      "f1 measure 0.9718341095586605\n"
     ]
    }
   ],
   "source": [
    "print(\"f1 measure\", (model.test(cl,test_edges,test_negative)))"
   ],
   "metadata": {
    "collapsed": false,
    "ExecuteTime": {
     "end_time": "2023-12-18T13:55:00.617729500Z",
     "start_time": "2023-12-18T13:55:00.469701800Z"
    }
   }
  },
  {
   "cell_type": "code",
   "execution_count": 33,
   "outputs": [
    {
     "name": "stdout",
     "output_type": "stream",
     "text": [
      "0.89542854989954 0.04239351078946188\n"
     ]
    }
   ],
   "source": [
    "import numpy as np\n",
    "accs = [0.8967798853109836, 0.8383181621153013, 0.8717948717948718, 0.8447637709558022, 0.8551483420593369, 0.9113756613756614 , 0.912634114298226, 0.896445809565598, 0.955190771960958, 0.9718341095586605]\n",
    "print(np.mean(accs), np.std(accs))"
   ],
   "metadata": {
    "collapsed": false,
    "ExecuteTime": {
     "end_time": "2023-12-18T14:03:54.962640100Z",
     "start_time": "2023-12-18T14:03:54.947015500Z"
    }
   }
  },
  {
   "cell_type": "markdown",
   "source": [
    "## Загружаем данные и уточняем граф с помощью флага adjust_flag = True"
   ],
   "metadata": {
    "collapsed": false
   }
  },
  {
   "cell_type": "code",
   "execution_count": 2,
   "outputs": [],
   "source": [
    "root = '../data_validation/'\n",
    "name='oil_fields'\n",
    "adjust_flag = True\n",
    "\n",
    "dataset = Graph(root=root + str(name), name=name, transform=T.NormalizeFeatures(), adjust_flag=adjust_flag)"
   ],
   "metadata": {
    "collapsed": false,
    "ExecuteTime": {
     "end_time": "2023-12-18T18:35:22.287588Z",
     "start_time": "2023-12-18T18:35:22.271584200Z"
    }
   }
  },
  {
   "cell_type": "code",
   "execution_count": 50,
   "outputs": [
    {
     "data": {
      "text/plain": "396"
     },
     "execution_count": 50,
     "metadata": {},
     "output_type": "execute_result"
    }
   ],
   "source": [
    "len(dataset[0].x)"
   ],
   "metadata": {
    "collapsed": false,
    "ExecuteTime": {
     "end_time": "2023-12-13T14:26:17.206761500Z",
     "start_time": "2023-12-13T14:26:17.173527400Z"
    }
   }
  },
  {
   "cell_type": "markdown",
   "source": [
    "### Обучаем классификатор на тренировочных ребрах"
   ],
   "metadata": {
    "collapsed": false
   }
  },
  {
   "cell_type": "code",
   "execution_count": 35,
   "outputs": [
    {
     "name": "stderr",
     "output_type": "stream",
     "text": [
      "\u001B[32m[I 2023-12-18 17:05:02,519]\u001B[0m A new study created in memory with name: no-name-121dc2ea-b1a8-4086-a1f5-0eed4cb4949f\u001B[0m\n",
      "\u001B[32m[I 2023-12-18 17:05:07,527]\u001B[0m Trial 0 finished with value: 3.089560031890869 and parameters: {'hidden_layer': 32, 'dropout': 0.0, 'size of network, number of convs': 1, 'lr': 0.00987370020016234, 'out_layer': 32, 'num_negative_samples': 16, 'alpha': 0.3}. Best is trial 0 with value: 3.089560031890869.\u001B[0m\n",
      "\u001B[32m[I 2023-12-18 17:05:14,267]\u001B[0m Trial 1 finished with value: 2.5521743297576904 and parameters: {'hidden_layer': 64, 'dropout': 0.2, 'size of network, number of convs': 1, 'lr': 0.008548572512505577, 'out_layer': 128, 'num_negative_samples': 11, 'alpha': 0.1}. Best is trial 1 with value: 2.5521743297576904.\u001B[0m\n",
      "\u001B[32m[I 2023-12-18 17:05:20,625]\u001B[0m Trial 2 finished with value: 2.5620169639587402 and parameters: {'hidden_layer': 64, 'dropout': 0.1, 'size of network, number of convs': 1, 'lr': 0.006606238146237999, 'out_layer': 128, 'num_negative_samples': 1, 'alpha': 0.1}. Best is trial 1 with value: 2.5521743297576904.\u001B[0m\n",
      "\u001B[32m[I 2023-12-18 17:05:27,326]\u001B[0m Trial 3 finished with value: 2.4994049072265625 and parameters: {'hidden_layer': 32, 'dropout': 0.2, 'size of network, number of convs': 1, 'lr': 0.007592521880045295, 'out_layer': 32, 'num_negative_samples': 11, 'alpha': 0.1}. Best is trial 3 with value: 2.4994049072265625.\u001B[0m\n",
      "\u001B[32m[I 2023-12-18 17:05:33,635]\u001B[0m Trial 4 finished with value: 2.4864940643310547 and parameters: {'hidden_layer': 128, 'dropout': 0.5, 'size of network, number of convs': 2, 'lr': 0.006082533517008288, 'out_layer': 128, 'num_negative_samples': 21, 'alpha': 0.1}. Best is trial 4 with value: 2.4864940643310547.\u001B[0m\n",
      "\u001B[32m[I 2023-12-18 17:05:35,375]\u001B[0m Trial 5 finished with value: 4.175497055053711 and parameters: {'hidden_layer': 32, 'dropout': 0.1, 'size of network, number of convs': 3, 'lr': 0.005866129064919144, 'out_layer': 32, 'num_negative_samples': 1, 'alpha': 0.6}. Best is trial 4 with value: 2.4864940643310547.\u001B[0m\n",
      "\u001B[32m[I 2023-12-18 17:05:38,785]\u001B[0m Trial 6 finished with value: 3.0722601413726807 and parameters: {'hidden_layer': 64, 'dropout': 0.4, 'size of network, number of convs': 3, 'lr': 0.006656122609819206, 'out_layer': 64, 'num_negative_samples': 11, 'alpha': 0.3}. Best is trial 4 with value: 2.4864940643310547.\u001B[0m\n",
      "\u001B[32m[I 2023-12-18 17:05:41,096]\u001B[0m Trial 7 finished with value: 4.164402008056641 and parameters: {'hidden_layer': 128, 'dropout': 0.0, 'size of network, number of convs': 2, 'lr': 0.006028469459174641, 'out_layer': 128, 'num_negative_samples': 21, 'alpha': 0.6}. Best is trial 4 with value: 2.4864940643310547.\u001B[0m\n",
      "\u001B[32m[I 2023-12-18 17:05:42,225]\u001B[0m Trial 8 finished with value: 5.612667083740234 and parameters: {'hidden_layer': 64, 'dropout': 0.0, 'size of network, number of convs': 1, 'lr': 0.009587067129826467, 'out_layer': 32, 'num_negative_samples': 6, 'alpha': 0.8}. Best is trial 4 with value: 2.4864940643310547.\u001B[0m\n",
      "\u001B[32m[I 2023-12-18 17:05:46,830]\u001B[0m Trial 9 finished with value: 2.7652828693389893 and parameters: {'hidden_layer': 32, 'dropout': 0.0, 'size of network, number of convs': 3, 'lr': 0.006191447293666908, 'out_layer': 128, 'num_negative_samples': 11, 'alpha': 0.2}. Best is trial 4 with value: 2.4864940643310547.\u001B[0m\n",
      "\u001B[32m[I 2023-12-18 17:05:48,819]\u001B[0m Trial 10 finished with value: 4.739652156829834 and parameters: {'hidden_layer': 128, 'dropout': 0.5, 'size of network, number of convs': 2, 'lr': 0.005018734654227743, 'out_layer': 64, 'num_negative_samples': 21, 'alpha': 0.7}. Best is trial 4 with value: 2.4864940643310547.\u001B[0m\n",
      "\u001B[32m[I 2023-12-18 17:05:56,980]\u001B[0m Trial 11 finished with value: 2.4865899085998535 and parameters: {'hidden_layer': 128, 'dropout': 0.30000000000000004, 'size of network, number of convs': 2, 'lr': 0.00773210638972985, 'out_layer': 32, 'num_negative_samples': 21, 'alpha': 0.1}. Best is trial 4 with value: 2.4864940643310547.\u001B[0m\n",
      "\u001B[32m[I 2023-12-18 17:06:00,798]\u001B[0m Trial 12 finished with value: 3.39554762840271 and parameters: {'hidden_layer': 128, 'dropout': 0.4, 'size of network, number of convs': 2, 'lr': 0.0077090695254713355, 'out_layer': 128, 'num_negative_samples': 21, 'alpha': 0.4}. Best is trial 4 with value: 2.4864940643310547.\u001B[0m\n",
      "\u001B[32m[I 2023-12-18 17:06:03,934]\u001B[0m Trial 13 finished with value: 3.753901481628418 and parameters: {'hidden_layer': 128, 'dropout': 0.5, 'size of network, number of convs': 2, 'lr': 0.008478946076451508, 'out_layer': 32, 'num_negative_samples': 21, 'alpha': 0.5}. Best is trial 4 with value: 2.4864940643310547.\u001B[0m\n",
      "\u001B[32m[I 2023-12-18 17:06:05,100]\u001B[0m Trial 14 finished with value: 7.5212626457214355 and parameters: {'hidden_layer': 128, 'dropout': 0.30000000000000004, 'size of network, number of convs': 2, 'lr': 0.008237492619613426, 'out_layer': 64, 'num_negative_samples': 21, 'alpha': 0.9}. Best is trial 4 with value: 2.4864940643310547.\u001B[0m\n",
      "\u001B[32m[I 2023-12-18 17:06:12,829]\u001B[0m Trial 15 finished with value: 2.485302448272705 and parameters: {'hidden_layer': 128, 'dropout': 0.4, 'size of network, number of convs': 2, 'lr': 0.007070449863412152, 'out_layer': 128, 'num_negative_samples': 16, 'alpha': 0.1}. Best is trial 15 with value: 2.485302448272705.\u001B[0m\n",
      "\u001B[32m[I 2023-12-18 17:06:18,173]\u001B[0m Trial 16 finished with value: 2.488821268081665 and parameters: {'hidden_layer': 128, 'dropout': 0.4, 'size of network, number of convs': 2, 'lr': 0.0051126806075869205, 'out_layer': 128, 'num_negative_samples': 16, 'alpha': 0.1}. Best is trial 15 with value: 2.485302448272705.\u001B[0m\n",
      "\u001B[32m[I 2023-12-18 17:06:20,490]\u001B[0m Trial 17 finished with value: 3.7468159198760986 and parameters: {'hidden_layer': 128, 'dropout': 0.5, 'size of network, number of convs': 2, 'lr': 0.0069859868069140196, 'out_layer': 128, 'num_negative_samples': 16, 'alpha': 0.5}. Best is trial 15 with value: 2.485302448272705.\u001B[0m\n",
      "\u001B[32m[I 2023-12-18 17:06:23,254]\u001B[0m Trial 18 finished with value: 3.398747205734253 and parameters: {'hidden_layer': 128, 'dropout': 0.4, 'size of network, number of convs': 2, 'lr': 0.005557288471173863, 'out_layer': 128, 'num_negative_samples': 6, 'alpha': 0.4}. Best is trial 15 with value: 2.485302448272705.\u001B[0m\n",
      "\u001B[32m[I 2023-12-18 17:06:24,515]\u001B[0m Trial 19 finished with value: 7.540646076202393 and parameters: {'hidden_layer': 128, 'dropout': 0.5, 'size of network, number of convs': 2, 'lr': 0.006979545227291293, 'out_layer': 128, 'num_negative_samples': 16, 'alpha': 0.9}. Best is trial 15 with value: 2.485302448272705.\u001B[0m\n",
      "\u001B[32m[I 2023-12-18 17:06:25,758]\u001B[0m Trial 20 finished with value: 5.649191379547119 and parameters: {'hidden_layer': 128, 'dropout': 0.30000000000000004, 'size of network, number of convs': 3, 'lr': 0.009097933906049427, 'out_layer': 128, 'num_negative_samples': 16, 'alpha': 0.8}. Best is trial 15 with value: 2.485302448272705.\u001B[0m\n",
      "\u001B[32m[I 2023-12-18 17:06:31,025]\u001B[0m Trial 21 finished with value: 2.4888346195220947 and parameters: {'hidden_layer': 128, 'dropout': 0.30000000000000004, 'size of network, number of convs': 2, 'lr': 0.007249392411079627, 'out_layer': 32, 'num_negative_samples': 21, 'alpha': 0.1}. Best is trial 15 with value: 2.485302448272705.\u001B[0m\n",
      "\u001B[32m[I 2023-12-18 17:06:37,192]\u001B[0m Trial 22 finished with value: 2.477442502975464 and parameters: {'hidden_layer': 128, 'dropout': 0.4, 'size of network, number of convs': 2, 'lr': 0.007979563798306338, 'out_layer': 32, 'num_negative_samples': 21, 'alpha': 0.1}. Best is trial 22 with value: 2.477442502975464.\u001B[0m\n",
      "\u001B[32m[I 2023-12-18 17:06:42,355]\u001B[0m Trial 23 finished with value: 2.4857397079467773 and parameters: {'hidden_layer': 128, 'dropout': 0.4, 'size of network, number of convs': 2, 'lr': 0.008040958891064567, 'out_layer': 64, 'num_negative_samples': 21, 'alpha': 0.1}. Best is trial 22 with value: 2.477442502975464.\u001B[0m\n",
      "\u001B[32m[I 2023-12-18 17:06:46,492]\u001B[0m Trial 24 finished with value: 2.775402545928955 and parameters: {'hidden_layer': 128, 'dropout': 0.4, 'size of network, number of convs': 2, 'lr': 0.008230749231301702, 'out_layer': 64, 'num_negative_samples': 1, 'alpha': 0.2}. Best is trial 22 with value: 2.477442502975464.\u001B[0m\n",
      "\u001B[32m[I 2023-12-18 17:06:48,361]\u001B[0m Trial 25 finished with value: 4.816554546356201 and parameters: {'hidden_layer': 128, 'dropout': 0.4, 'size of network, number of convs': 2, 'lr': 0.008020547445412083, 'out_layer': 64, 'num_negative_samples': 6, 'alpha': 0.7}. Best is trial 22 with value: 2.477442502975464.\u001B[0m\n",
      "\u001B[32m[I 2023-12-18 17:06:55,328]\u001B[0m Trial 26 finished with value: 2.4850082397460938 and parameters: {'hidden_layer': 128, 'dropout': 0.30000000000000004, 'size of network, number of convs': 2, 'lr': 0.008944724907792589, 'out_layer': 64, 'num_negative_samples': 16, 'alpha': 0.1}. Best is trial 22 with value: 2.477442502975464.\u001B[0m\n",
      "\u001B[32m[I 2023-12-18 17:07:00,983]\u001B[0m Trial 27 finished with value: 2.4756669998168945 and parameters: {'hidden_layer': 128, 'dropout': 0.2, 'size of network, number of convs': 2, 'lr': 0.009117228176513174, 'out_layer': 64, 'num_negative_samples': 16, 'alpha': 0.1}. Best is trial 27 with value: 2.4756669998168945.\u001B[0m\n",
      "\u001B[32m[I 2023-12-18 17:07:07,583]\u001B[0m Trial 28 finished with value: 2.470921516418457 and parameters: {'hidden_layer': 64, 'dropout': 0.2, 'size of network, number of convs': 2, 'lr': 0.009018791306506745, 'out_layer': 64, 'num_negative_samples': 16, 'alpha': 0.1}. Best is trial 28 with value: 2.470921516418457.\u001B[0m\n",
      "\u001B[32m[I 2023-12-18 17:07:11,267]\u001B[0m Trial 29 finished with value: 3.065221071243286 and parameters: {'hidden_layer': 64, 'dropout': 0.2, 'size of network, number of convs': 3, 'lr': 0.009956607508252207, 'out_layer': 64, 'num_negative_samples': 16, 'alpha': 0.3}. Best is trial 28 with value: 2.470921516418457.\u001B[0m\n",
      "\u001B[32m[I 2023-12-18 17:07:17,838]\u001B[0m Trial 30 finished with value: 2.502516746520996 and parameters: {'hidden_layer': 64, 'dropout': 0.1, 'size of network, number of convs': 1, 'lr': 0.009546830008660454, 'out_layer': 64, 'num_negative_samples': 16, 'alpha': 0.1}. Best is trial 28 with value: 2.470921516418457.\u001B[0m\n",
      "\u001B[32m[I 2023-12-18 17:07:24,404]\u001B[0m Trial 31 finished with value: 2.4927940368652344 and parameters: {'hidden_layer': 64, 'dropout': 0.2, 'size of network, number of convs': 2, 'lr': 0.00895485335343871, 'out_layer': 64, 'num_negative_samples': 16, 'alpha': 0.1}. Best is trial 28 with value: 2.470921516418457.\u001B[0m\n",
      "\u001B[32m[I 2023-12-18 17:07:30,352]\u001B[0m Trial 32 finished with value: 2.480382204055786 and parameters: {'hidden_layer': 32, 'dropout': 0.30000000000000004, 'size of network, number of convs': 2, 'lr': 0.00884529473464365, 'out_layer': 64, 'num_negative_samples': 16, 'alpha': 0.1}. Best is trial 28 with value: 2.470921516418457.\u001B[0m\n",
      "\u001B[32m[I 2023-12-18 17:07:36,168]\u001B[0m Trial 33 finished with value: 2.4740660190582275 and parameters: {'hidden_layer': 32, 'dropout': 0.2, 'size of network, number of convs': 2, 'lr': 0.009257059134639879, 'out_layer': 64, 'num_negative_samples': 16, 'alpha': 0.1}. Best is trial 28 with value: 2.470921516418457.\u001B[0m\n",
      "\u001B[32m[I 2023-12-18 17:07:42,497]\u001B[0m Trial 34 finished with value: 2.5136499404907227 and parameters: {'hidden_layer': 32, 'dropout': 0.2, 'size of network, number of convs': 1, 'lr': 0.00927080114362, 'out_layer': 64, 'num_negative_samples': 16, 'alpha': 0.1}. Best is trial 28 with value: 2.470921516418457.\u001B[0m\n",
      "\u001B[32m[I 2023-12-18 17:07:47,728]\u001B[0m Trial 35 finished with value: 2.4754838943481445 and parameters: {'hidden_layer': 32, 'dropout': 0.1, 'size of network, number of convs': 2, 'lr': 0.009533838282928444, 'out_layer': 32, 'num_negative_samples': 16, 'alpha': 0.1}. Best is trial 28 with value: 2.470921516418457.\u001B[0m\n",
      "\u001B[32m[I 2023-12-18 17:07:50,123]\u001B[0m Trial 36 finished with value: 4.1787519454956055 and parameters: {'hidden_layer': 32, 'dropout': 0.1, 'size of network, number of convs': 2, 'lr': 0.009626413172456334, 'out_layer': 64, 'num_negative_samples': 16, 'alpha': 0.6}. Best is trial 28 with value: 2.470921516418457.\u001B[0m\n",
      "\u001B[32m[I 2023-12-18 17:07:53,556]\u001B[0m Trial 37 finished with value: 3.0912058353424072 and parameters: {'hidden_layer': 32, 'dropout': 0.1, 'size of network, number of convs': 1, 'lr': 0.0086379916283942, 'out_layer': 32, 'num_negative_samples': 16, 'alpha': 0.3}. Best is trial 28 with value: 2.470921516418457.\u001B[0m\n",
      "\u001B[32m[I 2023-12-18 17:08:00,261]\u001B[0m Trial 38 finished with value: 2.4776835441589355 and parameters: {'hidden_layer': 32, 'dropout': 0.2, 'size of network, number of convs': 2, 'lr': 0.00934070143014327, 'out_layer': 64, 'num_negative_samples': 1, 'alpha': 0.1}. Best is trial 28 with value: 2.470921516418457.\u001B[0m\n",
      "\u001B[32m[I 2023-12-18 17:08:01,548]\u001B[0m Trial 39 finished with value: 7.482097625732422 and parameters: {'hidden_layer': 32, 'dropout': 0.1, 'size of network, number of convs': 3, 'lr': 0.009757832545585656, 'out_layer': 64, 'num_negative_samples': 11, 'alpha': 0.9}. Best is trial 28 with value: 2.470921516418457.\u001B[0m\n",
      "\u001B[32m[I 2023-12-18 17:08:02,943]\u001B[0m Trial 40 finished with value: 5.5229902267456055 and parameters: {'hidden_layer': 64, 'dropout': 0.2, 'size of network, number of convs': 2, 'lr': 0.009256882168353154, 'out_layer': 32, 'num_negative_samples': 16, 'alpha': 0.8}. Best is trial 28 with value: 2.470921516418457.\u001B[0m\n",
      "\u001B[32m[I 2023-12-18 17:08:09,533]\u001B[0m Trial 41 finished with value: 2.489236354827881 and parameters: {'hidden_layer': 32, 'dropout': 0.2, 'size of network, number of convs': 2, 'lr': 0.008677219164429463, 'out_layer': 32, 'num_negative_samples': 16, 'alpha': 0.1}. Best is trial 28 with value: 2.470921516418457.\u001B[0m\n",
      "\u001B[32m[I 2023-12-18 17:08:14,754]\u001B[0m Trial 42 finished with value: 2.474677801132202 and parameters: {'hidden_layer': 64, 'dropout': 0.1, 'size of network, number of convs': 2, 'lr': 0.009993651994704512, 'out_layer': 32, 'num_negative_samples': 16, 'alpha': 0.1}. Best is trial 28 with value: 2.470921516418457.\u001B[0m\n",
      "\u001B[32m[I 2023-12-18 17:08:21,806]\u001B[0m Trial 43 finished with value: 2.477247953414917 and parameters: {'hidden_layer': 64, 'dropout': 0.1, 'size of network, number of convs': 2, 'lr': 0.009941145034351544, 'out_layer': 32, 'num_negative_samples': 16, 'alpha': 0.1}. Best is trial 28 with value: 2.470921516418457.\u001B[0m\n",
      "\u001B[32m[I 2023-12-18 17:08:27,524]\u001B[0m Trial 44 finished with value: 2.7796483039855957 and parameters: {'hidden_layer': 64, 'dropout': 0.0, 'size of network, number of convs': 2, 'lr': 0.009471464643402388, 'out_layer': 32, 'num_negative_samples': 16, 'alpha': 0.2}. Best is trial 28 with value: 2.470921516418457.\u001B[0m\n",
      "\u001B[32m[I 2023-12-18 17:08:29,104]\u001B[0m Trial 45 finished with value: 4.853321075439453 and parameters: {'hidden_layer': 64, 'dropout': 0.1, 'size of network, number of convs': 1, 'lr': 0.009737203459793505, 'out_layer': 32, 'num_negative_samples': 11, 'alpha': 0.7}. Best is trial 28 with value: 2.470921516418457.\u001B[0m\n",
      "\u001B[32m[I 2023-12-18 17:08:32,725]\u001B[0m Trial 46 finished with value: 3.37847900390625 and parameters: {'hidden_layer': 64, 'dropout': 0.2, 'size of network, number of convs': 2, 'lr': 0.009093204173911271, 'out_layer': 64, 'num_negative_samples': 16, 'alpha': 0.4}. Best is trial 28 with value: 2.470921516418457.\u001B[0m\n",
      "\u001B[32m[I 2023-12-18 17:08:34,606]\u001B[0m Trial 47 finished with value: 4.144139766693115 and parameters: {'hidden_layer': 32, 'dropout': 0.0, 'size of network, number of convs': 2, 'lr': 0.009382563406503336, 'out_layer': 32, 'num_negative_samples': 1, 'alpha': 0.6}. Best is trial 28 with value: 2.470921516418457.\u001B[0m\n",
      "\u001B[32m[I 2023-12-18 17:08:37,573]\u001B[0m Trial 48 finished with value: 3.7367208003997803 and parameters: {'hidden_layer': 64, 'dropout': 0.1, 'size of network, number of convs': 3, 'lr': 0.009974447122708056, 'out_layer': 64, 'num_negative_samples': 6, 'alpha': 0.5}. Best is trial 28 with value: 2.470921516418457.\u001B[0m\n",
      "\u001B[32m[I 2023-12-18 17:08:44,789]\u001B[0m Trial 49 finished with value: 2.4912288188934326 and parameters: {'hidden_layer': 32, 'dropout': 0.2, 'size of network, number of convs': 2, 'lr': 0.008376215027352798, 'out_layer': 32, 'num_negative_samples': 16, 'alpha': 0.1}. Best is trial 28 with value: 2.470921516418457.\u001B[0m\n",
      "C:\\Users\\user\\Desktop\\StableGNN\\venv\\lib\\site-packages\\sklearn\\neural_network\\_multilayer_perceptron.py:692: ConvergenceWarning: Stochastic Optimizer: Maximum iterations (100) reached and the optimization hasn't converged yet.\n",
      "  warnings.warn(\n",
      "\u001B[32m[I 2023-12-18 17:08:52,259]\u001B[0m A new study created in memory with name: no-name-0528535c-cc60-4351-9514-1f90424041b5\u001B[0m\n",
      "\u001B[32m[I 2023-12-18 17:08:55,003]\u001B[0m Trial 0 finished with value: 3.356719493865967 and parameters: {'hidden_layer': 64, 'dropout': 0.2, 'size of network, number of convs': 3, 'lr': 0.007294508043068828, 'out_layer': 64, 'num_negative_samples': 11, 'alpha': 0.4}. Best is trial 0 with value: 3.356719493865967.\u001B[0m\n",
      "\u001B[32m[I 2023-12-18 17:08:56,005]\u001B[0m Trial 1 finished with value: 7.3872575759887695 and parameters: {'hidden_layer': 128, 'dropout': 0.2, 'size of network, number of convs': 3, 'lr': 0.00925493320248293, 'out_layer': 32, 'num_negative_samples': 6, 'alpha': 0.9}. Best is trial 0 with value: 3.356719493865967.\u001B[0m\n",
      "\u001B[32m[I 2023-12-18 17:08:57,939]\u001B[0m Trial 2 finished with value: 5.561988830566406 and parameters: {'hidden_layer': 32, 'dropout': 0.0, 'size of network, number of convs': 3, 'lr': 0.007287646623817047, 'out_layer': 128, 'num_negative_samples': 11, 'alpha': 0.8}. Best is trial 0 with value: 3.356719493865967.\u001B[0m\n",
      "\u001B[32m[I 2023-12-18 17:09:00,931]\u001B[0m Trial 3 finished with value: 3.4826507568359375 and parameters: {'hidden_layer': 32, 'dropout': 0.30000000000000004, 'size of network, number of convs': 1, 'lr': 0.008474043781371888, 'out_layer': 128, 'num_negative_samples': 16, 'alpha': 0.4}. Best is trial 0 with value: 3.356719493865967.\u001B[0m\n",
      "\u001B[32m[I 2023-12-18 17:09:02,552]\u001B[0m Trial 4 finished with value: 4.734790325164795 and parameters: {'hidden_layer': 64, 'dropout': 0.5, 'size of network, number of convs': 3, 'lr': 0.006700201724403923, 'out_layer': 64, 'num_negative_samples': 16, 'alpha': 0.7}. Best is trial 0 with value: 3.356719493865967.\u001B[0m\n",
      "\u001B[32m[I 2023-12-18 17:09:03,831]\u001B[0m Trial 5 finished with value: 5.654786109924316 and parameters: {'hidden_layer': 128, 'dropout': 0.2, 'size of network, number of convs': 1, 'lr': 0.008059568749511622, 'out_layer': 128, 'num_negative_samples': 21, 'alpha': 0.8}. Best is trial 0 with value: 3.356719493865967.\u001B[0m\n",
      "\u001B[32m[I 2023-12-18 17:09:08,834]\u001B[0m Trial 6 finished with value: 2.773146152496338 and parameters: {'hidden_layer': 64, 'dropout': 0.0, 'size of network, number of convs': 3, 'lr': 0.005227209920180781, 'out_layer': 32, 'num_negative_samples': 16, 'alpha': 0.2}. Best is trial 6 with value: 2.773146152496338.\u001B[0m\n",
      "\u001B[32m[I 2023-12-18 17:09:12,993]\u001B[0m Trial 7 finished with value: 3.0699825286865234 and parameters: {'hidden_layer': 128, 'dropout': 0.2, 'size of network, number of convs': 2, 'lr': 0.007612199249119477, 'out_layer': 128, 'num_negative_samples': 1, 'alpha': 0.3}. Best is trial 6 with value: 2.773146152496338.\u001B[0m\n",
      "\u001B[32m[I 2023-12-18 17:09:16,895]\u001B[0m Trial 8 finished with value: 3.0769736766815186 and parameters: {'hidden_layer': 128, 'dropout': 0.4, 'size of network, number of convs': 2, 'lr': 0.005635918069971295, 'out_layer': 64, 'num_negative_samples': 1, 'alpha': 0.3}. Best is trial 6 with value: 2.773146152496338.\u001B[0m\n",
      "\u001B[32m[I 2023-12-18 17:09:21,424]\u001B[0m Trial 9 finished with value: 3.1726553440093994 and parameters: {'hidden_layer': 64, 'dropout': 0.30000000000000004, 'size of network, number of convs': 1, 'lr': 0.007547771741010703, 'out_layer': 128, 'num_negative_samples': 16, 'alpha': 0.3}. Best is trial 6 with value: 2.773146152496338.\u001B[0m\n",
      "\u001B[32m[I 2023-12-18 17:09:25,888]\u001B[0m Trial 10 finished with value: 2.7621665000915527 and parameters: {'hidden_layer': 64, 'dropout': 0.0, 'size of network, number of convs': 3, 'lr': 0.005074834338473136, 'out_layer': 32, 'num_negative_samples': 21, 'alpha': 0.2}. Best is trial 10 with value: 2.7621665000915527.\u001B[0m\n",
      "\u001B[32m[I 2023-12-18 17:09:31,225]\u001B[0m Trial 11 finished with value: 2.7819857597351074 and parameters: {'hidden_layer': 64, 'dropout': 0.0, 'size of network, number of convs': 3, 'lr': 0.005066783389560475, 'out_layer': 32, 'num_negative_samples': 21, 'alpha': 0.2}. Best is trial 10 with value: 2.7621665000915527.\u001B[0m\n",
      "\u001B[32m[I 2023-12-18 17:09:36,473]\u001B[0m Trial 12 finished with value: 2.768656015396118 and parameters: {'hidden_layer': 64, 'dropout': 0.0, 'size of network, number of convs': 3, 'lr': 0.006019325086070481, 'out_layer': 32, 'num_negative_samples': 21, 'alpha': 0.2}. Best is trial 10 with value: 2.7621665000915527.\u001B[0m\n",
      "\u001B[32m[I 2023-12-18 17:09:41,146]\u001B[0m Trial 13 finished with value: 2.7905874252319336 and parameters: {'hidden_layer': 64, 'dropout': 0.1, 'size of network, number of convs': 3, 'lr': 0.006044255492389501, 'out_layer': 32, 'num_negative_samples': 21, 'alpha': 0.2}. Best is trial 10 with value: 2.7621665000915527.\u001B[0m\n",
      "\u001B[32m[I 2023-12-18 17:09:43,640]\u001B[0m Trial 14 finished with value: 3.7576980590820312 and parameters: {'hidden_layer': 64, 'dropout': 0.1, 'size of network, number of convs': 3, 'lr': 0.0062771437085248055, 'out_layer': 32, 'num_negative_samples': 21, 'alpha': 0.5}. Best is trial 10 with value: 2.7621665000915527.\u001B[0m\n",
      "\u001B[32m[I 2023-12-18 17:09:45,895]\u001B[0m Trial 15 finished with value: 4.157196521759033 and parameters: {'hidden_layer': 64, 'dropout': 0.1, 'size of network, number of convs': 2, 'lr': 0.006460489494091406, 'out_layer': 32, 'num_negative_samples': 21, 'alpha': 0.6}. Best is trial 10 with value: 2.7621665000915527.\u001B[0m\n",
      "\u001B[32m[I 2023-12-18 17:09:52,439]\u001B[0m Trial 16 finished with value: 2.467498779296875 and parameters: {'hidden_layer': 32, 'dropout': 0.0, 'size of network, number of convs': 3, 'lr': 0.005829756162579993, 'out_layer': 32, 'num_negative_samples': 6, 'alpha': 0.1}. Best is trial 16 with value: 2.467498779296875.\u001B[0m\n",
      "\u001B[32m[I 2023-12-18 17:09:59,237]\u001B[0m Trial 17 finished with value: 2.476125955581665 and parameters: {'hidden_layer': 32, 'dropout': 0.1, 'size of network, number of convs': 3, 'lr': 0.005558790765832267, 'out_layer': 32, 'num_negative_samples': 6, 'alpha': 0.1}. Best is trial 16 with value: 2.467498779296875.\u001B[0m\n",
      "\u001B[32m[I 2023-12-18 17:10:05,985]\u001B[0m Trial 18 finished with value: 2.497145414352417 and parameters: {'hidden_layer': 32, 'dropout': 0.1, 'size of network, number of convs': 1, 'lr': 0.009904111758962462, 'out_layer': 32, 'num_negative_samples': 6, 'alpha': 0.1}. Best is trial 16 with value: 2.467498779296875.\u001B[0m\n",
      "\u001B[32m[I 2023-12-18 17:10:12,860]\u001B[0m Trial 19 finished with value: 2.489305257797241 and parameters: {'hidden_layer': 32, 'dropout': 0.1, 'size of network, number of convs': 2, 'lr': 0.0068553394772835514, 'out_layer': 32, 'num_negative_samples': 6, 'alpha': 0.1}. Best is trial 16 with value: 2.467498779296875.\u001B[0m\n",
      "\u001B[32m[I 2023-12-18 17:10:19,735]\u001B[0m Trial 20 finished with value: 2.4853432178497314 and parameters: {'hidden_layer': 32, 'dropout': 0.1, 'size of network, number of convs': 3, 'lr': 0.005621925761041035, 'out_layer': 64, 'num_negative_samples': 6, 'alpha': 0.1}. Best is trial 16 with value: 2.467498779296875.\u001B[0m\n",
      "\u001B[32m[I 2023-12-18 17:10:26,677]\u001B[0m Trial 21 finished with value: 2.48419451713562 and parameters: {'hidden_layer': 32, 'dropout': 0.1, 'size of network, number of convs': 3, 'lr': 0.005628685854422212, 'out_layer': 64, 'num_negative_samples': 6, 'alpha': 0.1}. Best is trial 16 with value: 2.467498779296875.\u001B[0m\n",
      "\u001B[32m[I 2023-12-18 17:10:33,507]\u001B[0m Trial 22 finished with value: 2.4878244400024414 and parameters: {'hidden_layer': 32, 'dropout': 0.0, 'size of network, number of convs': 3, 'lr': 0.005690084021222012, 'out_layer': 64, 'num_negative_samples': 6, 'alpha': 0.1}. Best is trial 16 with value: 2.467498779296875.\u001B[0m\n",
      "\u001B[32m[I 2023-12-18 17:10:40,135]\u001B[0m Trial 23 finished with value: 2.4888100624084473 and parameters: {'hidden_layer': 32, 'dropout': 0.1, 'size of network, number of convs': 3, 'lr': 0.005559118852440207, 'out_layer': 64, 'num_negative_samples': 6, 'alpha': 0.1}. Best is trial 16 with value: 2.467498779296875.\u001B[0m\n",
      "\u001B[32m[I 2023-12-18 17:10:46,885]\u001B[0m Trial 24 finished with value: 2.4849720001220703 and parameters: {'hidden_layer': 32, 'dropout': 0.30000000000000004, 'size of network, number of convs': 3, 'lr': 0.006895952759112931, 'out_layer': 64, 'num_negative_samples': 6, 'alpha': 0.1}. Best is trial 16 with value: 2.467498779296875.\u001B[0m\n",
      "\u001B[32m[I 2023-12-18 17:10:53,501]\u001B[0m Trial 25 finished with value: 2.4814131259918213 and parameters: {'hidden_layer': 32, 'dropout': 0.2, 'size of network, number of convs': 3, 'lr': 0.005999086741592432, 'out_layer': 32, 'num_negative_samples': 6, 'alpha': 0.1}. Best is trial 16 with value: 2.467498779296875.\u001B[0m\n",
      "\u001B[32m[I 2023-12-18 17:10:55,840]\u001B[0m Trial 26 finished with value: 4.175148963928223 and parameters: {'hidden_layer': 32, 'dropout': 0.2, 'size of network, number of convs': 3, 'lr': 0.006036043167073599, 'out_layer': 32, 'num_negative_samples': 6, 'alpha': 0.6}. Best is trial 16 with value: 2.467498779296875.\u001B[0m\n",
      "\u001B[32m[I 2023-12-18 17:10:56,959]\u001B[0m Trial 27 finished with value: 7.381833076477051 and parameters: {'hidden_layer': 32, 'dropout': 0.4, 'size of network, number of convs': 3, 'lr': 0.006430484716893319, 'out_layer': 32, 'num_negative_samples': 6, 'alpha': 0.9}. Best is trial 16 with value: 2.467498779296875.\u001B[0m\n",
      "\u001B[32m[I 2023-12-18 17:10:58,866]\u001B[0m Trial 28 finished with value: 4.7494001388549805 and parameters: {'hidden_layer': 32, 'dropout': 0.2, 'size of network, number of convs': 1, 'lr': 0.0052383685774798966, 'out_layer': 32, 'num_negative_samples': 6, 'alpha': 0.7}. Best is trial 16 with value: 2.467498779296875.\u001B[0m\n",
      "\u001B[32m[I 2023-12-18 17:11:01,916]\u001B[0m Trial 29 finished with value: 3.720651626586914 and parameters: {'hidden_layer': 32, 'dropout': 0.2, 'size of network, number of convs': 2, 'lr': 0.007306478231498591, 'out_layer': 32, 'num_negative_samples': 11, 'alpha': 0.5}. Best is trial 16 with value: 2.467498779296875.\u001B[0m\n",
      "\u001B[32m[I 2023-12-18 17:11:05,491]\u001B[0m Trial 30 finished with value: 3.3718440532684326 and parameters: {'hidden_layer': 32, 'dropout': 0.0, 'size of network, number of convs': 3, 'lr': 0.00602858153678925, 'out_layer': 32, 'num_negative_samples': 1, 'alpha': 0.4}. Best is trial 16 with value: 2.467498779296875.\u001B[0m\n",
      "\u001B[32m[I 2023-12-18 17:11:12,314]\u001B[0m Trial 31 finished with value: 2.4887313842773438 and parameters: {'hidden_layer': 32, 'dropout': 0.1, 'size of network, number of convs': 3, 'lr': 0.005448385699103194, 'out_layer': 64, 'num_negative_samples': 6, 'alpha': 0.1}. Best is trial 16 with value: 2.467498779296875.\u001B[0m\n",
      "\u001B[32m[I 2023-12-18 17:11:18,907]\u001B[0m Trial 32 finished with value: 2.472541093826294 and parameters: {'hidden_layer': 32, 'dropout': 0.1, 'size of network, number of convs': 3, 'lr': 0.005890378393309638, 'out_layer': 64, 'num_negative_samples': 6, 'alpha': 0.1}. Best is trial 16 with value: 2.467498779296875.\u001B[0m\n",
      "\u001B[32m[I 2023-12-18 17:11:25,164]\u001B[0m Trial 33 finished with value: 2.484614610671997 and parameters: {'hidden_layer': 32, 'dropout': 0.2, 'size of network, number of convs': 3, 'lr': 0.005885574056438449, 'out_layer': 32, 'num_negative_samples': 6, 'alpha': 0.1}. Best is trial 16 with value: 2.467498779296875.\u001B[0m\n",
      "\u001B[32m[I 2023-12-18 17:11:32,513]\u001B[0m Trial 34 finished with value: 2.4797441959381104 and parameters: {'hidden_layer': 32, 'dropout': 0.0, 'size of network, number of convs': 3, 'lr': 0.006289253803956268, 'out_layer': 32, 'num_negative_samples': 11, 'alpha': 0.1}. Best is trial 16 with value: 2.467498779296875.\u001B[0m\n",
      "\u001B[32m[I 2023-12-18 17:11:33,791]\u001B[0m Trial 35 finished with value: 7.517248630523682 and parameters: {'hidden_layer': 32, 'dropout': 0.0, 'size of network, number of convs': 3, 'lr': 0.006599328735924132, 'out_layer': 64, 'num_negative_samples': 11, 'alpha': 0.9}. Best is trial 16 with value: 2.467498779296875.\u001B[0m\n",
      "\u001B[32m[I 2023-12-18 17:11:40,327]\u001B[0m Trial 36 finished with value: 2.468069553375244 and parameters: {'hidden_layer': 128, 'dropout': 0.0, 'size of network, number of convs': 3, 'lr': 0.006987923384855459, 'out_layer': 128, 'num_negative_samples': 11, 'alpha': 0.1}. Best is trial 16 with value: 2.467498779296875.\u001B[0m\n",
      "\u001B[32m[I 2023-12-18 17:11:41,544]\u001B[0m Trial 37 finished with value: 5.572987079620361 and parameters: {'hidden_layer': 128, 'dropout': 0.0, 'size of network, number of convs': 3, 'lr': 0.008081489752964573, 'out_layer': 128, 'num_negative_samples': 11, 'alpha': 0.8}. Best is trial 16 with value: 2.467498779296875.\u001B[0m\n",
      "\u001B[32m[I 2023-12-18 17:11:47,042]\u001B[0m Trial 38 finished with value: 2.5732102394104004 and parameters: {'hidden_layer': 128, 'dropout': 0.0, 'size of network, number of convs': 1, 'lr': 0.00886248198283892, 'out_layer': 128, 'num_negative_samples': 11, 'alpha': 0.1}. Best is trial 16 with value: 2.467498779296875.\u001B[0m\n",
      "\u001B[32m[I 2023-12-18 17:11:48,613]\u001B[0m Trial 39 finished with value: 4.702791213989258 and parameters: {'hidden_layer': 128, 'dropout': 0.1, 'size of network, number of convs': 3, 'lr': 0.0069098717288916785, 'out_layer': 128, 'num_negative_samples': 11, 'alpha': 0.7}. Best is trial 16 with value: 2.467498779296875.\u001B[0m\n",
      "\u001B[32m[I 2023-12-18 17:11:51,533]\u001B[0m Trial 40 finished with value: 3.378512382507324 and parameters: {'hidden_layer': 128, 'dropout': 0.5, 'size of network, number of convs': 3, 'lr': 0.005326597785677811, 'out_layer': 128, 'num_negative_samples': 16, 'alpha': 0.4}. Best is trial 16 with value: 2.467498779296875.\u001B[0m\n",
      "\u001B[32m[I 2023-12-18 17:11:56,691]\u001B[0m Trial 41 finished with value: 2.4805068969726562 and parameters: {'hidden_layer': 128, 'dropout': 0.0, 'size of network, number of convs': 3, 'lr': 0.006221433867295387, 'out_layer': 128, 'num_negative_samples': 11, 'alpha': 0.1}. Best is trial 16 with value: 2.467498779296875.\u001B[0m\n",
      "\u001B[32m[I 2023-12-18 17:12:02,343]\u001B[0m Trial 42 finished with value: 2.477165460586548 and parameters: {'hidden_layer': 32, 'dropout': 0.0, 'size of network, number of convs': 3, 'lr': 0.007260161870603024, 'out_layer': 128, 'num_negative_samples': 11, 'alpha': 0.1}. Best is trial 16 with value: 2.467498779296875.\u001B[0m\n",
      "\u001B[32m[I 2023-12-18 17:12:07,569]\u001B[0m Trial 43 finished with value: 2.4850916862487793 and parameters: {'hidden_layer': 128, 'dropout': 0.0, 'size of network, number of convs': 3, 'lr': 0.007816390098174003, 'out_layer': 128, 'num_negative_samples': 11, 'alpha': 0.1}. Best is trial 16 with value: 2.467498779296875.\u001B[0m\n",
      "\u001B[32m[I 2023-12-18 17:12:09,090]\u001B[0m Trial 44 finished with value: 5.602064609527588 and parameters: {'hidden_layer': 32, 'dropout': 0.0, 'size of network, number of convs': 3, 'lr': 0.0071830215784017635, 'out_layer': 128, 'num_negative_samples': 11, 'alpha': 0.8}. Best is trial 16 with value: 2.467498779296875.\u001B[0m\n",
      "\u001B[32m[I 2023-12-18 17:12:13,190]\u001B[0m Trial 45 finished with value: 3.09479022026062 and parameters: {'hidden_layer': 32, 'dropout': 0.0, 'size of network, number of convs': 2, 'lr': 0.0071197058857347196, 'out_layer': 128, 'num_negative_samples': 1, 'alpha': 0.3}. Best is trial 16 with value: 2.467498779296875.\u001B[0m\n",
      "\u001B[32m[I 2023-12-18 17:12:20,391]\u001B[0m Trial 46 finished with value: 2.4818053245544434 and parameters: {'hidden_layer': 128, 'dropout': 0.1, 'size of network, number of convs': 3, 'lr': 0.008353102583740868, 'out_layer': 128, 'num_negative_samples': 16, 'alpha': 0.1}. Best is trial 16 with value: 2.467498779296875.\u001B[0m\n",
      "\u001B[32m[I 2023-12-18 17:12:22,556]\u001B[0m Trial 47 finished with value: 3.802480697631836 and parameters: {'hidden_layer': 32, 'dropout': 0.0, 'size of network, number of convs': 1, 'lr': 0.007492877254479272, 'out_layer': 128, 'num_negative_samples': 11, 'alpha': 0.5}. Best is trial 16 with value: 2.467498779296875.\u001B[0m\n",
      "\u001B[32m[I 2023-12-18 17:12:28,334]\u001B[0m Trial 48 finished with value: 2.483567953109741 and parameters: {'hidden_layer': 32, 'dropout': 0.1, 'size of network, number of convs': 3, 'lr': 0.006637681311373166, 'out_layer': 64, 'num_negative_samples': 1, 'alpha': 0.1}. Best is trial 16 with value: 2.467498779296875.\u001B[0m\n",
      "\u001B[32m[I 2023-12-18 17:12:30,864]\u001B[0m Trial 49 finished with value: 4.175178050994873 and parameters: {'hidden_layer': 128, 'dropout': 0.30000000000000004, 'size of network, number of convs': 3, 'lr': 0.005811324966297737, 'out_layer': 128, 'num_negative_samples': 6, 'alpha': 0.6}. Best is trial 16 with value: 2.467498779296875.\u001B[0m\n",
      "C:\\Users\\user\\Desktop\\StableGNN\\venv\\lib\\site-packages\\sklearn\\neural_network\\_multilayer_perceptron.py:692: ConvergenceWarning: Stochastic Optimizer: Maximum iterations (100) reached and the optimization hasn't converged yet.\n",
      "  warnings.warn(\n",
      "\u001B[32m[I 2023-12-18 17:12:38,173]\u001B[0m A new study created in memory with name: no-name-21fdb29b-ac97-4888-bd4d-34eb7667d5f4\u001B[0m\n",
      "\u001B[32m[I 2023-12-18 17:12:42,169]\u001B[0m Trial 0 finished with value: 3.188718318939209 and parameters: {'hidden_layer': 128, 'dropout': 0.30000000000000004, 'size of network, number of convs': 3, 'lr': 0.005676371610872063, 'out_layer': 64, 'num_negative_samples': 1, 'alpha': 0.3}. Best is trial 0 with value: 3.188718318939209.\u001B[0m\n",
      "\u001B[32m[I 2023-12-18 17:12:44,108]\u001B[0m Trial 1 finished with value: 4.912189483642578 and parameters: {'hidden_layer': 64, 'dropout': 0.4, 'size of network, number of convs': 2, 'lr': 0.007416392142650725, 'out_layer': 32, 'num_negative_samples': 1, 'alpha': 0.7}. Best is trial 0 with value: 3.188718318939209.\u001B[0m\n",
      "\u001B[32m[I 2023-12-18 17:12:49,035]\u001B[0m Trial 2 finished with value: 3.180758476257324 and parameters: {'hidden_layer': 32, 'dropout': 0.2, 'size of network, number of convs': 2, 'lr': 0.009828103879676774, 'out_layer': 32, 'num_negative_samples': 16, 'alpha': 0.3}. Best is trial 2 with value: 3.180758476257324.\u001B[0m\n",
      "\u001B[32m[I 2023-12-18 17:12:49,852]\u001B[0m Trial 3 finished with value: 7.744664669036865 and parameters: {'hidden_layer': 64, 'dropout': 0.4, 'size of network, number of convs': 1, 'lr': 0.009858543512665989, 'out_layer': 128, 'num_negative_samples': 6, 'alpha': 0.9}. Best is trial 2 with value: 3.180758476257324.\u001B[0m\n",
      "\u001B[32m[I 2023-12-18 17:12:50,838]\u001B[0m Trial 4 finished with value: 7.6064581871032715 and parameters: {'hidden_layer': 64, 'dropout': 0.1, 'size of network, number of convs': 3, 'lr': 0.008380355857003268, 'out_layer': 32, 'num_negative_samples': 21, 'alpha': 0.9}. Best is trial 2 with value: 3.180758476257324.\u001B[0m\n",
      "\u001B[32m[I 2023-12-18 17:12:52,496]\u001B[0m Trial 5 finished with value: 4.924223899841309 and parameters: {'hidden_layer': 64, 'dropout': 0.4, 'size of network, number of convs': 3, 'lr': 0.005620842219440202, 'out_layer': 64, 'num_negative_samples': 11, 'alpha': 0.7}. Best is trial 2 with value: 3.180758476257324.\u001B[0m\n",
      "\u001B[32m[I 2023-12-18 17:12:54,739]\u001B[0m Trial 6 finished with value: 4.326737403869629 and parameters: {'hidden_layer': 64, 'dropout': 0.2, 'size of network, number of convs': 3, 'lr': 0.008968125315917189, 'out_layer': 128, 'num_negative_samples': 11, 'alpha': 0.6}. Best is trial 2 with value: 3.180758476257324.\u001B[0m\n",
      "\u001B[32m[I 2023-12-18 17:12:56,505]\u001B[0m Trial 7 finished with value: 4.284165382385254 and parameters: {'hidden_layer': 32, 'dropout': 0.4, 'size of network, number of convs': 2, 'lr': 0.007594549019117358, 'out_layer': 32, 'num_negative_samples': 6, 'alpha': 0.6}. Best is trial 2 with value: 3.180758476257324.\u001B[0m\n",
      "\u001B[32m[I 2023-12-18 17:13:02,454]\u001B[0m Trial 8 finished with value: 2.5925281047821045 and parameters: {'hidden_layer': 32, 'dropout': 0.0, 'size of network, number of convs': 2, 'lr': 0.005357206720588083, 'out_layer': 128, 'num_negative_samples': 1, 'alpha': 0.1}. Best is trial 8 with value: 2.5925281047821045.\u001B[0m\n",
      "\u001B[32m[I 2023-12-18 17:13:09,009]\u001B[0m Trial 9 finished with value: 2.560596227645874 and parameters: {'hidden_layer': 64, 'dropout': 0.0, 'size of network, number of convs': 3, 'lr': 0.008201697984981157, 'out_layer': 32, 'num_negative_samples': 6, 'alpha': 0.1}. Best is trial 9 with value: 2.560596227645874.\u001B[0m\n",
      "\u001B[32m[I 2023-12-18 17:13:15,575]\u001B[0m Trial 10 finished with value: 2.584216356277466 and parameters: {'hidden_layer': 128, 'dropout': 0.0, 'size of network, number of convs': 1, 'lr': 0.006794581801185473, 'out_layer': 32, 'num_negative_samples': 6, 'alpha': 0.1}. Best is trial 9 with value: 2.560596227645874.\u001B[0m\n",
      "\u001B[32m[I 2023-12-18 17:13:22,318]\u001B[0m Trial 11 finished with value: 2.580519199371338 and parameters: {'hidden_layer': 128, 'dropout': 0.0, 'size of network, number of convs': 1, 'lr': 0.006833657176315659, 'out_layer': 32, 'num_negative_samples': 6, 'alpha': 0.1}. Best is trial 9 with value: 2.560596227645874.\u001B[0m\n",
      "\u001B[32m[I 2023-12-18 17:13:27,710]\u001B[0m Trial 12 finished with value: 2.8878605365753174 and parameters: {'hidden_layer': 128, 'dropout': 0.1, 'size of network, number of convs': 1, 'lr': 0.006393797774727988, 'out_layer': 32, 'num_negative_samples': 6, 'alpha': 0.2}. Best is trial 9 with value: 2.560596227645874.\u001B[0m\n",
      "\u001B[32m[I 2023-12-18 17:13:34,544]\u001B[0m Trial 13 finished with value: 2.5882675647735596 and parameters: {'hidden_layer': 128, 'dropout': 0.0, 'size of network, number of convs': 1, 'lr': 0.008201821818648095, 'out_layer': 32, 'num_negative_samples': 6, 'alpha': 0.1}. Best is trial 9 with value: 2.560596227645874.\u001B[0m\n",
      "\u001B[32m[I 2023-12-18 17:13:36,111]\u001B[0m Trial 14 finished with value: 5.8259711265563965 and parameters: {'hidden_layer': 128, 'dropout': 0.1, 'size of network, number of convs': 1, 'lr': 0.0067076194698541146, 'out_layer': 32, 'num_negative_samples': 16, 'alpha': 0.8}. Best is trial 9 with value: 2.560596227645874.\u001B[0m\n",
      "\u001B[32m[I 2023-12-18 17:13:38,898]\u001B[0m Trial 15 finished with value: 3.8695778846740723 and parameters: {'hidden_layer': 64, 'dropout': 0.0, 'size of network, number of convs': 3, 'lr': 0.008984202951543752, 'out_layer': 64, 'num_negative_samples': 21, 'alpha': 0.5}. Best is trial 9 with value: 2.560596227645874.\u001B[0m\n",
      "\u001B[32m[I 2023-12-18 17:13:41,559]\u001B[0m Trial 16 finished with value: 3.5031955242156982 and parameters: {'hidden_layer': 128, 'dropout': 0.5, 'size of network, number of convs': 3, 'lr': 0.0073230819405842125, 'out_layer': 32, 'num_negative_samples': 6, 'alpha': 0.4}. Best is trial 9 with value: 2.560596227645874.\u001B[0m\n",
      "\u001B[32m[I 2023-12-18 17:13:47,571]\u001B[0m Trial 17 finished with value: 2.5899722576141357 and parameters: {'hidden_layer': 128, 'dropout': 0.1, 'size of network, number of convs': 1, 'lr': 0.006137851748684848, 'out_layer': 32, 'num_negative_samples': 6, 'alpha': 0.1}. Best is trial 9 with value: 2.560596227645874.\u001B[0m\n",
      "\u001B[32m[I 2023-12-18 17:13:54,331]\u001B[0m Trial 18 finished with value: 2.6593527793884277 and parameters: {'hidden_layer': 64, 'dropout': 0.2, 'size of network, number of convs': 1, 'lr': 0.008094045593216683, 'out_layer': 128, 'num_negative_samples': 6, 'alpha': 0.1}. Best is trial 9 with value: 2.560596227645874.\u001B[0m\n",
      "\u001B[32m[I 2023-12-18 17:13:58,451]\u001B[0m Trial 19 finished with value: 2.8611361980438232 and parameters: {'hidden_layer': 32, 'dropout': 0.0, 'size of network, number of convs': 3, 'lr': 0.008941974357712743, 'out_layer': 64, 'num_negative_samples': 21, 'alpha': 0.2}. Best is trial 9 with value: 2.560596227645874.\u001B[0m\n",
      "\u001B[32m[I 2023-12-18 17:14:01,641]\u001B[0m Trial 20 finished with value: 3.5042989253997803 and parameters: {'hidden_layer': 128, 'dropout': 0.30000000000000004, 'size of network, number of convs': 3, 'lr': 0.007039241923173484, 'out_layer': 32, 'num_negative_samples': 16, 'alpha': 0.4}. Best is trial 9 with value: 2.560596227645874.\u001B[0m\n",
      "\u001B[32m[I 2023-12-18 17:14:08,040]\u001B[0m Trial 21 finished with value: 2.5896456241607666 and parameters: {'hidden_layer': 128, 'dropout': 0.0, 'size of network, number of convs': 1, 'lr': 0.006696387377223422, 'out_layer': 32, 'num_negative_samples': 6, 'alpha': 0.1}. Best is trial 9 with value: 2.560596227645874.\u001B[0m\n",
      "\u001B[32m[I 2023-12-18 17:14:14,894]\u001B[0m Trial 22 finished with value: 2.5839996337890625 and parameters: {'hidden_layer': 128, 'dropout': 0.1, 'size of network, number of convs': 1, 'lr': 0.007856549606713528, 'out_layer': 32, 'num_negative_samples': 6, 'alpha': 0.1}. Best is trial 9 with value: 2.560596227645874.\u001B[0m\n",
      "\u001B[32m[I 2023-12-18 17:14:21,056]\u001B[0m Trial 23 finished with value: 2.5737311840057373 and parameters: {'hidden_layer': 128, 'dropout': 0.1, 'size of network, number of convs': 1, 'lr': 0.007758427179984348, 'out_layer': 32, 'num_negative_samples': 6, 'alpha': 0.1}. Best is trial 9 with value: 2.560596227645874.\u001B[0m\n",
      "\u001B[32m[I 2023-12-18 17:14:22,064]\u001B[0m Trial 24 finished with value: 5.751950740814209 and parameters: {'hidden_layer': 128, 'dropout': 0.1, 'size of network, number of convs': 1, 'lr': 0.008602039703670064, 'out_layer': 32, 'num_negative_samples': 11, 'alpha': 0.8}. Best is trial 9 with value: 2.560596227645874.\u001B[0m\n",
      "\u001B[32m[I 2023-12-18 17:14:24,061]\u001B[0m Trial 25 finished with value: 3.887699842453003 and parameters: {'hidden_layer': 64, 'dropout': 0.0, 'size of network, number of convs': 1, 'lr': 0.007872129642219266, 'out_layer': 32, 'num_negative_samples': 6, 'alpha': 0.5}. Best is trial 9 with value: 2.560596227645874.\u001B[0m\n",
      "\u001B[32m[I 2023-12-18 17:14:29,661]\u001B[0m Trial 26 finished with value: 2.590108871459961 and parameters: {'hidden_layer': 128, 'dropout': 0.1, 'size of network, number of convs': 1, 'lr': 0.006154659030189245, 'out_layer': 32, 'num_negative_samples': 6, 'alpha': 0.1}. Best is trial 9 with value: 2.560596227645874.\u001B[0m\n",
      "\u001B[32m[I 2023-12-18 17:14:36,300]\u001B[0m Trial 27 finished with value: 2.561966896057129 and parameters: {'hidden_layer': 64, 'dropout': 0.2, 'size of network, number of convs': 3, 'lr': 0.007142386437986574, 'out_layer': 32, 'num_negative_samples': 6, 'alpha': 0.1}. Best is trial 9 with value: 2.560596227645874.\u001B[0m\n",
      "\u001B[32m[I 2023-12-18 17:14:43,215]\u001B[0m Trial 28 finished with value: 2.559560775756836 and parameters: {'hidden_layer': 64, 'dropout': 0.2, 'size of network, number of convs': 3, 'lr': 0.009433551095889621, 'out_layer': 128, 'num_negative_samples': 6, 'alpha': 0.1}. Best is trial 28 with value: 2.559560775756836.\u001B[0m\n",
      "\u001B[32m[I 2023-12-18 17:14:46,549]\u001B[0m Trial 29 finished with value: 3.1726346015930176 and parameters: {'hidden_layer': 64, 'dropout': 0.30000000000000004, 'size of network, number of convs': 3, 'lr': 0.009502656716197024, 'out_layer': 128, 'num_negative_samples': 1, 'alpha': 0.3}. Best is trial 28 with value: 2.559560775756836.\u001B[0m\n",
      "\u001B[32m[I 2023-12-18 17:14:53,513]\u001B[0m Trial 30 finished with value: 2.5612850189208984 and parameters: {'hidden_layer': 64, 'dropout': 0.2, 'size of network, number of convs': 3, 'lr': 0.009364346175366212, 'out_layer': 128, 'num_negative_samples': 16, 'alpha': 0.1}. Best is trial 28 with value: 2.559560775756836.\u001B[0m\n",
      "\u001B[32m[I 2023-12-18 17:14:58,845]\u001B[0m Trial 31 finished with value: 2.5653305053710938 and parameters: {'hidden_layer': 64, 'dropout': 0.2, 'size of network, number of convs': 3, 'lr': 0.00920629714659389, 'out_layer': 128, 'num_negative_samples': 16, 'alpha': 0.1}. Best is trial 28 with value: 2.559560775756836.\u001B[0m\n",
      "\u001B[32m[I 2023-12-18 17:15:00,378]\u001B[0m Trial 32 finished with value: 4.913832664489746 and parameters: {'hidden_layer': 64, 'dropout': 0.30000000000000004, 'size of network, number of convs': 3, 'lr': 0.009400515864883328, 'out_layer': 128, 'num_negative_samples': 16, 'alpha': 0.7}. Best is trial 28 with value: 2.559560775756836.\u001B[0m\n",
      "\u001B[32m[I 2023-12-18 17:15:05,709]\u001B[0m Trial 33 finished with value: 2.5583789348602295 and parameters: {'hidden_layer': 64, 'dropout': 0.2, 'size of network, number of convs': 3, 'lr': 0.008710939823195936, 'out_layer': 128, 'num_negative_samples': 16, 'alpha': 0.1}. Best is trial 33 with value: 2.5583789348602295.\u001B[0m\n",
      "\u001B[32m[I 2023-12-18 17:15:09,026]\u001B[0m Trial 34 finished with value: 3.1603682041168213 and parameters: {'hidden_layer': 64, 'dropout': 0.30000000000000004, 'size of network, number of convs': 3, 'lr': 0.008563185157148457, 'out_layer': 128, 'num_negative_samples': 16, 'alpha': 0.3}. Best is trial 33 with value: 2.5583789348602295.\u001B[0m\n",
      "\u001B[32m[I 2023-12-18 17:15:10,053]\u001B[0m Trial 35 finished with value: 7.731837749481201 and parameters: {'hidden_layer': 64, 'dropout': 0.2, 'size of network, number of convs': 3, 'lr': 0.009968549740345478, 'out_layer': 128, 'num_negative_samples': 16, 'alpha': 0.9}. Best is trial 33 with value: 2.5583789348602295.\u001B[0m\n",
      "\u001B[32m[I 2023-12-18 17:15:15,929]\u001B[0m Trial 36 finished with value: 2.564417600631714 and parameters: {'hidden_layer': 64, 'dropout': 0.5, 'size of network, number of convs': 3, 'lr': 0.009568257706163982, 'out_layer': 128, 'num_negative_samples': 16, 'alpha': 0.1}. Best is trial 33 with value: 2.5583789348602295.\u001B[0m\n",
      "\u001B[32m[I 2023-12-18 17:15:17,883]\u001B[0m Trial 37 finished with value: 4.296369552612305 and parameters: {'hidden_layer': 64, 'dropout': 0.2, 'size of network, number of convs': 3, 'lr': 0.008674994253094998, 'out_layer': 128, 'num_negative_samples': 16, 'alpha': 0.6}. Best is trial 33 with value: 2.5583789348602295.\u001B[0m\n",
      "\u001B[32m[I 2023-12-18 17:15:19,266]\u001B[0m Trial 38 finished with value: 4.923565864562988 and parameters: {'hidden_layer': 64, 'dropout': 0.2, 'size of network, number of convs': 2, 'lr': 0.00967926914943774, 'out_layer': 128, 'num_negative_samples': 1, 'alpha': 0.7}. Best is trial 33 with value: 2.5583789348602295.\u001B[0m\n",
      "\u001B[32m[I 2023-12-18 17:15:20,407]\u001B[0m Trial 39 finished with value: 7.6009321212768555 and parameters: {'hidden_layer': 64, 'dropout': 0.4, 'size of network, number of convs': 3, 'lr': 0.009147993710029513, 'out_layer': 128, 'num_negative_samples': 11, 'alpha': 0.9}. Best is trial 33 with value: 2.5583789348602295.\u001B[0m\n",
      "\u001B[32m[I 2023-12-18 17:15:23,884]\u001B[0m Trial 40 finished with value: 3.536161422729492 and parameters: {'hidden_layer': 32, 'dropout': 0.30000000000000004, 'size of network, number of convs': 3, 'lr': 0.008796251343608702, 'out_layer': 64, 'num_negative_samples': 21, 'alpha': 0.4}. Best is trial 33 with value: 2.5583789348602295.\u001B[0m\n",
      "\u001B[32m[I 2023-12-18 17:15:29,098]\u001B[0m Trial 41 finished with value: 2.5612058639526367 and parameters: {'hidden_layer': 64, 'dropout': 0.2, 'size of network, number of convs': 3, 'lr': 0.008444261902252384, 'out_layer': 128, 'num_negative_samples': 16, 'alpha': 0.1}. Best is trial 33 with value: 2.5583789348602295.\u001B[0m\n",
      "\u001B[32m[I 2023-12-18 17:15:34,290]\u001B[0m Trial 42 finished with value: 2.551974296569824 and parameters: {'hidden_layer': 64, 'dropout': 0.2, 'size of network, number of convs': 3, 'lr': 0.008368548813888302, 'out_layer': 128, 'num_negative_samples': 16, 'alpha': 0.1}. Best is trial 42 with value: 2.551974296569824.\u001B[0m\n",
      "\u001B[32m[I 2023-12-18 17:15:39,893]\u001B[0m Trial 43 finished with value: 2.5710155963897705 and parameters: {'hidden_layer': 64, 'dropout': 0.2, 'size of network, number of convs': 3, 'lr': 0.00843883272084182, 'out_layer': 128, 'num_negative_samples': 16, 'alpha': 0.1}. Best is trial 42 with value: 2.551974296569824.\u001B[0m\n",
      "\u001B[32m[I 2023-12-18 17:15:45,198]\u001B[0m Trial 44 finished with value: 2.5708203315734863 and parameters: {'hidden_layer': 64, 'dropout': 0.30000000000000004, 'size of network, number of convs': 2, 'lr': 0.008324446009944468, 'out_layer': 128, 'num_negative_samples': 16, 'alpha': 0.1}. Best is trial 42 with value: 2.551974296569824.\u001B[0m\n",
      "\u001B[32m[I 2023-12-18 17:15:49,428]\u001B[0m Trial 45 finished with value: 2.8749704360961914 and parameters: {'hidden_layer': 64, 'dropout': 0.2, 'size of network, number of convs': 3, 'lr': 0.008180734085698985, 'out_layer': 128, 'num_negative_samples': 16, 'alpha': 0.2}. Best is trial 42 with value: 2.551974296569824.\u001B[0m\n",
      "\u001B[32m[I 2023-12-18 17:15:50,546]\u001B[0m Trial 46 finished with value: 5.7735443115234375 and parameters: {'hidden_layer': 64, 'dropout': 0.1, 'size of network, number of convs': 3, 'lr': 0.008066044507092359, 'out_layer': 128, 'num_negative_samples': 1, 'alpha': 0.8}. Best is trial 42 with value: 2.551974296569824.\u001B[0m\n",
      "\u001B[32m[I 2023-12-18 17:15:52,492]\u001B[0m Trial 47 finished with value: 4.316938877105713 and parameters: {'hidden_layer': 32, 'dropout': 0.2, 'size of network, number of convs': 3, 'lr': 0.007552052078964305, 'out_layer': 128, 'num_negative_samples': 16, 'alpha': 0.6}. Best is trial 42 with value: 2.551974296569824.\u001B[0m\n",
      "\u001B[32m[I 2023-12-18 17:15:54,835]\u001B[0m Trial 48 finished with value: 3.8812203407287598 and parameters: {'hidden_layer': 64, 'dropout': 0.4, 'size of network, number of convs': 2, 'lr': 0.008839943108049622, 'out_layer': 64, 'num_negative_samples': 11, 'alpha': 0.5}. Best is trial 42 with value: 2.551974296569824.\u001B[0m\n",
      "\u001B[32m[I 2023-12-18 17:16:01,925]\u001B[0m Trial 49 finished with value: 2.5582666397094727 and parameters: {'hidden_layer': 64, 'dropout': 0.1, 'size of network, number of convs': 3, 'lr': 0.009240209744889044, 'out_layer': 128, 'num_negative_samples': 16, 'alpha': 0.1}. Best is trial 42 with value: 2.551974296569824.\u001B[0m\n",
      "C:\\Users\\user\\Desktop\\StableGNN\\venv\\lib\\site-packages\\sklearn\\neural_network\\_multilayer_perceptron.py:692: ConvergenceWarning: Stochastic Optimizer: Maximum iterations (100) reached and the optimization hasn't converged yet.\n",
      "  warnings.warn(\n",
      "\u001B[32m[I 2023-12-18 17:16:08,494]\u001B[0m A new study created in memory with name: no-name-355c907c-4de0-43ad-8f20-989d9bfd47bb\u001B[0m\n",
      "\u001B[32m[I 2023-12-18 17:16:09,245]\u001B[0m Trial 0 finished with value: 7.329068183898926 and parameters: {'hidden_layer': 128, 'dropout': 0.1, 'size of network, number of convs': 1, 'lr': 0.005133805142069729, 'out_layer': 32, 'num_negative_samples': 1, 'alpha': 0.9}. Best is trial 0 with value: 7.329068183898926.\u001B[0m\n",
      "\u001B[32m[I 2023-12-18 17:16:11,108]\u001B[0m Trial 1 finished with value: 4.0145039558410645 and parameters: {'hidden_layer': 32, 'dropout': 0.5, 'size of network, number of convs': 2, 'lr': 0.008027918480253655, 'out_layer': 32, 'num_negative_samples': 21, 'alpha': 0.6}. Best is trial 1 with value: 4.0145039558410645.\u001B[0m\n",
      "\u001B[32m[I 2023-12-18 17:16:12,700]\u001B[0m Trial 2 finished with value: 4.64250373840332 and parameters: {'hidden_layer': 64, 'dropout': 0.1, 'size of network, number of convs': 1, 'lr': 0.009846485218938345, 'out_layer': 64, 'num_negative_samples': 16, 'alpha': 0.7}. Best is trial 1 with value: 4.0145039558410645.\u001B[0m\n",
      "\u001B[32m[I 2023-12-18 17:16:15,815]\u001B[0m Trial 3 finished with value: 3.2865021228790283 and parameters: {'hidden_layer': 32, 'dropout': 0.4, 'size of network, number of convs': 2, 'lr': 0.007968172361266717, 'out_layer': 32, 'num_negative_samples': 6, 'alpha': 0.4}. Best is trial 3 with value: 3.2865021228790283.\u001B[0m\n",
      "\u001B[32m[I 2023-12-18 17:16:19,765]\u001B[0m Trial 4 finished with value: 3.322953701019287 and parameters: {'hidden_layer': 128, 'dropout': 0.1, 'size of network, number of convs': 1, 'lr': 0.005354545988611238, 'out_layer': 32, 'num_negative_samples': 11, 'alpha': 0.4}. Best is trial 3 with value: 3.2865021228790283.\u001B[0m\n",
      "\u001B[32m[I 2023-12-18 17:16:21,689]\u001B[0m Trial 5 finished with value: 5.395177841186523 and parameters: {'hidden_layer': 128, 'dropout': 0.30000000000000004, 'size of network, number of convs': 3, 'lr': 0.007542054166864086, 'out_layer': 128, 'num_negative_samples': 11, 'alpha': 0.8}. Best is trial 3 with value: 3.2865021228790283.\u001B[0m\n",
      "\u001B[32m[I 2023-12-18 17:16:28,226]\u001B[0m Trial 6 finished with value: 2.5362281799316406 and parameters: {'hidden_layer': 64, 'dropout': 0.1, 'size of network, number of convs': 1, 'lr': 0.006746150383147066, 'out_layer': 128, 'num_negative_samples': 1, 'alpha': 0.1}. Best is trial 6 with value: 2.5362281799316406.\u001B[0m\n",
      "\u001B[32m[I 2023-12-18 17:16:29,840]\u001B[0m Trial 7 finished with value: 4.613767147064209 and parameters: {'hidden_layer': 64, 'dropout': 0.0, 'size of network, number of convs': 3, 'lr': 0.005765908368527489, 'out_layer': 128, 'num_negative_samples': 6, 'alpha': 0.7}. Best is trial 6 with value: 2.5362281799316406.\u001B[0m\n",
      "\u001B[32m[I 2023-12-18 17:16:31,437]\u001B[0m Trial 8 finished with value: 4.61345100402832 and parameters: {'hidden_layer': 32, 'dropout': 0.4, 'size of network, number of convs': 2, 'lr': 0.009532823456178405, 'out_layer': 32, 'num_negative_samples': 6, 'alpha': 0.7}. Best is trial 6 with value: 2.5362281799316406.\u001B[0m\n",
      "\u001B[32m[I 2023-12-18 17:16:33,904]\u001B[0m Trial 9 finished with value: 4.020819664001465 and parameters: {'hidden_layer': 32, 'dropout': 0.2, 'size of network, number of convs': 2, 'lr': 0.007718449794604818, 'out_layer': 32, 'num_negative_samples': 16, 'alpha': 0.6}. Best is trial 6 with value: 2.5362281799316406.\u001B[0m\n",
      "\u001B[32m[I 2023-12-18 17:16:40,321]\u001B[0m Trial 10 finished with value: 2.5439131259918213 and parameters: {'hidden_layer': 64, 'dropout': 0.0, 'size of network, number of convs': 1, 'lr': 0.006426677092443766, 'out_layer': 128, 'num_negative_samples': 1, 'alpha': 0.1}. Best is trial 6 with value: 2.5362281799316406.\u001B[0m\n",
      "\u001B[32m[I 2023-12-18 17:16:46,935]\u001B[0m Trial 11 finished with value: 2.5312881469726562 and parameters: {'hidden_layer': 64, 'dropout': 0.0, 'size of network, number of convs': 1, 'lr': 0.006569626229109774, 'out_layer': 128, 'num_negative_samples': 1, 'alpha': 0.1}. Best is trial 11 with value: 2.5312881469726562.\u001B[0m\n",
      "\u001B[32m[I 2023-12-18 17:16:54,125]\u001B[0m Trial 12 finished with value: 2.5384011268615723 and parameters: {'hidden_layer': 64, 'dropout': 0.0, 'size of network, number of convs': 1, 'lr': 0.006663837349361602, 'out_layer': 128, 'num_negative_samples': 1, 'alpha': 0.1}. Best is trial 11 with value: 2.5312881469726562.\u001B[0m\n",
      "\u001B[32m[I 2023-12-18 17:17:00,393]\u001B[0m Trial 13 finished with value: 2.5491273403167725 and parameters: {'hidden_layer': 64, 'dropout': 0.2, 'size of network, number of convs': 1, 'lr': 0.00676483622465626, 'out_layer': 128, 'num_negative_samples': 1, 'alpha': 0.1}. Best is trial 11 with value: 2.5312881469726562.\u001B[0m\n",
      "\u001B[32m[I 2023-12-18 17:17:06,000]\u001B[0m Trial 14 finished with value: 2.7731058597564697 and parameters: {'hidden_layer': 64, 'dropout': 0.1, 'size of network, number of convs': 1, 'lr': 0.006202742248155594, 'out_layer': 64, 'num_negative_samples': 1, 'alpha': 0.2}. Best is trial 11 with value: 2.5312881469726562.\u001B[0m\n",
      "\u001B[32m[I 2023-12-18 17:17:12,323]\u001B[0m Trial 15 finished with value: 3.741935968399048 and parameters: {'hidden_layer': 64, 'dropout': 0.0, 'size of network, number of convs': 1, 'lr': 0.008732899278747507, 'out_layer': 128, 'num_negative_samples': 21, 'alpha': 0.5}. Best is trial 11 with value: 2.5312881469726562.\u001B[0m\n",
      "\u001B[32m[I 2023-12-18 17:17:20,152]\u001B[0m Trial 16 finished with value: 2.997736692428589 and parameters: {'hidden_layer': 64, 'dropout': 0.2, 'size of network, number of convs': 3, 'lr': 0.0072195861501842444, 'out_layer': 128, 'num_negative_samples': 1, 'alpha': 0.3}. Best is trial 11 with value: 2.5312881469726562.\u001B[0m\n",
      "\u001B[32m[I 2023-12-18 17:17:35,158]\u001B[0m Trial 17 finished with value: 2.4960267543792725 and parameters: {'hidden_layer': 64, 'dropout': 0.1, 'size of network, number of convs': 1, 'lr': 0.0058374714349023115, 'out_layer': 64, 'num_negative_samples': 1, 'alpha': 0.1}. Best is trial 17 with value: 2.4960267543792725.\u001B[0m\n",
      "\u001B[32m[I 2023-12-18 17:17:50,640]\u001B[0m Trial 18 finished with value: 2.4967010021209717 and parameters: {'hidden_layer': 64, 'dropout': 0.0, 'size of network, number of convs': 1, 'lr': 0.005803052133101269, 'out_layer': 64, 'num_negative_samples': 1, 'alpha': 0.1}. Best is trial 17 with value: 2.4960267543792725.\u001B[0m\n",
      "\u001B[32m[I 2023-12-18 17:18:00,492]\u001B[0m Trial 19 finished with value: 2.9812092781066895 and parameters: {'hidden_layer': 128, 'dropout': 0.30000000000000004, 'size of network, number of convs': 3, 'lr': 0.005921820664222655, 'out_layer': 64, 'num_negative_samples': 16, 'alpha': 0.3}. Best is trial 17 with value: 2.4960267543792725.\u001B[0m\n",
      "\u001B[32m[I 2023-12-18 17:18:02,547]\u001B[0m Trial 20 finished with value: 7.412359714508057 and parameters: {'hidden_layer': 64, 'dropout': 0.2, 'size of network, number of convs': 1, 'lr': 0.00563231967592771, 'out_layer': 64, 'num_negative_samples': 11, 'alpha': 0.9}. Best is trial 17 with value: 2.4960267543792725.\u001B[0m\n",
      "\u001B[32m[I 2023-12-18 17:18:17,026]\u001B[0m Trial 21 finished with value: 2.4973502159118652 and parameters: {'hidden_layer': 64, 'dropout': 0.0, 'size of network, number of convs': 1, 'lr': 0.006108431648958579, 'out_layer': 64, 'num_negative_samples': 1, 'alpha': 0.1}. Best is trial 17 with value: 2.4960267543792725.\u001B[0m\n",
      "\u001B[32m[I 2023-12-18 17:18:31,948]\u001B[0m Trial 22 finished with value: 2.5076708793640137 and parameters: {'hidden_layer': 64, 'dropout': 0.0, 'size of network, number of convs': 1, 'lr': 0.005026731716004528, 'out_layer': 64, 'num_negative_samples': 1, 'alpha': 0.1}. Best is trial 17 with value: 2.4960267543792725.\u001B[0m\n",
      "\u001B[32m[I 2023-12-18 17:18:47,849]\u001B[0m Trial 23 finished with value: 2.4893975257873535 and parameters: {'hidden_layer': 64, 'dropout': 0.1, 'size of network, number of convs': 1, 'lr': 0.006065058481274513, 'out_layer': 64, 'num_negative_samples': 1, 'alpha': 0.1}. Best is trial 23 with value: 2.4893975257873535.\u001B[0m\n",
      "\u001B[32m[I 2023-12-18 17:18:51,233]\u001B[0m Trial 24 finished with value: 5.476950168609619 and parameters: {'hidden_layer': 64, 'dropout': 0.1, 'size of network, number of convs': 1, 'lr': 0.005487924364891923, 'out_layer': 64, 'num_negative_samples': 1, 'alpha': 0.8}. Best is trial 23 with value: 2.4893975257873535.\u001B[0m\n",
      "\u001B[32m[I 2023-12-18 17:18:59,382]\u001B[0m Trial 25 finished with value: 3.6795248985290527 and parameters: {'hidden_layer': 64, 'dropout': 0.1, 'size of network, number of convs': 1, 'lr': 0.007267648018688773, 'out_layer': 64, 'num_negative_samples': 21, 'alpha': 0.5}. Best is trial 23 with value: 2.4893975257873535.\u001B[0m\n",
      "\u001B[32m[I 2023-12-18 17:19:14,510]\u001B[0m Trial 26 finished with value: 2.762686014175415 and parameters: {'hidden_layer': 64, 'dropout': 0.2, 'size of network, number of convs': 1, 'lr': 0.005993759582003093, 'out_layer': 64, 'num_negative_samples': 1, 'alpha': 0.2}. Best is trial 23 with value: 2.4893975257873535.\u001B[0m\n",
      "\u001B[32m[I 2023-12-18 17:19:34,187]\u001B[0m Trial 27 finished with value: 2.4873247146606445 and parameters: {'hidden_layer': 64, 'dropout': 0.30000000000000004, 'size of network, number of convs': 1, 'lr': 0.006960297814679047, 'out_layer': 64, 'num_negative_samples': 1, 'alpha': 0.1}. Best is trial 27 with value: 2.4873247146606445.\u001B[0m\n",
      "\u001B[32m[I 2023-12-18 17:19:49,350]\u001B[0m Trial 28 finished with value: 2.4654455184936523 and parameters: {'hidden_layer': 32, 'dropout': 0.30000000000000004, 'size of network, number of convs': 2, 'lr': 0.007138934530788066, 'out_layer': 64, 'num_negative_samples': 1, 'alpha': 0.1}. Best is trial 28 with value: 2.4654455184936523.\u001B[0m\n",
      "\u001B[32m[I 2023-12-18 17:19:51,423]\u001B[0m Trial 29 finished with value: 7.237551689147949 and parameters: {'hidden_layer': 32, 'dropout': 0.30000000000000004, 'size of network, number of convs': 2, 'lr': 0.007094866530560419, 'out_layer': 64, 'num_negative_samples': 1, 'alpha': 0.9}. Best is trial 28 with value: 2.4654455184936523.\u001B[0m\n",
      "\u001B[32m[I 2023-12-18 17:20:07,653]\u001B[0m Trial 30 finished with value: 2.470432996749878 and parameters: {'hidden_layer': 32, 'dropout': 0.4, 'size of network, number of convs': 2, 'lr': 0.008424944992633642, 'out_layer': 64, 'num_negative_samples': 6, 'alpha': 0.1}. Best is trial 28 with value: 2.4654455184936523.\u001B[0m\n",
      "\u001B[32m[I 2023-12-18 17:20:25,746]\u001B[0m Trial 31 finished with value: 2.4644317626953125 and parameters: {'hidden_layer': 32, 'dropout': 0.4, 'size of network, number of convs': 2, 'lr': 0.008743981307184541, 'out_layer': 64, 'num_negative_samples': 6, 'alpha': 0.1}. Best is trial 31 with value: 2.4644317626953125.\u001B[0m\n",
      "\u001B[32m[I 2023-12-18 17:20:44,442]\u001B[0m Trial 32 finished with value: 2.4570937156677246 and parameters: {'hidden_layer': 32, 'dropout': 0.4, 'size of network, number of convs': 2, 'lr': 0.008807993379653097, 'out_layer': 64, 'num_negative_samples': 6, 'alpha': 0.1}. Best is trial 32 with value: 2.4570937156677246.\u001B[0m\n",
      "\u001B[32m[I 2023-12-18 17:20:48,502]\u001B[0m Trial 33 finished with value: 4.012019157409668 and parameters: {'hidden_layer': 32, 'dropout': 0.5, 'size of network, number of convs': 2, 'lr': 0.008577439727254079, 'out_layer': 64, 'num_negative_samples': 6, 'alpha': 0.6}. Best is trial 32 with value: 2.4570937156677246.\u001B[0m\n",
      "\u001B[32m[I 2023-12-18 17:21:02,318]\u001B[0m Trial 34 finished with value: 2.4730629920959473 and parameters: {'hidden_layer': 32, 'dropout': 0.4, 'size of network, number of convs': 2, 'lr': 0.00872797736166646, 'out_layer': 64, 'num_negative_samples': 6, 'alpha': 0.1}. Best is trial 32 with value: 2.4570937156677246.\u001B[0m\n",
      "\u001B[32m[I 2023-12-18 17:21:11,782]\u001B[0m Trial 35 finished with value: 3.312399387359619 and parameters: {'hidden_layer': 32, 'dropout': 0.4, 'size of network, number of convs': 2, 'lr': 0.009218036225271784, 'out_layer': 64, 'num_negative_samples': 6, 'alpha': 0.4}. Best is trial 32 with value: 2.4570937156677246.\u001B[0m\n",
      "\u001B[32m[I 2023-12-18 17:21:30,451]\u001B[0m Trial 36 finished with value: 2.4592621326446533 and parameters: {'hidden_layer': 32, 'dropout': 0.4, 'size of network, number of convs': 2, 'lr': 0.008256568633294362, 'out_layer': 64, 'num_negative_samples': 6, 'alpha': 0.1}. Best is trial 32 with value: 2.4570937156677246.\u001B[0m\n",
      "\u001B[32m[I 2023-12-18 17:21:33,770]\u001B[0m Trial 37 finished with value: 5.373208522796631 and parameters: {'hidden_layer': 32, 'dropout': 0.5, 'size of network, number of convs': 2, 'lr': 0.008192823334312531, 'out_layer': 32, 'num_negative_samples': 6, 'alpha': 0.8}. Best is trial 32 with value: 2.4570937156677246.\u001B[0m\n",
      "\u001B[32m[I 2023-12-18 17:21:43,945]\u001B[0m Trial 38 finished with value: 3.2645723819732666 and parameters: {'hidden_layer': 32, 'dropout': 0.5, 'size of network, number of convs': 2, 'lr': 0.00903132012267659, 'out_layer': 64, 'num_negative_samples': 6, 'alpha': 0.4}. Best is trial 32 with value: 2.4570937156677246.\u001B[0m\n",
      "\u001B[32m[I 2023-12-18 17:21:48,905]\u001B[0m Trial 39 finished with value: 4.591096878051758 and parameters: {'hidden_layer': 32, 'dropout': 0.4, 'size of network, number of convs': 2, 'lr': 0.009913153288947481, 'out_layer': 64, 'num_negative_samples': 6, 'alpha': 0.7}. Best is trial 32 with value: 2.4570937156677246.\u001B[0m\n",
      "\u001B[32m[I 2023-12-18 17:22:08,228]\u001B[0m Trial 40 finished with value: 2.4725089073181152 and parameters: {'hidden_layer': 32, 'dropout': 0.30000000000000004, 'size of network, number of convs': 2, 'lr': 0.007908327293358369, 'out_layer': 32, 'num_negative_samples': 6, 'alpha': 0.1}. Best is trial 32 with value: 2.4570937156677246.\u001B[0m\n",
      "\u001B[32m[I 2023-12-18 17:22:27,070]\u001B[0m Trial 41 finished with value: 2.4705233573913574 and parameters: {'hidden_layer': 32, 'dropout': 0.4, 'size of network, number of convs': 2, 'lr': 0.008355489354296544, 'out_layer': 64, 'num_negative_samples': 6, 'alpha': 0.1}. Best is trial 32 with value: 2.4570937156677246.\u001B[0m\n",
      "\u001B[32m[I 2023-12-18 17:22:42,788]\u001B[0m Trial 42 finished with value: 2.466841220855713 and parameters: {'hidden_layer': 32, 'dropout': 0.4, 'size of network, number of convs': 2, 'lr': 0.009042171743831925, 'out_layer': 64, 'num_negative_samples': 6, 'alpha': 0.1}. Best is trial 32 with value: 2.4570937156677246.\u001B[0m\n",
      "\u001B[32m[I 2023-12-18 17:22:57,112]\u001B[0m Trial 43 finished with value: 2.4842770099639893 and parameters: {'hidden_layer': 32, 'dropout': 0.4, 'size of network, number of convs': 2, 'lr': 0.009496493671201861, 'out_layer': 64, 'num_negative_samples': 6, 'alpha': 0.1}. Best is trial 32 with value: 2.4570937156677246.\u001B[0m\n",
      "\u001B[32m[I 2023-12-18 17:23:03,872]\u001B[0m Trial 44 finished with value: 4.04730749130249 and parameters: {'hidden_layer': 32, 'dropout': 0.5, 'size of network, number of convs': 2, 'lr': 0.00900523817857741, 'out_layer': 64, 'num_negative_samples': 11, 'alpha': 0.6}. Best is trial 32 with value: 2.4570937156677246.\u001B[0m\n",
      "\u001B[32m[I 2023-12-18 17:23:22,351]\u001B[0m Trial 45 finished with value: 2.466003656387329 and parameters: {'hidden_layer': 128, 'dropout': 0.30000000000000004, 'size of network, number of convs': 2, 'lr': 0.007687280674071599, 'out_layer': 64, 'num_negative_samples': 16, 'alpha': 0.1}. Best is trial 32 with value: 2.4570937156677246.\u001B[0m\n",
      "\u001B[32m[I 2023-12-18 17:23:37,319]\u001B[0m Trial 46 finished with value: 2.7219057083129883 and parameters: {'hidden_layer': 128, 'dropout': 0.30000000000000004, 'size of network, number of convs': 2, 'lr': 0.0076253691729845615, 'out_layer': 32, 'num_negative_samples': 16, 'alpha': 0.2}. Best is trial 32 with value: 2.4570937156677246.\u001B[0m\n",
      "\u001B[32m[I 2023-12-18 17:23:44,347]\u001B[0m Trial 47 finished with value: 3.593372106552124 and parameters: {'hidden_layer': 128, 'dropout': 0.30000000000000004, 'size of network, number of convs': 2, 'lr': 0.007831169712947204, 'out_layer': 64, 'num_negative_samples': 16, 'alpha': 0.5}. Best is trial 32 with value: 2.4570937156677246.\u001B[0m\n",
      "\u001B[32m[I 2023-12-18 17:23:56,062]\u001B[0m Trial 48 finished with value: 2.9937124252319336 and parameters: {'hidden_layer': 128, 'dropout': 0.30000000000000004, 'size of network, number of convs': 2, 'lr': 0.007412257434525488, 'out_layer': 64, 'num_negative_samples': 16, 'alpha': 0.3}. Best is trial 32 with value: 2.4570937156677246.\u001B[0m\n",
      "\u001B[32m[I 2023-12-18 17:24:15,171]\u001B[0m Trial 49 finished with value: 2.459756374359131 and parameters: {'hidden_layer': 128, 'dropout': 0.4, 'size of network, number of convs': 3, 'lr': 0.00814949890151324, 'out_layer': 64, 'num_negative_samples': 21, 'alpha': 0.1}. Best is trial 32 with value: 2.4570937156677246.\u001B[0m\n",
      "C:\\Users\\user\\Desktop\\StableGNN\\venv\\lib\\site-packages\\sklearn\\neural_network\\_multilayer_perceptron.py:692: ConvergenceWarning: Stochastic Optimizer: Maximum iterations (100) reached and the optimization hasn't converged yet.\n",
      "  warnings.warn(\n",
      "\u001B[32m[I 2023-12-18 17:24:35,675]\u001B[0m A new study created in memory with name: no-name-87a320d0-2776-470a-bc9c-ffc15526183c\u001B[0m\n",
      "\u001B[32m[I 2023-12-18 17:24:42,275]\u001B[0m Trial 0 finished with value: 4.1374831199646 and parameters: {'hidden_layer': 128, 'dropout': 0.2, 'size of network, number of convs': 2, 'lr': 0.00951940789647843, 'out_layer': 128, 'num_negative_samples': 11, 'alpha': 0.6}. Best is trial 0 with value: 4.1374831199646.\u001B[0m\n",
      "\u001B[32m[I 2023-12-18 17:24:51,438]\u001B[0m Trial 1 finished with value: 3.3879575729370117 and parameters: {'hidden_layer': 32, 'dropout': 0.30000000000000004, 'size of network, number of convs': 3, 'lr': 0.0055581240466965245, 'out_layer': 128, 'num_negative_samples': 16, 'alpha': 0.4}. Best is trial 1 with value: 3.3879575729370117.\u001B[0m\n",
      "\u001B[32m[I 2023-12-18 17:25:02,034]\u001B[0m Trial 2 finished with value: 3.188246965408325 and parameters: {'hidden_layer': 64, 'dropout': 0.4, 'size of network, number of convs': 1, 'lr': 0.009096672840953599, 'out_layer': 128, 'num_negative_samples': 11, 'alpha': 0.3}. Best is trial 2 with value: 3.188246965408325.\u001B[0m\n",
      "\u001B[32m[I 2023-12-18 17:25:06,846]\u001B[0m Trial 3 finished with value: 4.775965690612793 and parameters: {'hidden_layer': 64, 'dropout': 0.2, 'size of network, number of convs': 2, 'lr': 0.007336279898549056, 'out_layer': 128, 'num_negative_samples': 16, 'alpha': 0.7}. Best is trial 2 with value: 3.188246965408325.\u001B[0m\n",
      "\u001B[32m[I 2023-12-18 17:25:11,205]\u001B[0m Trial 4 finished with value: 4.760646343231201 and parameters: {'hidden_layer': 32, 'dropout': 0.0, 'size of network, number of convs': 2, 'lr': 0.00517515767433091, 'out_layer': 128, 'num_negative_samples': 6, 'alpha': 0.7}. Best is trial 2 with value: 3.188246965408325.\u001B[0m\n",
      "\u001B[32m[I 2023-12-18 17:25:19,415]\u001B[0m Trial 5 finished with value: 3.743441343307495 and parameters: {'hidden_layer': 64, 'dropout': 0.2, 'size of network, number of convs': 1, 'lr': 0.008859956668307821, 'out_layer': 64, 'num_negative_samples': 6, 'alpha': 0.5}. Best is trial 2 with value: 3.188246965408325.\u001B[0m\n",
      "\u001B[32m[I 2023-12-18 17:25:23,102]\u001B[0m Trial 6 finished with value: 5.509449481964111 and parameters: {'hidden_layer': 64, 'dropout': 0.5, 'size of network, number of convs': 3, 'lr': 0.005483468138977009, 'out_layer': 64, 'num_negative_samples': 11, 'alpha': 0.8}. Best is trial 2 with value: 3.188246965408325.\u001B[0m\n",
      "\u001B[32m[I 2023-12-18 17:25:27,763]\u001B[0m Trial 7 finished with value: 4.764228820800781 and parameters: {'hidden_layer': 64, 'dropout': 0.0, 'size of network, number of convs': 1, 'lr': 0.005740904268685583, 'out_layer': 32, 'num_negative_samples': 1, 'alpha': 0.7}. Best is trial 2 with value: 3.188246965408325.\u001B[0m\n",
      "\u001B[32m[I 2023-12-18 17:25:33,777]\u001B[0m Trial 8 finished with value: 4.162026405334473 and parameters: {'hidden_layer': 32, 'dropout': 0.1, 'size of network, number of convs': 2, 'lr': 0.008889611856450748, 'out_layer': 64, 'num_negative_samples': 1, 'alpha': 0.6}. Best is trial 2 with value: 3.188246965408325.\u001B[0m\n",
      "\u001B[32m[I 2023-12-18 17:25:40,137]\u001B[0m Trial 9 finished with value: 4.110606670379639 and parameters: {'hidden_layer': 64, 'dropout': 0.0, 'size of network, number of convs': 2, 'lr': 0.007576452607890186, 'out_layer': 32, 'num_negative_samples': 6, 'alpha': 0.6}. Best is trial 2 with value: 3.188246965408325.\u001B[0m\n",
      "\u001B[32m[I 2023-12-18 17:25:46,753]\u001B[0m Trial 10 finished with value: 3.1856155395507812 and parameters: {'hidden_layer': 128, 'dropout': 0.5, 'size of network, number of convs': 1, 'lr': 0.007526046163793364, 'out_layer': 128, 'num_negative_samples': 21, 'alpha': 0.3}. Best is trial 10 with value: 3.1856155395507812.\u001B[0m\n",
      "\u001B[32m[I 2023-12-18 17:25:56,111]\u001B[0m Trial 11 finished with value: 3.175401210784912 and parameters: {'hidden_layer': 128, 'dropout': 0.5, 'size of network, number of convs': 1, 'lr': 0.007595981912957832, 'out_layer': 128, 'num_negative_samples': 21, 'alpha': 0.3}. Best is trial 11 with value: 3.175401210784912.\u001B[0m\n",
      "\u001B[32m[I 2023-12-18 17:26:07,681]\u001B[0m Trial 12 finished with value: 3.1794674396514893 and parameters: {'hidden_layer': 128, 'dropout': 0.5, 'size of network, number of convs': 1, 'lr': 0.007499578760023013, 'out_layer': 128, 'num_negative_samples': 21, 'alpha': 0.3}. Best is trial 11 with value: 3.175401210784912.\u001B[0m\n",
      "\u001B[32m[I 2023-12-18 17:26:18,531]\u001B[0m Trial 13 finished with value: 3.185223340988159 and parameters: {'hidden_layer': 128, 'dropout': 0.4, 'size of network, number of convs': 1, 'lr': 0.006649135807876508, 'out_layer': 128, 'num_negative_samples': 21, 'alpha': 0.3}. Best is trial 11 with value: 3.175401210784912.\u001B[0m\n",
      "\u001B[32m[I 2023-12-18 17:26:32,501]\u001B[0m Trial 14 finished with value: 2.9018924236297607 and parameters: {'hidden_layer': 128, 'dropout': 0.4, 'size of network, number of convs': 1, 'lr': 0.00810568221122091, 'out_layer': 128, 'num_negative_samples': 21, 'alpha': 0.2}. Best is trial 14 with value: 2.9018924236297607.\u001B[0m\n",
      "\u001B[32m[I 2023-12-18 17:26:47,433]\u001B[0m Trial 15 finished with value: 2.8412537574768066 and parameters: {'hidden_layer': 128, 'dropout': 0.4, 'size of network, number of convs': 1, 'lr': 0.008203426421346225, 'out_layer': 32, 'num_negative_samples': 21, 'alpha': 0.2}. Best is trial 15 with value: 2.8412537574768066.\u001B[0m\n",
      "\u001B[32m[I 2023-12-18 17:27:02,006]\u001B[0m Trial 16 finished with value: 2.8396332263946533 and parameters: {'hidden_layer': 128, 'dropout': 0.4, 'size of network, number of convs': 1, 'lr': 0.008310694096774455, 'out_layer': 32, 'num_negative_samples': 21, 'alpha': 0.2}. Best is trial 16 with value: 2.8396332263946533.\u001B[0m\n",
      "\u001B[32m[I 2023-12-18 17:27:15,063]\u001B[0m Trial 17 finished with value: 2.822667121887207 and parameters: {'hidden_layer': 128, 'dropout': 0.30000000000000004, 'size of network, number of convs': 3, 'lr': 0.008247777118400766, 'out_layer': 32, 'num_negative_samples': 21, 'alpha': 0.2}. Best is trial 17 with value: 2.822667121887207.\u001B[0m\n",
      "\u001B[32m[I 2023-12-18 17:27:17,337]\u001B[0m Trial 18 finished with value: 7.44012975692749 and parameters: {'hidden_layer': 128, 'dropout': 0.30000000000000004, 'size of network, number of convs': 3, 'lr': 0.006606028630382271, 'out_layer': 32, 'num_negative_samples': 21, 'alpha': 0.9}. Best is trial 17 with value: 2.822667121887207.\u001B[0m\n",
      "\u001B[32m[I 2023-12-18 17:27:32,069]\u001B[0m Trial 19 finished with value: 2.8087210655212402 and parameters: {'hidden_layer': 128, 'dropout': 0.30000000000000004, 'size of network, number of convs': 3, 'lr': 0.009784600695833322, 'out_layer': 32, 'num_negative_samples': 21, 'alpha': 0.2}. Best is trial 19 with value: 2.8087210655212402.\u001B[0m\n",
      "\u001B[32m[I 2023-12-18 17:27:49,984]\u001B[0m Trial 20 finished with value: 2.5391159057617188 and parameters: {'hidden_layer': 128, 'dropout': 0.30000000000000004, 'size of network, number of convs': 3, 'lr': 0.009951645716545492, 'out_layer': 32, 'num_negative_samples': 1, 'alpha': 0.1}. Best is trial 20 with value: 2.5391159057617188.\u001B[0m\n",
      "\u001B[32m[I 2023-12-18 17:28:09,038]\u001B[0m Trial 21 finished with value: 2.5277960300445557 and parameters: {'hidden_layer': 128, 'dropout': 0.30000000000000004, 'size of network, number of convs': 3, 'lr': 0.00995383116491907, 'out_layer': 32, 'num_negative_samples': 1, 'alpha': 0.1}. Best is trial 21 with value: 2.5277960300445557.\u001B[0m\n",
      "\u001B[32m[I 2023-12-18 17:28:28,942]\u001B[0m Trial 22 finished with value: 2.521622896194458 and parameters: {'hidden_layer': 128, 'dropout': 0.30000000000000004, 'size of network, number of convs': 3, 'lr': 0.009948225989701383, 'out_layer': 32, 'num_negative_samples': 1, 'alpha': 0.1}. Best is trial 22 with value: 2.521622896194458.\u001B[0m\n",
      "\u001B[32m[I 2023-12-18 17:28:41,670]\u001B[0m Trial 23 finished with value: 2.525785207748413 and parameters: {'hidden_layer': 128, 'dropout': 0.1, 'size of network, number of convs': 3, 'lr': 0.009944899720692525, 'out_layer': 32, 'num_negative_samples': 1, 'alpha': 0.1}. Best is trial 22 with value: 2.521622896194458.\u001B[0m\n",
      "\u001B[32m[I 2023-12-18 17:28:57,713]\u001B[0m Trial 24 finished with value: 2.5316081047058105 and parameters: {'hidden_layer': 128, 'dropout': 0.1, 'size of network, number of convs': 3, 'lr': 0.009389477038233965, 'out_layer': 32, 'num_negative_samples': 1, 'alpha': 0.1}. Best is trial 22 with value: 2.521622896194458.\u001B[0m\n",
      "\u001B[32m[I 2023-12-18 17:29:16,551]\u001B[0m Trial 25 finished with value: 2.5261552333831787 and parameters: {'hidden_layer': 32, 'dropout': 0.1, 'size of network, number of convs': 3, 'lr': 0.009601411111086297, 'out_layer': 32, 'num_negative_samples': 1, 'alpha': 0.1}. Best is trial 22 with value: 2.521622896194458.\u001B[0m\n",
      "\u001B[32m[I 2023-12-18 17:29:35,206]\u001B[0m Trial 26 finished with value: 2.525693893432617 and parameters: {'hidden_layer': 32, 'dropout': 0.1, 'size of network, number of convs': 3, 'lr': 0.00934599182651729, 'out_layer': 32, 'num_negative_samples': 1, 'alpha': 0.1}. Best is trial 22 with value: 2.521622896194458.\u001B[0m\n",
      "\u001B[32m[I 2023-12-18 17:29:54,765]\u001B[0m Trial 27 finished with value: 2.545620918273926 and parameters: {'hidden_layer': 32, 'dropout': 0.1, 'size of network, number of convs': 3, 'lr': 0.009201077277370443, 'out_layer': 32, 'num_negative_samples': 1, 'alpha': 0.1}. Best is trial 22 with value: 2.521622896194458.\u001B[0m\n",
      "\u001B[32m[I 2023-12-18 17:30:10,305]\u001B[0m Trial 28 finished with value: 2.5341057777404785 and parameters: {'hidden_layer': 32, 'dropout': 0.2, 'size of network, number of convs': 3, 'lr': 0.00859723018352335, 'out_layer': 32, 'num_negative_samples': 1, 'alpha': 0.1}. Best is trial 22 with value: 2.521622896194458.\u001B[0m\n",
      "\u001B[32m[I 2023-12-18 17:30:26,539]\u001B[0m Trial 29 finished with value: 2.534534454345703 and parameters: {'hidden_layer': 32, 'dropout': 0.1, 'size of network, number of convs': 3, 'lr': 0.009536356061656448, 'out_layer': 64, 'num_negative_samples': 1, 'alpha': 0.1}. Best is trial 22 with value: 2.521622896194458.\u001B[0m\n",
      "\u001B[32m[I 2023-12-18 17:30:28,441]\u001B[0m Trial 30 finished with value: 7.49299955368042 and parameters: {'hidden_layer': 32, 'dropout': 0.2, 'size of network, number of convs': 3, 'lr': 0.009344009890922801, 'out_layer': 32, 'num_negative_samples': 1, 'alpha': 0.9}. Best is trial 22 with value: 2.521622896194458.\u001B[0m\n",
      "\u001B[32m[I 2023-12-18 17:30:42,925]\u001B[0m Trial 31 finished with value: 2.534864902496338 and parameters: {'hidden_layer': 32, 'dropout': 0.1, 'size of network, number of convs': 3, 'lr': 0.009823096035349534, 'out_layer': 32, 'num_negative_samples': 1, 'alpha': 0.1}. Best is trial 22 with value: 2.521622896194458.\u001B[0m\n",
      "\u001B[32m[I 2023-12-18 17:30:51,674]\u001B[0m Trial 32 finished with value: 3.3813605308532715 and parameters: {'hidden_layer': 32, 'dropout': 0.1, 'size of network, number of convs': 3, 'lr': 0.009562457653762253, 'out_layer': 32, 'num_negative_samples': 1, 'alpha': 0.4}. Best is trial 22 with value: 2.521622896194458.\u001B[0m\n",
      "\u001B[32m[I 2023-12-18 17:31:07,813]\u001B[0m Trial 33 finished with value: 2.5253982543945312 and parameters: {'hidden_layer': 32, 'dropout': 0.0, 'size of network, number of convs': 3, 'lr': 0.009608541160936361, 'out_layer': 32, 'num_negative_samples': 16, 'alpha': 0.1}. Best is trial 22 with value: 2.521622896194458.\u001B[0m\n",
      "\u001B[32m[I 2023-12-18 17:31:22,917]\u001B[0m Trial 34 finished with value: 2.5287928581237793 and parameters: {'hidden_layer': 32, 'dropout': 0.0, 'size of network, number of convs': 3, 'lr': 0.009034981614716744, 'out_layer': 32, 'num_negative_samples': 16, 'alpha': 0.1}. Best is trial 22 with value: 2.521622896194458.\u001B[0m\n",
      "\u001B[32m[I 2023-12-18 17:31:25,942]\u001B[0m Trial 35 finished with value: 5.528113842010498 and parameters: {'hidden_layer': 32, 'dropout': 0.0, 'size of network, number of convs': 3, 'lr': 0.008606491578665235, 'out_layer': 32, 'num_negative_samples': 16, 'alpha': 0.8}. Best is trial 22 with value: 2.521622896194458.\u001B[0m\n",
      "\u001B[32m[I 2023-12-18 17:31:32,289]\u001B[0m Trial 36 finished with value: 3.7090179920196533 and parameters: {'hidden_layer': 32, 'dropout': 0.2, 'size of network, number of convs': 3, 'lr': 0.009229195651726462, 'out_layer': 32, 'num_negative_samples': 16, 'alpha': 0.5}. Best is trial 22 with value: 2.521622896194458.\u001B[0m\n",
      "\u001B[32m[I 2023-12-18 17:31:37,847]\u001B[0m Trial 37 finished with value: 3.388007164001465 and parameters: {'hidden_layer': 32, 'dropout': 0.0, 'size of network, number of convs': 2, 'lr': 0.00973892172449182, 'out_layer': 64, 'num_negative_samples': 11, 'alpha': 0.4}. Best is trial 22 with value: 2.521622896194458.\u001B[0m\n",
      "\u001B[32m[I 2023-12-18 17:31:43,900]\u001B[0m Trial 38 finished with value: 2.522447109222412 and parameters: {'hidden_layer': 64, 'dropout': 0.0, 'size of network, number of convs': 3, 'lr': 0.008695245695736709, 'out_layer': 32, 'num_negative_samples': 16, 'alpha': 0.1}. Best is trial 22 with value: 2.521622896194458.\u001B[0m\n",
      "\u001B[32m[I 2023-12-18 17:31:50,406]\u001B[0m Trial 39 finished with value: 2.5247514247894287 and parameters: {'hidden_layer': 64, 'dropout': 0.0, 'size of network, number of convs': 3, 'lr': 0.008896663240274022, 'out_layer': 32, 'num_negative_samples': 16, 'alpha': 0.1}. Best is trial 22 with value: 2.521622896194458.\u001B[0m\n",
      "\u001B[32m[I 2023-12-18 17:31:52,151]\u001B[0m Trial 40 finished with value: 4.774049758911133 and parameters: {'hidden_layer': 64, 'dropout': 0.0, 'size of network, number of convs': 2, 'lr': 0.00874615908583217, 'out_layer': 64, 'num_negative_samples': 16, 'alpha': 0.7}. Best is trial 22 with value: 2.521622896194458.\u001B[0m\n",
      "\u001B[32m[I 2023-12-18 17:31:58,620]\u001B[0m Trial 41 finished with value: 2.5324056148529053 and parameters: {'hidden_layer': 64, 'dropout': 0.0, 'size of network, number of convs': 3, 'lr': 0.009054976302464709, 'out_layer': 32, 'num_negative_samples': 16, 'alpha': 0.1}. Best is trial 22 with value: 2.521622896194458.\u001B[0m\n",
      "\u001B[32m[I 2023-12-18 17:32:05,170]\u001B[0m Trial 42 finished with value: 2.5242903232574463 and parameters: {'hidden_layer': 64, 'dropout': 0.0, 'size of network, number of convs': 3, 'lr': 0.008578895532202972, 'out_layer': 32, 'num_negative_samples': 16, 'alpha': 0.1}. Best is trial 22 with value: 2.521622896194458.\u001B[0m\n",
      "\u001B[32m[I 2023-12-18 17:32:11,602]\u001B[0m Trial 43 finished with value: 2.529675245285034 and parameters: {'hidden_layer': 64, 'dropout': 0.0, 'size of network, number of convs': 3, 'lr': 0.007879458509118713, 'out_layer': 32, 'num_negative_samples': 16, 'alpha': 0.1}. Best is trial 22 with value: 2.521622896194458.\u001B[0m\n",
      "\u001B[32m[I 2023-12-18 17:32:14,255]\u001B[0m Trial 44 finished with value: 3.7040252685546875 and parameters: {'hidden_layer': 64, 'dropout': 0.0, 'size of network, number of convs': 3, 'lr': 0.008466975063310648, 'out_layer': 32, 'num_negative_samples': 16, 'alpha': 0.5}. Best is trial 22 with value: 2.521622896194458.\u001B[0m\n",
      "\u001B[32m[I 2023-12-18 17:32:16,345]\u001B[0m Trial 45 finished with value: 4.144480228424072 and parameters: {'hidden_layer': 64, 'dropout': 0.0, 'size of network, number of convs': 3, 'lr': 0.008947428044254736, 'out_layer': 32, 'num_negative_samples': 16, 'alpha': 0.6}. Best is trial 22 with value: 2.521622896194458.\u001B[0m\n",
      "\u001B[32m[I 2023-12-18 17:32:25,448]\u001B[0m Trial 46 finished with value: 2.534139394760132 and parameters: {'hidden_layer': 64, 'dropout': 0.0, 'size of network, number of convs': 2, 'lr': 0.00689307802501947, 'out_layer': 32, 'num_negative_samples': 16, 'alpha': 0.1}. Best is trial 22 with value: 2.521622896194458.\u001B[0m\n",
      "\u001B[32m[I 2023-12-18 17:32:28,470]\u001B[0m Trial 47 finished with value: 5.594435691833496 and parameters: {'hidden_layer': 64, 'dropout': 0.0, 'size of network, number of convs': 3, 'lr': 0.007797364747080761, 'out_layer': 64, 'num_negative_samples': 6, 'alpha': 0.8}. Best is trial 22 with value: 2.521622896194458.\u001B[0m\n",
      "\u001B[32m[I 2023-12-18 17:32:44,098]\u001B[0m Trial 48 finished with value: 2.5265374183654785 and parameters: {'hidden_layer': 64, 'dropout': 0.0, 'size of network, number of convs': 3, 'lr': 0.008721500306527734, 'out_layer': 128, 'num_negative_samples': 16, 'alpha': 0.1}. Best is trial 22 with value: 2.521622896194458.\u001B[0m\n",
      "\u001B[32m[I 2023-12-18 17:32:48,016]\u001B[0m Trial 49 finished with value: 4.722066879272461 and parameters: {'hidden_layer': 64, 'dropout': 0.2, 'size of network, number of convs': 3, 'lr': 0.008019824360619602, 'out_layer': 32, 'num_negative_samples': 11, 'alpha': 0.7}. Best is trial 22 with value: 2.521622896194458.\u001B[0m\n",
      "C:\\Users\\user\\Desktop\\StableGNN\\venv\\lib\\site-packages\\sklearn\\neural_network\\_multilayer_perceptron.py:692: ConvergenceWarning: Stochastic Optimizer: Maximum iterations (100) reached and the optimization hasn't converged yet.\n",
      "  warnings.warn(\n",
      "\u001B[32m[I 2023-12-18 17:33:04,238]\u001B[0m A new study created in memory with name: no-name-d1bcd4c0-ae2f-44fc-a8e1-1dced6b59fbd\u001B[0m\n",
      "\u001B[32m[I 2023-12-18 17:33:07,879]\u001B[0m Trial 0 finished with value: 5.621933460235596 and parameters: {'hidden_layer': 32, 'dropout': 0.4, 'size of network, number of convs': 1, 'lr': 0.006013712958143913, 'out_layer': 128, 'num_negative_samples': 6, 'alpha': 0.8}. Best is trial 0 with value: 5.621933460235596.\u001B[0m\n",
      "\u001B[32m[I 2023-12-18 17:33:16,433]\u001B[0m Trial 1 finished with value: 3.3378071784973145 and parameters: {'hidden_layer': 64, 'dropout': 0.5, 'size of network, number of convs': 3, 'lr': 0.0055462721521666045, 'out_layer': 64, 'num_negative_samples': 16, 'alpha': 0.4}. Best is trial 1 with value: 3.3378071784973145.\u001B[0m\n",
      "\u001B[32m[I 2023-12-18 17:33:18,939]\u001B[0m Trial 2 finished with value: 5.468348979949951 and parameters: {'hidden_layer': 32, 'dropout': 0.0, 'size of network, number of convs': 1, 'lr': 0.0073177030550819425, 'out_layer': 64, 'num_negative_samples': 1, 'alpha': 0.8}. Best is trial 1 with value: 3.3378071784973145.\u001B[0m\n",
      "\u001B[32m[I 2023-12-18 17:33:24,043]\u001B[0m Trial 3 finished with value: 4.107010364532471 and parameters: {'hidden_layer': 32, 'dropout': 0.1, 'size of network, number of convs': 1, 'lr': 0.006343690878974507, 'out_layer': 32, 'num_negative_samples': 1, 'alpha': 0.6}. Best is trial 1 with value: 3.3378071784973145.\u001B[0m\n",
      "\u001B[32m[I 2023-12-18 17:33:26,422]\u001B[0m Trial 4 finished with value: 7.204980850219727 and parameters: {'hidden_layer': 32, 'dropout': 0.2, 'size of network, number of convs': 3, 'lr': 0.007985871827881262, 'out_layer': 128, 'num_negative_samples': 16, 'alpha': 0.9}. Best is trial 1 with value: 3.3378071784973145.\u001B[0m\n",
      "\u001B[32m[I 2023-12-18 17:33:29,223]\u001B[0m Trial 5 finished with value: 5.45971155166626 and parameters: {'hidden_layer': 64, 'dropout': 0.1, 'size of network, number of convs': 1, 'lr': 0.006336944748322164, 'out_layer': 64, 'num_negative_samples': 1, 'alpha': 0.8}. Best is trial 1 with value: 3.3378071784973145.\u001B[0m\n",
      "\u001B[32m[I 2023-12-18 17:33:32,950]\u001B[0m Trial 6 finished with value: 4.669624328613281 and parameters: {'hidden_layer': 128, 'dropout': 0.0, 'size of network, number of convs': 3, 'lr': 0.007411813527377568, 'out_layer': 32, 'num_negative_samples': 11, 'alpha': 0.7}. Best is trial 1 with value: 3.3378071784973145.\u001B[0m\n",
      "\u001B[32m[I 2023-12-18 17:33:41,593]\u001B[0m Trial 7 finished with value: 3.343322277069092 and parameters: {'hidden_layer': 32, 'dropout': 0.2, 'size of network, number of convs': 2, 'lr': 0.007016673261509297, 'out_layer': 64, 'num_negative_samples': 11, 'alpha': 0.4}. Best is trial 1 with value: 3.3378071784973145.\u001B[0m\n",
      "\u001B[32m[I 2023-12-18 17:33:56,943]\u001B[0m Trial 8 finished with value: 2.526599645614624 and parameters: {'hidden_layer': 32, 'dropout': 0.2, 'size of network, number of convs': 3, 'lr': 0.007218993865087944, 'out_layer': 32, 'num_negative_samples': 16, 'alpha': 0.1}. Best is trial 8 with value: 2.526599645614624.\u001B[0m\n",
      "\u001B[32m[I 2023-12-18 17:34:12,278]\u001B[0m Trial 9 finished with value: 2.534663677215576 and parameters: {'hidden_layer': 64, 'dropout': 0.4, 'size of network, number of convs': 3, 'lr': 0.00532841887676451, 'out_layer': 32, 'num_negative_samples': 6, 'alpha': 0.1}. Best is trial 8 with value: 2.526599645614624.\u001B[0m\n",
      "\u001B[32m[I 2023-12-18 17:34:18,579]\u001B[0m Trial 10 finished with value: 3.650374174118042 and parameters: {'hidden_layer': 128, 'dropout': 0.30000000000000004, 'size of network, number of convs': 2, 'lr': 0.00940526368707441, 'out_layer': 32, 'num_negative_samples': 21, 'alpha': 0.5}. Best is trial 8 with value: 2.526599645614624.\u001B[0m\n",
      "\u001B[32m[I 2023-12-18 17:34:35,826]\u001B[0m Trial 11 finished with value: 2.5251576900482178 and parameters: {'hidden_layer': 64, 'dropout': 0.4, 'size of network, number of convs': 3, 'lr': 0.005206456423632289, 'out_layer': 32, 'num_negative_samples': 6, 'alpha': 0.1}. Best is trial 11 with value: 2.5251576900482178.\u001B[0m\n",
      "\u001B[32m[I 2023-12-18 17:34:50,014]\u001B[0m Trial 12 finished with value: 2.528015613555908 and parameters: {'hidden_layer': 64, 'dropout': 0.30000000000000004, 'size of network, number of convs': 3, 'lr': 0.008595385118976447, 'out_layer': 32, 'num_negative_samples': 16, 'alpha': 0.1}. Best is trial 11 with value: 2.5251576900482178.\u001B[0m\n",
      "\u001B[32m[I 2023-12-18 17:34:59,336]\u001B[0m Trial 13 finished with value: 2.535004138946533 and parameters: {'hidden_layer': 64, 'dropout': 0.5, 'size of network, number of convs': 3, 'lr': 0.009764139464616744, 'out_layer': 32, 'num_negative_samples': 6, 'alpha': 0.1}. Best is trial 11 with value: 2.5251576900482178.\u001B[0m\n",
      "\u001B[32m[I 2023-12-18 17:35:11,955]\u001B[0m Trial 14 finished with value: 2.809551477432251 and parameters: {'hidden_layer': 128, 'dropout': 0.4, 'size of network, number of convs': 3, 'lr': 0.008408706384666745, 'out_layer': 32, 'num_negative_samples': 21, 'alpha': 0.2}. Best is trial 11 with value: 2.5251576900482178.\u001B[0m\n",
      "\u001B[32m[I 2023-12-18 17:35:21,724]\u001B[0m Trial 15 finished with value: 3.086292266845703 and parameters: {'hidden_layer': 64, 'dropout': 0.30000000000000004, 'size of network, number of convs': 3, 'lr': 0.005114788869780491, 'out_layer': 32, 'num_negative_samples': 16, 'alpha': 0.3}. Best is trial 11 with value: 2.5251576900482178.\u001B[0m\n",
      "\u001B[32m[I 2023-12-18 17:35:37,408]\u001B[0m Trial 16 finished with value: 2.547496795654297 and parameters: {'hidden_layer': 32, 'dropout': 0.2, 'size of network, number of convs': 2, 'lr': 0.0068941580176658315, 'out_layer': 128, 'num_negative_samples': 6, 'alpha': 0.1}. Best is trial 11 with value: 2.5251576900482178.\u001B[0m\n",
      "\u001B[32m[I 2023-12-18 17:35:52,916]\u001B[0m Trial 17 finished with value: 2.522275447845459 and parameters: {'hidden_layer': 64, 'dropout': 0.1, 'size of network, number of convs': 3, 'lr': 0.009046406837765768, 'out_layer': 32, 'num_negative_samples': 16, 'alpha': 0.1}. Best is trial 17 with value: 2.522275447845459.\u001B[0m\n",
      "\u001B[32m[I 2023-12-18 17:35:57,720]\u001B[0m Trial 18 finished with value: 4.07824182510376 and parameters: {'hidden_layer': 64, 'dropout': 0.1, 'size of network, number of convs': 3, 'lr': 0.00924610747810112, 'out_layer': 32, 'num_negative_samples': 6, 'alpha': 0.6}. Best is trial 17 with value: 2.522275447845459.\u001B[0m\n",
      "\u001B[32m[I 2023-12-18 17:36:07,196]\u001B[0m Trial 19 finished with value: 3.0915727615356445 and parameters: {'hidden_layer': 64, 'dropout': 0.4, 'size of network, number of convs': 2, 'lr': 0.008667330622060293, 'out_layer': 128, 'num_negative_samples': 11, 'alpha': 0.3}. Best is trial 17 with value: 2.522275447845459.\u001B[0m\n",
      "\u001B[32m[I 2023-12-18 17:36:08,236]\u001B[0m Trial 20 finished with value: 7.281077861785889 and parameters: {'hidden_layer': 64, 'dropout': 0.1, 'size of network, number of convs': 3, 'lr': 0.007922691817539759, 'out_layer': 32, 'num_negative_samples': 21, 'alpha': 0.9}. Best is trial 17 with value: 2.522275447845459.\u001B[0m\n",
      "\u001B[32m[I 2023-12-18 17:36:16,935]\u001B[0m Trial 21 finished with value: 2.5292234420776367 and parameters: {'hidden_layer': 64, 'dropout': 0.2, 'size of network, number of convs': 3, 'lr': 0.005822306220762556, 'out_layer': 32, 'num_negative_samples': 16, 'alpha': 0.1}. Best is trial 17 with value: 2.522275447845459.\u001B[0m\n",
      "\u001B[32m[I 2023-12-18 17:36:32,766]\u001B[0m Trial 22 finished with value: 2.5298280715942383 and parameters: {'hidden_layer': 32, 'dropout': 0.30000000000000004, 'size of network, number of convs': 3, 'lr': 0.006615761986054712, 'out_layer': 32, 'num_negative_samples': 16, 'alpha': 0.1}. Best is trial 17 with value: 2.522275447845459.\u001B[0m\n",
      "\u001B[32m[I 2023-12-18 17:36:49,609]\u001B[0m Trial 23 finished with value: 2.525883913040161 and parameters: {'hidden_layer': 128, 'dropout': 0.0, 'size of network, number of convs': 3, 'lr': 0.007880377367622982, 'out_layer': 32, 'num_negative_samples': 16, 'alpha': 0.1}. Best is trial 17 with value: 2.522275447845459.\u001B[0m\n",
      "\u001B[32m[I 2023-12-18 17:36:54,046]\u001B[0m Trial 24 finished with value: 4.670883655548096 and parameters: {'hidden_layer': 128, 'dropout': 0.0, 'size of network, number of convs': 3, 'lr': 0.009074508645160859, 'out_layer': 32, 'num_negative_samples': 16, 'alpha': 0.7}. Best is trial 17 with value: 2.522275447845459.\u001B[0m\n",
      "\u001B[32m[I 2023-12-18 17:37:00,756]\u001B[0m Trial 25 finished with value: 3.6829159259796143 and parameters: {'hidden_layer': 128, 'dropout': 0.0, 'size of network, number of convs': 3, 'lr': 0.007838629451569351, 'out_layer': 32, 'num_negative_samples': 6, 'alpha': 0.5}. Best is trial 17 with value: 2.522275447845459.\u001B[0m\n",
      "\u001B[32m[I 2023-12-18 17:37:14,322]\u001B[0m Trial 26 finished with value: 2.80069637298584 and parameters: {'hidden_layer': 128, 'dropout': 0.1, 'size of network, number of convs': 3, 'lr': 0.009882563314558387, 'out_layer': 32, 'num_negative_samples': 16, 'alpha': 0.2}. Best is trial 17 with value: 2.522275447845459.\u001B[0m\n",
      "\u001B[32m[I 2023-12-18 17:37:31,073]\u001B[0m Trial 27 finished with value: 2.5188074111938477 and parameters: {'hidden_layer': 128, 'dropout': 0.0, 'size of network, number of convs': 3, 'lr': 0.008289788863491144, 'out_layer': 32, 'num_negative_samples': 16, 'alpha': 0.1}. Best is trial 27 with value: 2.5188074111938477.\u001B[0m\n",
      "\u001B[32m[I 2023-12-18 17:37:46,334]\u001B[0m Trial 28 finished with value: 2.574265480041504 and parameters: {'hidden_layer': 64, 'dropout': 0.5, 'size of network, number of convs': 1, 'lr': 0.008897388795308117, 'out_layer': 64, 'num_negative_samples': 6, 'alpha': 0.1}. Best is trial 27 with value: 2.5188074111938477.\u001B[0m\n",
      "\u001B[32m[I 2023-12-18 17:37:57,130]\u001B[0m Trial 29 finished with value: 2.519752264022827 and parameters: {'hidden_layer': 128, 'dropout': 0.1, 'size of network, number of convs': 2, 'lr': 0.008288533512711341, 'out_layer': 128, 'num_negative_samples': 6, 'alpha': 0.1}. Best is trial 27 with value: 2.5188074111938477.\u001B[0m\n",
      "\u001B[32m[I 2023-12-18 17:38:11,090]\u001B[0m Trial 30 finished with value: 2.5356950759887695 and parameters: {'hidden_layer': 128, 'dropout': 0.1, 'size of network, number of convs': 2, 'lr': 0.008242713241026997, 'out_layer': 128, 'num_negative_samples': 11, 'alpha': 0.1}. Best is trial 27 with value: 2.5188074111938477.\u001B[0m\n",
      "\u001B[32m[I 2023-12-18 17:38:25,536]\u001B[0m Trial 31 finished with value: 2.5387301445007324 and parameters: {'hidden_layer': 128, 'dropout': 0.0, 'size of network, number of convs': 2, 'lr': 0.008813297244957033, 'out_layer': 128, 'num_negative_samples': 6, 'alpha': 0.1}. Best is trial 27 with value: 2.5188074111938477.\u001B[0m\n",
      "\u001B[32m[I 2023-12-18 17:38:39,452]\u001B[0m Trial 32 finished with value: 2.5240118503570557 and parameters: {'hidden_layer': 128, 'dropout': 0.1, 'size of network, number of convs': 2, 'lr': 0.008360501355924156, 'out_layer': 128, 'num_negative_samples': 6, 'alpha': 0.1}. Best is trial 27 with value: 2.5188074111938477.\u001B[0m\n",
      "\u001B[32m[I 2023-12-18 17:38:46,579]\u001B[0m Trial 33 finished with value: 3.3665146827697754 and parameters: {'hidden_layer': 128, 'dropout': 0.1, 'size of network, number of convs': 2, 'lr': 0.008223423439056587, 'out_layer': 128, 'num_negative_samples': 6, 'alpha': 0.4}. Best is trial 27 with value: 2.5188074111938477.\u001B[0m\n",
      "\u001B[32m[I 2023-12-18 17:38:49,199]\u001B[0m Trial 34 finished with value: 5.431027889251709 and parameters: {'hidden_layer': 128, 'dropout': 0.0, 'size of network, number of convs': 2, 'lr': 0.009487276822676957, 'out_layer': 128, 'num_negative_samples': 1, 'alpha': 0.8}. Best is trial 27 with value: 2.5188074111938477.\u001B[0m\n",
      "\u001B[32m[I 2023-12-18 17:38:53,992]\u001B[0m Trial 35 finished with value: 4.115700721740723 and parameters: {'hidden_layer': 128, 'dropout': 0.1, 'size of network, number of convs': 2, 'lr': 0.007635808856126703, 'out_layer': 128, 'num_negative_samples': 6, 'alpha': 0.6}. Best is trial 27 with value: 2.5188074111938477.\u001B[0m\n",
      "\u001B[32m[I 2023-12-18 17:38:55,872]\u001B[0m Trial 36 finished with value: 7.427577495574951 and parameters: {'hidden_layer': 128, 'dropout': 0.1, 'size of network, number of convs': 1, 'lr': 0.008306211384798375, 'out_layer': 128, 'num_negative_samples': 16, 'alpha': 0.9}. Best is trial 27 with value: 2.5188074111938477.\u001B[0m\n",
      "\u001B[32m[I 2023-12-18 17:39:13,579]\u001B[0m Trial 37 finished with value: 2.5200247764587402 and parameters: {'hidden_layer': 128, 'dropout': 0.0, 'size of network, number of convs': 2, 'lr': 0.009055986793715122, 'out_layer': 128, 'num_negative_samples': 1, 'alpha': 0.1}. Best is trial 27 with value: 2.5188074111938477.\u001B[0m\n",
      "\u001B[32m[I 2023-12-18 17:39:18,042]\u001B[0m Trial 38 finished with value: 4.647025108337402 and parameters: {'hidden_layer': 128, 'dropout': 0.0, 'size of network, number of convs': 2, 'lr': 0.009052885995268678, 'out_layer': 64, 'num_negative_samples': 1, 'alpha': 0.7}. Best is trial 27 with value: 2.5188074111938477.\u001B[0m\n",
      "\u001B[32m[I 2023-12-18 17:39:21,524]\u001B[0m Trial 39 finished with value: 5.549635410308838 and parameters: {'hidden_layer': 128, 'dropout': 0.0, 'size of network, number of convs': 1, 'lr': 0.0095495141804736, 'out_layer': 128, 'num_negative_samples': 1, 'alpha': 0.8}. Best is trial 27 with value: 2.5188074111938477.\u001B[0m\n",
      "\u001B[32m[I 2023-12-18 17:39:30,311]\u001B[0m Trial 40 finished with value: 3.3634533882141113 and parameters: {'hidden_layer': 128, 'dropout': 0.0, 'size of network, number of convs': 2, 'lr': 0.008604495262114566, 'out_layer': 128, 'num_negative_samples': 1, 'alpha': 0.4}. Best is trial 27 with value: 2.5188074111938477.\u001B[0m\n",
      "\u001B[32m[I 2023-12-18 17:39:47,189]\u001B[0m Trial 41 finished with value: 2.529533624649048 and parameters: {'hidden_layer': 128, 'dropout': 0.1, 'size of network, number of convs': 2, 'lr': 0.007567797298484062, 'out_layer': 128, 'num_negative_samples': 1, 'alpha': 0.1}. Best is trial 27 with value: 2.5188074111938477.\u001B[0m\n",
      "\u001B[32m[I 2023-12-18 17:40:05,340]\u001B[0m Trial 42 finished with value: 2.5305137634277344 and parameters: {'hidden_layer': 128, 'dropout': 0.2, 'size of network, number of convs': 2, 'lr': 0.008123445952830446, 'out_layer': 128, 'num_negative_samples': 1, 'alpha': 0.1}. Best is trial 27 with value: 2.5188074111938477.\u001B[0m\n",
      "\u001B[32m[I 2023-12-18 17:40:24,843]\u001B[0m Trial 43 finished with value: 2.5277106761932373 and parameters: {'hidden_layer': 128, 'dropout': 0.1, 'size of network, number of convs': 2, 'lr': 0.008474634057400838, 'out_layer': 128, 'num_negative_samples': 16, 'alpha': 0.1}. Best is trial 27 with value: 2.5188074111938477.\u001B[0m\n",
      "\u001B[32m[I 2023-12-18 17:40:31,841]\u001B[0m Trial 44 finished with value: 3.6965246200561523 and parameters: {'hidden_layer': 128, 'dropout': 0.0, 'size of network, number of convs': 2, 'lr': 0.008852359291385795, 'out_layer': 64, 'num_negative_samples': 21, 'alpha': 0.5}. Best is trial 27 with value: 2.5188074111938477.\u001B[0m\n",
      "\u001B[32m[I 2023-12-18 17:40:45,505]\u001B[0m Trial 45 finished with value: 2.5350303649902344 and parameters: {'hidden_layer': 32, 'dropout': 0.2, 'size of network, number of convs': 2, 'lr': 0.009146731982959636, 'out_layer': 128, 'num_negative_samples': 6, 'alpha': 0.1}. Best is trial 27 with value: 2.5188074111938477.\u001B[0m\n",
      "\u001B[32m[I 2023-12-18 17:40:59,175]\u001B[0m Trial 46 finished with value: 2.6116247177124023 and parameters: {'hidden_layer': 128, 'dropout': 0.1, 'size of network, number of convs': 1, 'lr': 0.009736076336697416, 'out_layer': 128, 'num_negative_samples': 11, 'alpha': 0.1}. Best is trial 27 with value: 2.5188074111938477.\u001B[0m\n",
      "\u001B[32m[I 2023-12-18 17:41:13,467]\u001B[0m Trial 47 finished with value: 2.8095502853393555 and parameters: {'hidden_layer': 128, 'dropout': 0.0, 'size of network, number of convs': 2, 'lr': 0.00871609390042799, 'out_layer': 128, 'num_negative_samples': 16, 'alpha': 0.2}. Best is trial 27 with value: 2.5188074111938477.\u001B[0m\n",
      "\u001B[32m[I 2023-12-18 17:41:25,147]\u001B[0m Trial 48 finished with value: 3.05877423286438 and parameters: {'hidden_layer': 128, 'dropout': 0.1, 'size of network, number of convs': 2, 'lr': 0.009312378020679999, 'out_layer': 64, 'num_negative_samples': 6, 'alpha': 0.3}. Best is trial 27 with value: 2.5188074111938477.\u001B[0m\n",
      "\u001B[32m[I 2023-12-18 17:41:43,766]\u001B[0m Trial 49 finished with value: 2.5507216453552246 and parameters: {'hidden_layer': 32, 'dropout': 0.2, 'size of network, number of convs': 2, 'lr': 0.007739018083778812, 'out_layer': 128, 'num_negative_samples': 1, 'alpha': 0.1}. Best is trial 27 with value: 2.5188074111938477.\u001B[0m\n",
      "C:\\Users\\user\\Desktop\\StableGNN\\venv\\lib\\site-packages\\sklearn\\neural_network\\_multilayer_perceptron.py:692: ConvergenceWarning: Stochastic Optimizer: Maximum iterations (100) reached and the optimization hasn't converged yet.\n",
      "  warnings.warn(\n",
      "\u001B[32m[I 2023-12-18 17:42:03,853]\u001B[0m A new study created in memory with name: no-name-97d7221e-9cb4-4430-8806-265077f9297c\u001B[0m\n",
      "\u001B[32m[I 2023-12-18 17:42:18,941]\u001B[0m Trial 0 finished with value: 2.821849822998047 and parameters: {'hidden_layer': 32, 'dropout': 0.2, 'size of network, number of convs': 1, 'lr': 0.009003684886184846, 'out_layer': 64, 'num_negative_samples': 11, 'alpha': 0.2}. Best is trial 0 with value: 2.821849822998047.\u001B[0m\n",
      "\u001B[32m[I 2023-12-18 17:42:26,138]\u001B[0m Trial 1 finished with value: 3.6865317821502686 and parameters: {'hidden_layer': 128, 'dropout': 0.5, 'size of network, number of convs': 1, 'lr': 0.009666797627137295, 'out_layer': 64, 'num_negative_samples': 6, 'alpha': 0.5}. Best is trial 0 with value: 2.821849822998047.\u001B[0m\n",
      "\u001B[32m[I 2023-12-18 17:42:30,015]\u001B[0m Trial 2 finished with value: 5.401139259338379 and parameters: {'hidden_layer': 64, 'dropout': 0.1, 'size of network, number of convs': 3, 'lr': 0.00587979160992715, 'out_layer': 128, 'num_negative_samples': 11, 'alpha': 0.8}. Best is trial 0 with value: 2.821849822998047.\u001B[0m\n",
      "\u001B[32m[I 2023-12-18 17:42:32,308]\u001B[0m Trial 3 finished with value: 7.173874855041504 and parameters: {'hidden_layer': 128, 'dropout': 0.0, 'size of network, number of convs': 3, 'lr': 0.009929257322185856, 'out_layer': 128, 'num_negative_samples': 21, 'alpha': 0.9}. Best is trial 0 with value: 2.821849822998047.\u001B[0m\n",
      "\u001B[32m[I 2023-12-18 17:42:35,644]\u001B[0m Trial 4 finished with value: 5.413712024688721 and parameters: {'hidden_layer': 64, 'dropout': 0.5, 'size of network, number of convs': 3, 'lr': 0.005279019908794366, 'out_layer': 128, 'num_negative_samples': 21, 'alpha': 0.8}. Best is trial 0 with value: 2.821849822998047.\u001B[0m\n",
      "\u001B[32m[I 2023-12-18 17:42:42,639]\u001B[0m Trial 5 finished with value: 3.659825563430786 and parameters: {'hidden_layer': 32, 'dropout': 0.5, 'size of network, number of convs': 3, 'lr': 0.007307426229159019, 'out_layer': 64, 'num_negative_samples': 16, 'alpha': 0.5}. Best is trial 0 with value: 2.821849822998047.\u001B[0m\n",
      "\u001B[32m[I 2023-12-18 17:42:45,961]\u001B[0m Trial 6 finished with value: 5.398324966430664 and parameters: {'hidden_layer': 128, 'dropout': 0.2, 'size of network, number of convs': 2, 'lr': 0.00871755537181371, 'out_layer': 32, 'num_negative_samples': 16, 'alpha': 0.8}. Best is trial 0 with value: 2.821849822998047.\u001B[0m\n",
      "\u001B[32m[I 2023-12-18 17:43:00,505]\u001B[0m Trial 7 finished with value: 2.8045687675476074 and parameters: {'hidden_layer': 64, 'dropout': 0.4, 'size of network, number of convs': 1, 'lr': 0.005548837831958, 'out_layer': 32, 'num_negative_samples': 16, 'alpha': 0.2}. Best is trial 7 with value: 2.8045687675476074.\u001B[0m\n",
      "\u001B[32m[I 2023-12-18 17:43:06,285]\u001B[0m Trial 8 finished with value: 4.055249214172363 and parameters: {'hidden_layer': 64, 'dropout': 0.4, 'size of network, number of convs': 1, 'lr': 0.009971780430965683, 'out_layer': 32, 'num_negative_samples': 16, 'alpha': 0.6}. Best is trial 7 with value: 2.8045687675476074.\u001B[0m\n",
      "\u001B[32m[I 2023-12-18 17:43:09,430]\u001B[0m Trial 9 finished with value: 5.4511871337890625 and parameters: {'hidden_layer': 128, 'dropout': 0.5, 'size of network, number of convs': 1, 'lr': 0.006247293724240469, 'out_layer': 32, 'num_negative_samples': 1, 'alpha': 0.8}. Best is trial 7 with value: 2.8045687675476074.\u001B[0m\n",
      "\u001B[32m[I 2023-12-18 17:43:19,666]\u001B[0m Trial 10 finished with value: 3.3064184188842773 and parameters: {'hidden_layer': 64, 'dropout': 0.30000000000000004, 'size of network, number of convs': 2, 'lr': 0.00721579423760386, 'out_layer': 32, 'num_negative_samples': 1, 'alpha': 0.4}. Best is trial 7 with value: 2.8045687675476074.\u001B[0m\n",
      "\u001B[32m[I 2023-12-18 17:43:34,847]\u001B[0m Trial 11 finished with value: 2.7943339347839355 and parameters: {'hidden_layer': 32, 'dropout': 0.30000000000000004, 'size of network, number of convs': 1, 'lr': 0.008230242781206052, 'out_layer': 64, 'num_negative_samples': 11, 'alpha': 0.2}. Best is trial 11 with value: 2.7943339347839355.\u001B[0m\n",
      "\u001B[32m[I 2023-12-18 17:43:43,947]\u001B[0m Trial 12 finished with value: 2.8077635765075684 and parameters: {'hidden_layer': 32, 'dropout': 0.30000000000000004, 'size of network, number of convs': 1, 'lr': 0.00807480481896769, 'out_layer': 64, 'num_negative_samples': 11, 'alpha': 0.2}. Best is trial 11 with value: 2.7943339347839355.\u001B[0m\n",
      "\u001B[32m[I 2023-12-18 17:43:56,436]\u001B[0m Trial 13 finished with value: 2.7848076820373535 and parameters: {'hidden_layer': 32, 'dropout': 0.4, 'size of network, number of convs': 1, 'lr': 0.006610105260019145, 'out_layer': 32, 'num_negative_samples': 6, 'alpha': 0.2}. Best is trial 13 with value: 2.7848076820373535.\u001B[0m\n",
      "\u001B[32m[I 2023-12-18 17:44:14,144]\u001B[0m Trial 14 finished with value: 2.542952537536621 and parameters: {'hidden_layer': 32, 'dropout': 0.4, 'size of network, number of convs': 1, 'lr': 0.0066890316158464995, 'out_layer': 64, 'num_negative_samples': 6, 'alpha': 0.1}. Best is trial 14 with value: 2.542952537536621.\u001B[0m\n",
      "\u001B[32m[I 2023-12-18 17:44:32,239]\u001B[0m Trial 15 finished with value: 2.5332608222961426 and parameters: {'hidden_layer': 32, 'dropout': 0.4, 'size of network, number of convs': 1, 'lr': 0.006703169540501435, 'out_layer': 64, 'num_negative_samples': 6, 'alpha': 0.1}. Best is trial 15 with value: 2.5332608222961426.\u001B[0m\n",
      "\u001B[32m[I 2023-12-18 17:44:49,030]\u001B[0m Trial 16 finished with value: 2.5077614784240723 and parameters: {'hidden_layer': 32, 'dropout': 0.4, 'size of network, number of convs': 2, 'lr': 0.0067095930046252965, 'out_layer': 64, 'num_negative_samples': 6, 'alpha': 0.1}. Best is trial 16 with value: 2.5077614784240723.\u001B[0m\n",
      "\u001B[32m[I 2023-12-18 17:45:04,084]\u001B[0m Trial 17 finished with value: 2.51668643951416 and parameters: {'hidden_layer': 32, 'dropout': 0.4, 'size of network, number of convs': 2, 'lr': 0.006787997574379995, 'out_layer': 64, 'num_negative_samples': 6, 'alpha': 0.1}. Best is trial 16 with value: 2.5077614784240723.\u001B[0m\n",
      "\u001B[32m[I 2023-12-18 17:45:08,021]\u001B[0m Trial 18 finished with value: 4.614181041717529 and parameters: {'hidden_layer': 32, 'dropout': 0.30000000000000004, 'size of network, number of convs': 2, 'lr': 0.0077669782531390895, 'out_layer': 64, 'num_negative_samples': 6, 'alpha': 0.7}. Best is trial 16 with value: 2.5077614784240723.\u001B[0m\n",
      "\u001B[32m[I 2023-12-18 17:45:17,543]\u001B[0m Trial 19 finished with value: 3.046415328979492 and parameters: {'hidden_layer': 32, 'dropout': 0.2, 'size of network, number of convs': 2, 'lr': 0.005966490554258299, 'out_layer': 64, 'num_negative_samples': 6, 'alpha': 0.3}. Best is trial 16 with value: 2.5077614784240723.\u001B[0m\n",
      "\u001B[32m[I 2023-12-18 17:45:32,143]\u001B[0m Trial 20 finished with value: 2.5112414360046387 and parameters: {'hidden_layer': 32, 'dropout': 0.1, 'size of network, number of convs': 2, 'lr': 0.0071653588631287925, 'out_layer': 64, 'num_negative_samples': 6, 'alpha': 0.1}. Best is trial 16 with value: 2.5077614784240723.\u001B[0m\n",
      "\u001B[32m[I 2023-12-18 17:45:48,183]\u001B[0m Trial 21 finished with value: 2.503613233566284 and parameters: {'hidden_layer': 32, 'dropout': 0.0, 'size of network, number of convs': 2, 'lr': 0.007126145709561999, 'out_layer': 64, 'num_negative_samples': 6, 'alpha': 0.1}. Best is trial 21 with value: 2.503613233566284.\u001B[0m\n",
      "\u001B[32m[I 2023-12-18 17:46:04,142]\u001B[0m Trial 22 finished with value: 2.507481336593628 and parameters: {'hidden_layer': 32, 'dropout': 0.0, 'size of network, number of convs': 2, 'lr': 0.007430814983318806, 'out_layer': 64, 'num_negative_samples': 6, 'alpha': 0.1}. Best is trial 21 with value: 2.503613233566284.\u001B[0m\n",
      "\u001B[32m[I 2023-12-18 17:46:19,046]\u001B[0m Trial 23 finished with value: 2.4976744651794434 and parameters: {'hidden_layer': 32, 'dropout': 0.0, 'size of network, number of convs': 2, 'lr': 0.00774086937856433, 'out_layer': 64, 'num_negative_samples': 6, 'alpha': 0.1}. Best is trial 23 with value: 2.4976744651794434.\u001B[0m\n",
      "\u001B[32m[I 2023-12-18 17:46:30,124]\u001B[0m Trial 24 finished with value: 2.499000310897827 and parameters: {'hidden_layer': 32, 'dropout': 0.0, 'size of network, number of convs': 2, 'lr': 0.007644394315494249, 'out_layer': 64, 'num_negative_samples': 6, 'alpha': 0.1}. Best is trial 23 with value: 2.4976744651794434.\u001B[0m\n",
      "\u001B[32m[I 2023-12-18 17:46:41,975]\u001B[0m Trial 25 finished with value: 2.5042366981506348 and parameters: {'hidden_layer': 32, 'dropout': 0.0, 'size of network, number of convs': 2, 'lr': 0.007945252613445555, 'out_layer': 128, 'num_negative_samples': 6, 'alpha': 0.1}. Best is trial 23 with value: 2.4976744651794434.\u001B[0m\n",
      "\u001B[32m[I 2023-12-18 17:46:46,422]\u001B[0m Trial 26 finished with value: 4.040994644165039 and parameters: {'hidden_layer': 32, 'dropout': 0.1, 'size of network, number of convs': 2, 'lr': 0.00852611105697973, 'out_layer': 64, 'num_negative_samples': 1, 'alpha': 0.6}. Best is trial 23 with value: 2.4976744651794434.\u001B[0m\n",
      "\u001B[32m[I 2023-12-18 17:46:48,599]\u001B[0m Trial 27 finished with value: 7.1174421310424805 and parameters: {'hidden_layer': 32, 'dropout': 0.0, 'size of network, number of convs': 2, 'lr': 0.007682734297390351, 'out_layer': 64, 'num_negative_samples': 21, 'alpha': 0.9}. Best is trial 23 with value: 2.4976744651794434.\u001B[0m\n",
      "\u001B[32m[I 2023-12-18 17:46:52,295]\u001B[0m Trial 28 finished with value: 4.64719820022583 and parameters: {'hidden_layer': 32, 'dropout': 0.1, 'size of network, number of convs': 2, 'lr': 0.008425256235509868, 'out_layer': 64, 'num_negative_samples': 6, 'alpha': 0.7}. Best is trial 23 with value: 2.4976744651794434.\u001B[0m\n",
      "\u001B[32m[I 2023-12-18 17:46:59,376]\u001B[0m Trial 29 finished with value: 3.2787091732025146 and parameters: {'hidden_layer': 128, 'dropout': 0.0, 'size of network, number of convs': 2, 'lr': 0.009122982359712142, 'out_layer': 64, 'num_negative_samples': 6, 'alpha': 0.4}. Best is trial 23 with value: 2.4976744651794434.\u001B[0m\n",
      "\u001B[32m[I 2023-12-18 17:47:08,199]\u001B[0m Trial 30 finished with value: 3.028937816619873 and parameters: {'hidden_layer': 32, 'dropout': 0.1, 'size of network, number of convs': 2, 'lr': 0.008917447478549478, 'out_layer': 128, 'num_negative_samples': 6, 'alpha': 0.3}. Best is trial 23 with value: 2.4976744651794434.\u001B[0m\n",
      "\u001B[32m[I 2023-12-18 17:47:20,485]\u001B[0m Trial 31 finished with value: 2.5044021606445312 and parameters: {'hidden_layer': 32, 'dropout': 0.0, 'size of network, number of convs': 2, 'lr': 0.00796551083977649, 'out_layer': 128, 'num_negative_samples': 6, 'alpha': 0.1}. Best is trial 23 with value: 2.4976744651794434.\u001B[0m\n",
      "\u001B[32m[I 2023-12-18 17:47:33,532]\u001B[0m Trial 32 finished with value: 2.5111160278320312 and parameters: {'hidden_layer': 32, 'dropout': 0.0, 'size of network, number of convs': 2, 'lr': 0.0076901540932853354, 'out_layer': 128, 'num_negative_samples': 6, 'alpha': 0.1}. Best is trial 23 with value: 2.4976744651794434.\u001B[0m\n",
      "\u001B[32m[I 2023-12-18 17:47:45,036]\u001B[0m Trial 33 finished with value: 2.519108295440674 and parameters: {'hidden_layer': 32, 'dropout': 0.0, 'size of network, number of convs': 2, 'lr': 0.0071205497794467375, 'out_layer': 128, 'num_negative_samples': 6, 'alpha': 0.1}. Best is trial 23 with value: 2.4976744651794434.\u001B[0m\n",
      "\u001B[32m[I 2023-12-18 17:47:55,769]\u001B[0m Trial 34 finished with value: 2.5088090896606445 and parameters: {'hidden_layer': 32, 'dropout': 0.1, 'size of network, number of convs': 2, 'lr': 0.009243739717680085, 'out_layer': 128, 'num_negative_samples': 6, 'alpha': 0.1}. Best is trial 23 with value: 2.4976744651794434.\u001B[0m\n",
      "\u001B[32m[I 2023-12-18 17:48:02,130]\u001B[0m Trial 35 finished with value: 3.642965793609619 and parameters: {'hidden_layer': 128, 'dropout': 0.0, 'size of network, number of convs': 3, 'lr': 0.007974476422669675, 'out_layer': 128, 'num_negative_samples': 21, 'alpha': 0.5}. Best is trial 23 with value: 2.4976744651794434.\u001B[0m\n",
      "\u001B[32m[I 2023-12-18 17:48:12,798]\u001B[0m Trial 36 finished with value: 2.497417688369751 and parameters: {'hidden_layer': 64, 'dropout': 0.1, 'size of network, number of convs': 2, 'lr': 0.006339123224778625, 'out_layer': 64, 'num_negative_samples': 11, 'alpha': 0.1}. Best is trial 36 with value: 2.497417688369751.\u001B[0m\n",
      "\u001B[32m[I 2023-12-18 17:48:14,688]\u001B[0m Trial 37 finished with value: 7.254726409912109 and parameters: {'hidden_layer': 64, 'dropout': 0.1, 'size of network, number of convs': 3, 'lr': 0.006199749152329439, 'out_layer': 64, 'num_negative_samples': 11, 'alpha': 0.9}. Best is trial 36 with value: 2.497417688369751.\u001B[0m\n",
      "\u001B[32m[I 2023-12-18 17:48:25,970]\u001B[0m Trial 38 finished with value: 2.5149221420288086 and parameters: {'hidden_layer': 64, 'dropout': 0.1, 'size of network, number of convs': 2, 'lr': 0.005182010170149573, 'out_layer': 64, 'num_negative_samples': 11, 'alpha': 0.1}. Best is trial 36 with value: 2.497417688369751.\u001B[0m\n",
      "\u001B[32m[I 2023-12-18 17:48:30,574]\u001B[0m Trial 39 finished with value: 3.6380228996276855 and parameters: {'hidden_layer': 64, 'dropout': 0.2, 'size of network, number of convs': 3, 'lr': 0.007031302829928188, 'out_layer': 64, 'num_negative_samples': 11, 'alpha': 0.5}. Best is trial 36 with value: 2.497417688369751.\u001B[0m\n",
      "\u001B[32m[I 2023-12-18 17:48:40,552]\u001B[0m Trial 40 finished with value: 2.5044984817504883 and parameters: {'hidden_layer': 64, 'dropout': 0.0, 'size of network, number of convs': 2, 'lr': 0.006343353333497959, 'out_layer': 64, 'num_negative_samples': 11, 'alpha': 0.1}. Best is trial 36 with value: 2.497417688369751.\u001B[0m\n",
      "\u001B[32m[I 2023-12-18 17:48:49,701]\u001B[0m Trial 41 finished with value: 2.5018506050109863 and parameters: {'hidden_layer': 64, 'dropout': 0.0, 'size of network, number of convs': 2, 'lr': 0.007568205319053925, 'out_layer': 128, 'num_negative_samples': 16, 'alpha': 0.1}. Best is trial 36 with value: 2.497417688369751.\u001B[0m\n",
      "\u001B[32m[I 2023-12-18 17:48:58,463]\u001B[0m Trial 42 finished with value: 2.4992599487304688 and parameters: {'hidden_layer': 64, 'dropout': 0.0, 'size of network, number of convs': 2, 'lr': 0.007527577676719515, 'out_layer': 64, 'num_negative_samples': 16, 'alpha': 0.1}. Best is trial 36 with value: 2.497417688369751.\u001B[0m\n",
      "\u001B[32m[I 2023-12-18 17:49:01,491]\u001B[0m Trial 43 finished with value: 4.042235374450684 and parameters: {'hidden_layer': 64, 'dropout': 0.0, 'size of network, number of convs': 2, 'lr': 0.007506933349027679, 'out_layer': 128, 'num_negative_samples': 16, 'alpha': 0.6}. Best is trial 36 with value: 2.497417688369751.\u001B[0m\n",
      "\u001B[32m[I 2023-12-18 17:49:03,275]\u001B[0m Trial 44 finished with value: 5.337207317352295 and parameters: {'hidden_layer': 64, 'dropout': 0.1, 'size of network, number of convs': 2, 'lr': 0.005557691257904409, 'out_layer': 64, 'num_negative_samples': 16, 'alpha': 0.8}. Best is trial 36 with value: 2.497417688369751.\u001B[0m\n",
      "\u001B[32m[I 2023-12-18 17:49:07,812]\u001B[0m Trial 45 finished with value: 3.312229633331299 and parameters: {'hidden_layer': 64, 'dropout': 0.2, 'size of network, number of convs': 2, 'lr': 0.008245385998874597, 'out_layer': 32, 'num_negative_samples': 16, 'alpha': 0.4}. Best is trial 36 with value: 2.497417688369751.\u001B[0m\n",
      "\u001B[32m[I 2023-12-18 17:49:16,847]\u001B[0m Trial 46 finished with value: 2.5003843307495117 and parameters: {'hidden_layer': 64, 'dropout': 0.0, 'size of network, number of convs': 2, 'lr': 0.0075101960473904295, 'out_layer': 64, 'num_negative_samples': 16, 'alpha': 0.1}. Best is trial 36 with value: 2.497417688369751.\u001B[0m\n",
      "\u001B[32m[I 2023-12-18 17:49:26,261]\u001B[0m Trial 47 finished with value: 2.49583101272583 and parameters: {'hidden_layer': 64, 'dropout': 0.1, 'size of network, number of convs': 3, 'lr': 0.006936433827338609, 'out_layer': 64, 'num_negative_samples': 16, 'alpha': 0.1}. Best is trial 47 with value: 2.49583101272583.\u001B[0m\n",
      "\u001B[32m[I 2023-12-18 17:49:28,848]\u001B[0m Trial 48 finished with value: 4.633445739746094 and parameters: {'hidden_layer': 64, 'dropout': 0.2, 'size of network, number of convs': 3, 'lr': 0.006912193539033326, 'out_layer': 64, 'num_negative_samples': 16, 'alpha': 0.7}. Best is trial 47 with value: 2.49583101272583.\u001B[0m\n",
      "\u001B[32m[I 2023-12-18 17:49:39,793]\u001B[0m Trial 49 finished with value: 2.495889186859131 and parameters: {'hidden_layer': 64, 'dropout': 0.1, 'size of network, number of convs': 3, 'lr': 0.00652181584131297, 'out_layer': 64, 'num_negative_samples': 1, 'alpha': 0.1}. Best is trial 47 with value: 2.49583101272583.\u001B[0m\n",
      "C:\\Users\\user\\Desktop\\StableGNN\\venv\\lib\\site-packages\\sklearn\\neural_network\\_multilayer_perceptron.py:692: ConvergenceWarning: Stochastic Optimizer: Maximum iterations (100) reached and the optimization hasn't converged yet.\n",
      "  warnings.warn(\n",
      "\u001B[32m[I 2023-12-18 17:49:51,846]\u001B[0m A new study created in memory with name: no-name-1ab98174-9454-41f1-a61d-2fffcd4add59\u001B[0m\n",
      "\u001B[32m[I 2023-12-18 17:49:55,112]\u001B[0m Trial 0 finished with value: 4.090204238891602 and parameters: {'hidden_layer': 128, 'dropout': 0.0, 'size of network, number of convs': 1, 'lr': 0.00822190290147666, 'out_layer': 32, 'num_negative_samples': 21, 'alpha': 0.6}. Best is trial 0 with value: 4.090204238891602.\u001B[0m\n",
      "\u001B[32m[I 2023-12-18 17:49:56,364]\u001B[0m Trial 1 finished with value: 7.259088039398193 and parameters: {'hidden_layer': 128, 'dropout': 0.2, 'size of network, number of convs': 2, 'lr': 0.005460227248090872, 'out_layer': 64, 'num_negative_samples': 6, 'alpha': 0.9}. Best is trial 0 with value: 4.090204238891602.\u001B[0m\n",
      "\u001B[32m[I 2023-12-18 17:50:01,055]\u001B[0m Trial 2 finished with value: 3.347423553466797 and parameters: {'hidden_layer': 128, 'dropout': 0.4, 'size of network, number of convs': 3, 'lr': 0.007919410976892395, 'out_layer': 32, 'num_negative_samples': 16, 'alpha': 0.4}. Best is trial 2 with value: 3.347423553466797.\u001B[0m\n",
      "\u001B[32m[I 2023-12-18 17:50:03,891]\u001B[0m Trial 3 finished with value: 4.184234619140625 and parameters: {'hidden_layer': 128, 'dropout': 0.2, 'size of network, number of convs': 1, 'lr': 0.009037392111038581, 'out_layer': 128, 'num_negative_samples': 1, 'alpha': 0.6}. Best is trial 2 with value: 3.347423553466797.\u001B[0m\n",
      "\u001B[32m[I 2023-12-18 17:50:05,421]\u001B[0m Trial 4 finished with value: 7.218884468078613 and parameters: {'hidden_layer': 64, 'dropout': 0.2, 'size of network, number of convs': 2, 'lr': 0.005701260947459952, 'out_layer': 128, 'num_negative_samples': 11, 'alpha': 0.9}. Best is trial 2 with value: 3.347423553466797.\u001B[0m\n",
      "\u001B[32m[I 2023-12-18 17:50:09,700]\u001B[0m Trial 5 finished with value: 3.4232656955718994 and parameters: {'hidden_layer': 64, 'dropout': 0.30000000000000004, 'size of network, number of convs': 1, 'lr': 0.00518599772766408, 'out_layer': 64, 'num_negative_samples': 16, 'alpha': 0.4}. Best is trial 2 with value: 3.347423553466797.\u001B[0m\n",
      "\u001B[32m[I 2023-12-18 17:50:19,210]\u001B[0m Trial 6 finished with value: 2.4920754432678223 and parameters: {'hidden_layer': 32, 'dropout': 0.30000000000000004, 'size of network, number of convs': 3, 'lr': 0.0065736851086845, 'out_layer': 128, 'num_negative_samples': 6, 'alpha': 0.1}. Best is trial 6 with value: 2.4920754432678223.\u001B[0m\n",
      "\u001B[32m[I 2023-12-18 17:50:26,631]\u001B[0m Trial 7 finished with value: 2.7686891555786133 and parameters: {'hidden_layer': 32, 'dropout': 0.5, 'size of network, number of convs': 2, 'lr': 0.0074880577800943105, 'out_layer': 32, 'num_negative_samples': 6, 'alpha': 0.2}. Best is trial 6 with value: 2.4920754432678223.\u001B[0m\n",
      "\u001B[32m[I 2023-12-18 17:50:28,851]\u001B[0m Trial 8 finished with value: 4.789712429046631 and parameters: {'hidden_layer': 32, 'dropout': 0.30000000000000004, 'size of network, number of convs': 1, 'lr': 0.00865633347179796, 'out_layer': 64, 'num_negative_samples': 1, 'alpha': 0.7}. Best is trial 6 with value: 2.4920754432678223.\u001B[0m\n",
      "\u001B[32m[I 2023-12-18 17:50:36,696]\u001B[0m Trial 9 finished with value: 2.7656168937683105 and parameters: {'hidden_layer': 128, 'dropout': 0.30000000000000004, 'size of network, number of convs': 3, 'lr': 0.006172486795668545, 'out_layer': 128, 'num_negative_samples': 16, 'alpha': 0.2}. Best is trial 6 with value: 2.4920754432678223.\u001B[0m\n",
      "\u001B[32m[I 2023-12-18 17:50:45,333]\u001B[0m Trial 10 finished with value: 2.475647211074829 and parameters: {'hidden_layer': 32, 'dropout': 0.0, 'size of network, number of convs': 3, 'lr': 0.006701592195743388, 'out_layer': 128, 'num_negative_samples': 6, 'alpha': 0.1}. Best is trial 10 with value: 2.475647211074829.\u001B[0m\n",
      "\u001B[32m[I 2023-12-18 17:50:53,131]\u001B[0m Trial 11 finished with value: 2.4884626865386963 and parameters: {'hidden_layer': 32, 'dropout': 0.0, 'size of network, number of convs': 3, 'lr': 0.006697986697918801, 'out_layer': 128, 'num_negative_samples': 6, 'alpha': 0.1}. Best is trial 10 with value: 2.475647211074829.\u001B[0m\n",
      "\u001B[32m[I 2023-12-18 17:51:02,546]\u001B[0m Trial 12 finished with value: 2.4752516746520996 and parameters: {'hidden_layer': 32, 'dropout': 0.0, 'size of network, number of convs': 3, 'lr': 0.007039517135032936, 'out_layer': 128, 'num_negative_samples': 6, 'alpha': 0.1}. Best is trial 12 with value: 2.4752516746520996.\u001B[0m\n",
      "\u001B[32m[I 2023-12-18 17:51:13,050]\u001B[0m Trial 13 finished with value: 2.4882936477661133 and parameters: {'hidden_layer': 32, 'dropout': 0.1, 'size of network, number of convs': 3, 'lr': 0.007297759609032355, 'out_layer': 128, 'num_negative_samples': 6, 'alpha': 0.1}. Best is trial 12 with value: 2.4752516746520996.\u001B[0m\n",
      "\u001B[32m[I 2023-12-18 17:51:15,514]\u001B[0m Trial 14 finished with value: 5.478072166442871 and parameters: {'hidden_layer': 32, 'dropout': 0.1, 'size of network, number of convs': 3, 'lr': 0.007047303879555331, 'out_layer': 128, 'num_negative_samples': 21, 'alpha': 0.8}. Best is trial 12 with value: 2.4752516746520996.\u001B[0m\n",
      "\u001B[32m[I 2023-12-18 17:51:19,856]\u001B[0m Trial 15 finished with value: 3.716737985610962 and parameters: {'hidden_layer': 32, 'dropout': 0.0, 'size of network, number of convs': 3, 'lr': 0.006128258707294353, 'out_layer': 128, 'num_negative_samples': 11, 'alpha': 0.5}. Best is trial 12 with value: 2.4752516746520996.\u001B[0m\n",
      "\u001B[32m[I 2023-12-18 17:51:27,014]\u001B[0m Trial 16 finished with value: 3.049898624420166 and parameters: {'hidden_layer': 32, 'dropout': 0.1, 'size of network, number of convs': 3, 'lr': 0.00954037652776335, 'out_layer': 128, 'num_negative_samples': 6, 'alpha': 0.3}. Best is trial 12 with value: 2.4752516746520996.\u001B[0m\n",
      "\u001B[32m[I 2023-12-18 17:51:38,606]\u001B[0m Trial 17 finished with value: 2.473893642425537 and parameters: {'hidden_layer': 64, 'dropout': 0.0, 'size of network, number of convs': 3, 'lr': 0.007974871122606692, 'out_layer': 128, 'num_negative_samples': 6, 'alpha': 0.1}. Best is trial 17 with value: 2.473893642425537.\u001B[0m\n",
      "\u001B[32m[I 2023-12-18 17:51:46,602]\u001B[0m Trial 18 finished with value: 2.4644615650177 and parameters: {'hidden_layer': 64, 'dropout': 0.1, 'size of network, number of convs': 3, 'lr': 0.00805662502272119, 'out_layer': 64, 'num_negative_samples': 6, 'alpha': 0.1}. Best is trial 18 with value: 2.4644615650177.\u001B[0m\n",
      "\u001B[32m[I 2023-12-18 17:51:52,569]\u001B[0m Trial 19 finished with value: 3.716043472290039 and parameters: {'hidden_layer': 64, 'dropout': 0.1, 'size of network, number of convs': 2, 'lr': 0.009848750415683094, 'out_layer': 64, 'num_negative_samples': 21, 'alpha': 0.5}. Best is trial 18 with value: 2.4644615650177.\u001B[0m\n",
      "\u001B[32m[I 2023-12-18 17:51:59,475]\u001B[0m Trial 20 finished with value: 3.0571584701538086 and parameters: {'hidden_layer': 64, 'dropout': 0.1, 'size of network, number of convs': 3, 'lr': 0.008107680274249171, 'out_layer': 64, 'num_negative_samples': 11, 'alpha': 0.3}. Best is trial 18 with value: 2.4644615650177.\u001B[0m\n",
      "\u001B[32m[I 2023-12-18 17:52:12,427]\u001B[0m Trial 21 finished with value: 2.4763903617858887 and parameters: {'hidden_layer': 64, 'dropout': 0.0, 'size of network, number of convs': 3, 'lr': 0.008640629559957933, 'out_layer': 64, 'num_negative_samples': 6, 'alpha': 0.1}. Best is trial 18 with value: 2.4644615650177.\u001B[0m\n",
      "\u001B[32m[I 2023-12-18 17:52:25,124]\u001B[0m Trial 22 finished with value: 2.4802627563476562 and parameters: {'hidden_layer': 64, 'dropout': 0.0, 'size of network, number of convs': 3, 'lr': 0.00780865083189097, 'out_layer': 64, 'num_negative_samples': 6, 'alpha': 0.1}. Best is trial 18 with value: 2.4644615650177.\u001B[0m\n",
      "\u001B[32m[I 2023-12-18 17:52:37,487]\u001B[0m Trial 23 finished with value: 2.4917426109313965 and parameters: {'hidden_layer': 64, 'dropout': 0.1, 'size of network, number of convs': 3, 'lr': 0.008487745724700362, 'out_layer': 32, 'num_negative_samples': 6, 'alpha': 0.1}. Best is trial 18 with value: 2.4644615650177.\u001B[0m\n",
      "\u001B[32m[I 2023-12-18 17:52:40,838]\u001B[0m Trial 24 finished with value: 4.666167259216309 and parameters: {'hidden_layer': 64, 'dropout': 0.0, 'size of network, number of convs': 3, 'lr': 0.007696861480046033, 'out_layer': 128, 'num_negative_samples': 1, 'alpha': 0.7}. Best is trial 18 with value: 2.4644615650177.\u001B[0m\n",
      "\u001B[32m[I 2023-12-18 17:52:43,664]\u001B[0m Trial 25 finished with value: 5.452141761779785 and parameters: {'hidden_layer': 64, 'dropout': 0.1, 'size of network, number of convs': 3, 'lr': 0.007075760838160203, 'out_layer': 64, 'num_negative_samples': 6, 'alpha': 0.8}. Best is trial 18 with value: 2.4644615650177.\u001B[0m\n",
      "\u001B[32m[I 2023-12-18 17:52:56,371]\u001B[0m Trial 26 finished with value: 2.483264923095703 and parameters: {'hidden_layer': 64, 'dropout': 0.2, 'size of network, number of convs': 3, 'lr': 0.009062084708680643, 'out_layer': 128, 'num_negative_samples': 6, 'alpha': 0.1}. Best is trial 18 with value: 2.4644615650177.\u001B[0m\n",
      "\u001B[32m[I 2023-12-18 17:53:08,812]\u001B[0m Trial 27 finished with value: 2.474548816680908 and parameters: {'hidden_layer': 64, 'dropout': 0.0, 'size of network, number of convs': 3, 'lr': 0.007399299711485153, 'out_layer': 128, 'num_negative_samples': 6, 'alpha': 0.1}. Best is trial 18 with value: 2.4644615650177.\u001B[0m\n",
      "\u001B[32m[I 2023-12-18 17:53:20,340]\u001B[0m Trial 28 finished with value: 2.5176937580108643 and parameters: {'hidden_layer': 64, 'dropout': 0.1, 'size of network, number of convs': 1, 'lr': 0.00905990872347437, 'out_layer': 64, 'num_negative_samples': 6, 'alpha': 0.1}. Best is trial 18 with value: 2.4644615650177.\u001B[0m\n",
      "\u001B[32m[I 2023-12-18 17:53:24,798]\u001B[0m Trial 29 finished with value: 4.111576080322266 and parameters: {'hidden_layer': 64, 'dropout': 0.0, 'size of network, number of convs': 2, 'lr': 0.008253425037898459, 'out_layer': 32, 'num_negative_samples': 21, 'alpha': 0.6}. Best is trial 18 with value: 2.4644615650177.\u001B[0m\n",
      "\u001B[32m[I 2023-12-18 17:53:36,757]\u001B[0m Trial 30 finished with value: 2.494708299636841 and parameters: {'hidden_layer': 64, 'dropout': 0.0, 'size of network, number of convs': 1, 'lr': 0.007520628634739519, 'out_layer': 32, 'num_negative_samples': 11, 'alpha': 0.1}. Best is trial 18 with value: 2.4644615650177.\u001B[0m\n",
      "\u001B[32m[I 2023-12-18 17:53:49,511]\u001B[0m Trial 31 finished with value: 2.4854564666748047 and parameters: {'hidden_layer': 64, 'dropout': 0.0, 'size of network, number of convs': 3, 'lr': 0.007104745044928924, 'out_layer': 128, 'num_negative_samples': 6, 'alpha': 0.1}. Best is trial 18 with value: 2.4644615650177.\u001B[0m\n",
      "\u001B[32m[I 2023-12-18 17:53:51,160]\u001B[0m Trial 32 finished with value: 7.181167125701904 and parameters: {'hidden_layer': 64, 'dropout': 0.0, 'size of network, number of convs': 3, 'lr': 0.008133356369296938, 'out_layer': 128, 'num_negative_samples': 6, 'alpha': 0.9}. Best is trial 18 with value: 2.4644615650177.\u001B[0m\n",
      "\u001B[32m[I 2023-12-18 17:54:03,363]\u001B[0m Trial 33 finished with value: 2.4765408039093018 and parameters: {'hidden_layer': 128, 'dropout': 0.0, 'size of network, number of convs': 3, 'lr': 0.007833854460107982, 'out_layer': 128, 'num_negative_samples': 6, 'alpha': 0.1}. Best is trial 18 with value: 2.4644615650177.\u001B[0m\n",
      "\u001B[32m[I 2023-12-18 17:54:10,322]\u001B[0m Trial 34 finished with value: 3.347583055496216 and parameters: {'hidden_layer': 128, 'dropout': 0.1, 'size of network, number of convs': 3, 'lr': 0.007362868740159361, 'out_layer': 128, 'num_negative_samples': 16, 'alpha': 0.4}. Best is trial 18 with value: 2.4644615650177.\u001B[0m\n",
      "\u001B[32m[I 2023-12-18 17:54:13,809]\u001B[0m Trial 35 finished with value: 4.11744499206543 and parameters: {'hidden_layer': 64, 'dropout': 0.2, 'size of network, number of convs': 3, 'lr': 0.006387070020034148, 'out_layer': 128, 'num_negative_samples': 1, 'alpha': 0.6}. Best is trial 18 with value: 2.4644615650177.\u001B[0m\n",
      "\u001B[32m[I 2023-12-18 17:54:24,055]\u001B[0m Trial 36 finished with value: 2.4741768836975098 and parameters: {'hidden_layer': 64, 'dropout': 0.4, 'size of network, number of convs': 2, 'lr': 0.008388300349749312, 'out_layer': 64, 'num_negative_samples': 6, 'alpha': 0.1}. Best is trial 18 with value: 2.4644615650177.\u001B[0m\n",
      "\u001B[32m[I 2023-12-18 17:54:28,262]\u001B[0m Trial 37 finished with value: 3.712867021560669 and parameters: {'hidden_layer': 64, 'dropout': 0.5, 'size of network, number of convs': 2, 'lr': 0.008838817323349759, 'out_layer': 64, 'num_negative_samples': 6, 'alpha': 0.5}. Best is trial 18 with value: 2.4644615650177.\u001B[0m\n",
      "\u001B[32m[I 2023-12-18 17:54:30,109]\u001B[0m Trial 38 finished with value: 7.163244724273682 and parameters: {'hidden_layer': 64, 'dropout': 0.4, 'size of network, number of convs': 2, 'lr': 0.008379531366856202, 'out_layer': 64, 'num_negative_samples': 16, 'alpha': 0.9}. Best is trial 18 with value: 2.4644615650177.\u001B[0m\n",
      "\u001B[32m[I 2023-12-18 17:54:39,095]\u001B[0m Trial 39 finished with value: 2.778235912322998 and parameters: {'hidden_layer': 64, 'dropout': 0.4, 'size of network, number of convs': 2, 'lr': 0.008050603051564464, 'out_layer': 64, 'num_negative_samples': 6, 'alpha': 0.2}. Best is trial 18 with value: 2.4644615650177.\u001B[0m\n",
      "\u001B[32m[I 2023-12-18 17:54:45,198]\u001B[0m Trial 40 finished with value: 3.3556861877441406 and parameters: {'hidden_layer': 64, 'dropout': 0.4, 'size of network, number of convs': 2, 'lr': 0.0077138675661978075, 'out_layer': 64, 'num_negative_samples': 21, 'alpha': 0.4}. Best is trial 18 with value: 2.4644615650177.\u001B[0m\n",
      "\u001B[32m[I 2023-12-18 17:54:55,433]\u001B[0m Trial 41 finished with value: 2.466198444366455 and parameters: {'hidden_layer': 128, 'dropout': 0.2, 'size of network, number of convs': 2, 'lr': 0.006875036037098964, 'out_layer': 64, 'num_negative_samples': 6, 'alpha': 0.1}. Best is trial 18 with value: 2.4644615650177.\u001B[0m\n",
      "\u001B[32m[I 2023-12-18 17:55:15,110]\u001B[0m Trial 42 finished with value: 2.473411798477173 and parameters: {'hidden_layer': 128, 'dropout': 0.2, 'size of network, number of convs': 2, 'lr': 0.009349503176176591, 'out_layer': 64, 'num_negative_samples': 6, 'alpha': 0.1}. Best is trial 18 with value: 2.4644615650177.\u001B[0m\n",
      "\u001B[32m[I 2023-12-18 17:55:32,204]\u001B[0m Trial 43 finished with value: 2.481252670288086 and parameters: {'hidden_layer': 128, 'dropout': 0.2, 'size of network, number of convs': 2, 'lr': 0.009488729947418137, 'out_layer': 64, 'num_negative_samples': 6, 'alpha': 0.1}. Best is trial 18 with value: 2.4644615650177.\u001B[0m\n",
      "\u001B[32m[I 2023-12-18 17:55:36,189]\u001B[0m Trial 44 finished with value: 4.6992082595825195 and parameters: {'hidden_layer': 128, 'dropout': 0.2, 'size of network, number of convs': 2, 'lr': 0.009263181031673897, 'out_layer': 64, 'num_negative_samples': 6, 'alpha': 0.7}. Best is trial 18 with value: 2.4644615650177.\u001B[0m\n",
      "\u001B[32m[I 2023-12-18 17:55:51,960]\u001B[0m Trial 45 finished with value: 2.487265110015869 and parameters: {'hidden_layer': 128, 'dropout': 0.30000000000000004, 'size of network, number of convs': 2, 'lr': 0.009959678748002692, 'out_layer': 64, 'num_negative_samples': 1, 'alpha': 0.1}. Best is trial 18 with value: 2.4644615650177.\u001B[0m\n",
      "\u001B[32m[I 2023-12-18 17:56:09,545]\u001B[0m Trial 46 finished with value: 2.4871392250061035 and parameters: {'hidden_layer': 128, 'dropout': 0.2, 'size of network, number of convs': 2, 'lr': 0.008750179723127678, 'out_layer': 64, 'num_negative_samples': 6, 'alpha': 0.1}. Best is trial 18 with value: 2.4644615650177.\u001B[0m\n",
      "\u001B[32m[I 2023-12-18 17:56:12,942]\u001B[0m Trial 47 finished with value: 5.490439414978027 and parameters: {'hidden_layer': 128, 'dropout': 0.30000000000000004, 'size of network, number of convs': 2, 'lr': 0.008457668986054897, 'out_layer': 64, 'num_negative_samples': 6, 'alpha': 0.8}. Best is trial 18 with value: 2.4644615650177.\u001B[0m\n",
      "\u001B[32m[I 2023-12-18 17:56:23,881]\u001B[0m Trial 48 finished with value: 3.044304847717285 and parameters: {'hidden_layer': 128, 'dropout': 0.2, 'size of network, number of convs': 2, 'lr': 0.005447365067322591, 'out_layer': 64, 'num_negative_samples': 11, 'alpha': 0.3}. Best is trial 18 with value: 2.4644615650177.\u001B[0m\n",
      "\u001B[32m[I 2023-12-18 17:56:31,107]\u001B[0m Trial 49 finished with value: 2.804945945739746 and parameters: {'hidden_layer': 128, 'dropout': 0.2, 'size of network, number of convs': 1, 'lr': 0.006824878603039663, 'out_layer': 64, 'num_negative_samples': 16, 'alpha': 0.2}. Best is trial 18 with value: 2.4644615650177.\u001B[0m\n",
      "C:\\Users\\user\\Desktop\\StableGNN\\venv\\lib\\site-packages\\sklearn\\neural_network\\_multilayer_perceptron.py:692: ConvergenceWarning: Stochastic Optimizer: Maximum iterations (100) reached and the optimization hasn't converged yet.\n",
      "  warnings.warn(\n",
      "\u001B[32m[I 2023-12-18 17:56:55,995]\u001B[0m A new study created in memory with name: no-name-2e7d5025-4ab2-414d-81f0-5732f9fbdf8c\u001B[0m\n",
      "\u001B[32m[I 2023-12-18 17:57:11,510]\u001B[0m Trial 0 finished with value: 3.061540365219116 and parameters: {'hidden_layer': 32, 'dropout': 0.1, 'size of network, number of convs': 2, 'lr': 0.005965553829457757, 'out_layer': 64, 'num_negative_samples': 1, 'alpha': 0.3}. Best is trial 0 with value: 3.061540365219116.\u001B[0m\n",
      "\u001B[32m[I 2023-12-18 17:57:36,303]\u001B[0m Trial 1 finished with value: 2.524691581726074 and parameters: {'hidden_layer': 128, 'dropout': 0.30000000000000004, 'size of network, number of convs': 1, 'lr': 0.009522161268116013, 'out_layer': 32, 'num_negative_samples': 21, 'alpha': 0.1}. Best is trial 1 with value: 2.524691581726074.\u001B[0m\n",
      "\u001B[32m[I 2023-12-18 17:57:54,805]\u001B[0m Trial 2 finished with value: 2.800581932067871 and parameters: {'hidden_layer': 32, 'dropout': 0.2, 'size of network, number of convs': 3, 'lr': 0.005426425522684816, 'out_layer': 64, 'num_negative_samples': 1, 'alpha': 0.2}. Best is trial 1 with value: 2.524691581726074.\u001B[0m\n",
      "\u001B[32m[I 2023-12-18 17:58:06,786]\u001B[0m Trial 3 finished with value: 2.8007030487060547 and parameters: {'hidden_layer': 128, 'dropout': 0.2, 'size of network, number of convs': 3, 'lr': 0.005979427784131035, 'out_layer': 32, 'num_negative_samples': 21, 'alpha': 0.2}. Best is trial 1 with value: 2.524691581726074.\u001B[0m\n",
      "\u001B[32m[I 2023-12-18 17:58:15,537]\u001B[0m Trial 4 finished with value: 4.190587997436523 and parameters: {'hidden_layer': 64, 'dropout': 0.4, 'size of network, number of convs': 3, 'lr': 0.007015869222269532, 'out_layer': 64, 'num_negative_samples': 21, 'alpha': 0.6}. Best is trial 1 with value: 2.524691581726074.\u001B[0m\n",
      "\u001B[32m[I 2023-12-18 17:58:18,902]\u001B[0m Trial 5 finished with value: 7.590210437774658 and parameters: {'hidden_layer': 32, 'dropout': 0.1, 'size of network, number of convs': 1, 'lr': 0.005250049747378841, 'out_layer': 64, 'num_negative_samples': 16, 'alpha': 0.9}. Best is trial 1 with value: 2.524691581726074.\u001B[0m\n",
      "\u001B[32m[I 2023-12-18 17:58:29,629]\u001B[0m Trial 6 finished with value: 3.7189178466796875 and parameters: {'hidden_layer': 32, 'dropout': 0.4, 'size of network, number of convs': 2, 'lr': 0.008497407771513137, 'out_layer': 64, 'num_negative_samples': 16, 'alpha': 0.5}. Best is trial 1 with value: 2.524691581726074.\u001B[0m\n",
      "\u001B[32m[I 2023-12-18 17:58:38,040]\u001B[0m Trial 7 finished with value: 4.13833475112915 and parameters: {'hidden_layer': 64, 'dropout': 0.4, 'size of network, number of convs': 2, 'lr': 0.006128847310366712, 'out_layer': 64, 'num_negative_samples': 6, 'alpha': 0.6}. Best is trial 1 with value: 2.524691581726074.\u001B[0m\n",
      "\u001B[32m[I 2023-12-18 17:58:44,501]\u001B[0m Trial 8 finished with value: 4.794803619384766 and parameters: {'hidden_layer': 64, 'dropout': 0.0, 'size of network, number of convs': 1, 'lr': 0.00534843948061783, 'out_layer': 32, 'num_negative_samples': 16, 'alpha': 0.7}. Best is trial 1 with value: 2.524691581726074.\u001B[0m\n",
      "\u001B[32m[I 2023-12-18 17:59:09,842]\u001B[0m Trial 9 finished with value: 2.5187716484069824 and parameters: {'hidden_layer': 32, 'dropout': 0.1, 'size of network, number of convs': 3, 'lr': 0.00816272306466833, 'out_layer': 64, 'num_negative_samples': 16, 'alpha': 0.1}. Best is trial 9 with value: 2.5187716484069824.\u001B[0m\n",
      "\u001B[32m[I 2023-12-18 17:59:14,389]\u001B[0m Trial 10 finished with value: 5.617821216583252 and parameters: {'hidden_layer': 32, 'dropout': 0.0, 'size of network, number of convs': 3, 'lr': 0.00802704081566651, 'out_layer': 128, 'num_negative_samples': 11, 'alpha': 0.8}. Best is trial 9 with value: 2.5187716484069824.\u001B[0m\n",
      "\u001B[32m[I 2023-12-18 17:59:30,645]\u001B[0m Trial 11 finished with value: 2.517103433609009 and parameters: {'hidden_layer': 128, 'dropout': 0.30000000000000004, 'size of network, number of convs': 1, 'lr': 0.009664813970994323, 'out_layer': 32, 'num_negative_samples': 21, 'alpha': 0.1}. Best is trial 11 with value: 2.517103433609009.\u001B[0m\n",
      "\u001B[32m[I 2023-12-18 17:59:48,054]\u001B[0m Trial 12 finished with value: 2.5845937728881836 and parameters: {'hidden_layer': 128, 'dropout': 0.5, 'size of network, number of convs': 1, 'lr': 0.00977612752139224, 'out_layer': 128, 'num_negative_samples': 11, 'alpha': 0.1}. Best is trial 11 with value: 2.517103433609009.\u001B[0m\n",
      "\u001B[32m[I 2023-12-18 18:00:05,320]\u001B[0m Trial 13 finished with value: 2.5005433559417725 and parameters: {'hidden_layer': 128, 'dropout': 0.30000000000000004, 'size of network, number of convs': 3, 'lr': 0.008772817289196785, 'out_layer': 32, 'num_negative_samples': 6, 'alpha': 0.1}. Best is trial 13 with value: 2.5005433559417725.\u001B[0m\n",
      "\u001B[32m[I 2023-12-18 18:00:15,430]\u001B[0m Trial 14 finished with value: 3.3837413787841797 and parameters: {'hidden_layer': 128, 'dropout': 0.30000000000000004, 'size of network, number of convs': 1, 'lr': 0.009061445716712153, 'out_layer': 32, 'num_negative_samples': 6, 'alpha': 0.4}. Best is trial 13 with value: 2.5005433559417725.\u001B[0m\n",
      "\u001B[32m[I 2023-12-18 18:00:38,196]\u001B[0m Trial 15 finished with value: 2.538079261779785 and parameters: {'hidden_layer': 128, 'dropout': 0.30000000000000004, 'size of network, number of convs': 1, 'lr': 0.00890701071336133, 'out_layer': 32, 'num_negative_samples': 6, 'alpha': 0.1}. Best is trial 13 with value: 2.5005433559417725.\u001B[0m\n",
      "\u001B[32m[I 2023-12-18 18:01:10,835]\u001B[0m Trial 16 finished with value: 2.499917507171631 and parameters: {'hidden_layer': 128, 'dropout': 0.5, 'size of network, number of convs': 3, 'lr': 0.007262502667020875, 'out_layer': 32, 'num_negative_samples': 21, 'alpha': 0.1}. Best is trial 16 with value: 2.499917507171631.\u001B[0m\n",
      "\u001B[32m[I 2023-12-18 18:01:24,876]\u001B[0m Trial 17 finished with value: 3.3373007774353027 and parameters: {'hidden_layer': 128, 'dropout': 0.5, 'size of network, number of convs': 3, 'lr': 0.007239218756076259, 'out_layer': 32, 'num_negative_samples': 6, 'alpha': 0.4}. Best is trial 16 with value: 2.499917507171631.\u001B[0m\n",
      "\u001B[32m[I 2023-12-18 18:01:30,504]\u001B[0m Trial 18 finished with value: 5.332106590270996 and parameters: {'hidden_layer': 128, 'dropout': 0.5, 'size of network, number of convs': 3, 'lr': 0.007627820538740298, 'out_layer': 32, 'num_negative_samples': 6, 'alpha': 0.8}. Best is trial 16 with value: 2.499917507171631.\u001B[0m\n",
      "\u001B[32m[I 2023-12-18 18:01:42,057]\u001B[0m Trial 19 finished with value: 3.730057954788208 and parameters: {'hidden_layer': 128, 'dropout': 0.4, 'size of network, number of convs': 3, 'lr': 0.006585953621399914, 'out_layer': 128, 'num_negative_samples': 21, 'alpha': 0.5}. Best is trial 16 with value: 2.499917507171631.\u001B[0m\n",
      "\u001B[32m[I 2023-12-18 18:01:49,532]\u001B[0m Trial 20 finished with value: 4.72852897644043 and parameters: {'hidden_layer': 128, 'dropout': 0.2, 'size of network, number of convs': 3, 'lr': 0.007616934129258386, 'out_layer': 32, 'num_negative_samples': 11, 'alpha': 0.7}. Best is trial 16 with value: 2.499917507171631.\u001B[0m\n",
      "\u001B[32m[I 2023-12-18 18:02:20,075]\u001B[0m Trial 21 finished with value: 2.5082521438598633 and parameters: {'hidden_layer': 128, 'dropout': 0.30000000000000004, 'size of network, number of convs': 3, 'lr': 0.009184414859698255, 'out_layer': 32, 'num_negative_samples': 21, 'alpha': 0.1}. Best is trial 16 with value: 2.499917507171631.\u001B[0m\n",
      "\u001B[32m[I 2023-12-18 18:02:51,284]\u001B[0m Trial 22 finished with value: 2.51177716255188 and parameters: {'hidden_layer': 128, 'dropout': 0.4, 'size of network, number of convs': 3, 'lr': 0.00915130744310621, 'out_layer': 32, 'num_negative_samples': 21, 'alpha': 0.1}. Best is trial 16 with value: 2.499917507171631.\u001B[0m\n",
      "\u001B[32m[I 2023-12-18 18:03:15,652]\u001B[0m Trial 23 finished with value: 2.5183887481689453 and parameters: {'hidden_layer': 128, 'dropout': 0.5, 'size of network, number of convs': 3, 'lr': 0.008689487829257842, 'out_layer': 32, 'num_negative_samples': 21, 'alpha': 0.1}. Best is trial 16 with value: 2.499917507171631.\u001B[0m\n",
      "\u001B[32m[I 2023-12-18 18:03:20,230]\u001B[0m Trial 24 finished with value: 7.480156898498535 and parameters: {'hidden_layer': 128, 'dropout': 0.30000000000000004, 'size of network, number of convs': 3, 'lr': 0.008266611943185499, 'out_layer': 32, 'num_negative_samples': 21, 'alpha': 0.9}. Best is trial 16 with value: 2.499917507171631.\u001B[0m\n",
      "\u001B[32m[I 2023-12-18 18:03:38,929]\u001B[0m Trial 25 finished with value: 3.065049648284912 and parameters: {'hidden_layer': 64, 'dropout': 0.2, 'size of network, number of convs': 3, 'lr': 0.00931866897662775, 'out_layer': 32, 'num_negative_samples': 1, 'alpha': 0.3}. Best is trial 16 with value: 2.499917507171631.\u001B[0m\n",
      "\u001B[32m[I 2023-12-18 18:04:06,477]\u001B[0m Trial 26 finished with value: 2.514805793762207 and parameters: {'hidden_layer': 128, 'dropout': 0.4, 'size of network, number of convs': 2, 'lr': 0.009879780281628238, 'out_layer': 128, 'num_negative_samples': 6, 'alpha': 0.1}. Best is trial 16 with value: 2.499917507171631.\u001B[0m\n",
      "\u001B[32m[I 2023-12-18 18:04:33,378]\u001B[0m Trial 27 finished with value: 2.510530948638916 and parameters: {'hidden_layer': 128, 'dropout': 0.30000000000000004, 'size of network, number of convs': 3, 'lr': 0.0067609052022484725, 'out_layer': 32, 'num_negative_samples': 21, 'alpha': 0.1}. Best is trial 16 with value: 2.499917507171631.\u001B[0m\n",
      "\u001B[32m[I 2023-12-18 18:05:02,678]\u001B[0m Trial 28 finished with value: 2.5130727291107178 and parameters: {'hidden_layer': 128, 'dropout': 0.5, 'size of network, number of convs': 3, 'lr': 0.007687450776964654, 'out_layer': 32, 'num_negative_samples': 21, 'alpha': 0.1}. Best is trial 16 with value: 2.499917507171631.\u001B[0m\n",
      "\u001B[32m[I 2023-12-18 18:05:17,877]\u001B[0m Trial 29 finished with value: 3.0585684776306152 and parameters: {'hidden_layer': 64, 'dropout': 0.1, 'size of network, number of convs': 2, 'lr': 0.00867513629896176, 'out_layer': 32, 'num_negative_samples': 1, 'alpha': 0.3}. Best is trial 16 with value: 2.499917507171631.\u001B[0m\n",
      "\u001B[32m[I 2023-12-18 18:05:46,137]\u001B[0m Trial 30 finished with value: 2.507554292678833 and parameters: {'hidden_layer': 128, 'dropout': 0.2, 'size of network, number of convs': 3, 'lr': 0.007885437093160573, 'out_layer': 128, 'num_negative_samples': 6, 'alpha': 0.1}. Best is trial 16 with value: 2.499917507171631.\u001B[0m\n",
      "\u001B[32m[I 2023-12-18 18:06:20,595]\u001B[0m Trial 31 finished with value: 2.5043466091156006 and parameters: {'hidden_layer': 128, 'dropout': 0.2, 'size of network, number of convs': 3, 'lr': 0.00795501979799396, 'out_layer': 128, 'num_negative_samples': 6, 'alpha': 0.1}. Best is trial 16 with value: 2.499917507171631.\u001B[0m\n",
      "\u001B[32m[I 2023-12-18 18:06:51,926]\u001B[0m Trial 32 finished with value: 2.506856918334961 and parameters: {'hidden_layer': 128, 'dropout': 0.2, 'size of network, number of convs': 3, 'lr': 0.007292160669639708, 'out_layer': 128, 'num_negative_samples': 6, 'alpha': 0.1}. Best is trial 16 with value: 2.499917507171631.\u001B[0m\n",
      "\u001B[32m[I 2023-12-18 18:07:20,153]\u001B[0m Trial 33 finished with value: 2.504117488861084 and parameters: {'hidden_layer': 128, 'dropout': 0.1, 'size of network, number of convs': 3, 'lr': 0.007360085732832733, 'out_layer': 128, 'num_negative_samples': 6, 'alpha': 0.1}. Best is trial 16 with value: 2.499917507171631.\u001B[0m\n",
      "\u001B[32m[I 2023-12-18 18:07:42,469]\u001B[0m Trial 34 finished with value: 2.7869675159454346 and parameters: {'hidden_layer': 128, 'dropout': 0.1, 'size of network, number of convs': 3, 'lr': 0.006518283700672164, 'out_layer': 128, 'num_negative_samples': 6, 'alpha': 0.2}. Best is trial 16 with value: 2.499917507171631.\u001B[0m\n",
      "\u001B[32m[I 2023-12-18 18:07:51,706]\u001B[0m Trial 35 finished with value: 4.1475114822387695 and parameters: {'hidden_layer': 128, 'dropout': 0.0, 'size of network, number of convs': 3, 'lr': 0.007070929730788328, 'out_layer': 128, 'num_negative_samples': 6, 'alpha': 0.6}. Best is trial 16 with value: 2.499917507171631.\u001B[0m\n",
      "\u001B[32m[I 2023-12-18 18:07:55,433]\u001B[0m Trial 36 finished with value: 7.513804912567139 and parameters: {'hidden_layer': 128, 'dropout': 0.1, 'size of network, number of convs': 3, 'lr': 0.00837512317702555, 'out_layer': 128, 'num_negative_samples': 6, 'alpha': 0.9}. Best is trial 16 with value: 2.499917507171631.\u001B[0m\n",
      "\u001B[32m[I 2023-12-18 18:08:17,384]\u001B[0m Trial 37 finished with value: 2.8137619495391846 and parameters: {'hidden_layer': 32, 'dropout': 0.2, 'size of network, number of convs': 2, 'lr': 0.007858394109559382, 'out_layer': 128, 'num_negative_samples': 1, 'alpha': 0.2}. Best is trial 16 with value: 2.499917507171631.\u001B[0m\n",
      "\u001B[32m[I 2023-12-18 18:08:28,713]\u001B[0m Trial 38 finished with value: 3.733391761779785 and parameters: {'hidden_layer': 128, 'dropout': 0.1, 'size of network, number of convs': 3, 'lr': 0.0073858214475998945, 'out_layer': 128, 'num_negative_samples': 6, 'alpha': 0.5}. Best is trial 16 with value: 2.499917507171631.\u001B[0m\n",
      "\u001B[32m[I 2023-12-18 18:09:00,505]\u001B[0m Trial 39 finished with value: 2.5007946491241455 and parameters: {'hidden_layer': 64, 'dropout': 0.2, 'size of network, number of convs': 3, 'lr': 0.0068546524898577075, 'out_layer': 128, 'num_negative_samples': 6, 'alpha': 0.1}. Best is trial 16 with value: 2.499917507171631.\u001B[0m\n",
      "\u001B[32m[I 2023-12-18 18:09:08,568]\u001B[0m Trial 40 finished with value: 4.746788024902344 and parameters: {'hidden_layer': 64, 'dropout': 0.0, 'size of network, number of convs': 3, 'lr': 0.006268507960228634, 'out_layer': 64, 'num_negative_samples': 16, 'alpha': 0.7}. Best is trial 16 with value: 2.499917507171631.\u001B[0m\n",
      "\u001B[32m[I 2023-12-18 18:09:29,856]\u001B[0m Trial 41 finished with value: 2.5051109790802 and parameters: {'hidden_layer': 64, 'dropout': 0.2, 'size of network, number of convs': 3, 'lr': 0.006958503533060507, 'out_layer': 128, 'num_negative_samples': 6, 'alpha': 0.1}. Best is trial 16 with value: 2.499917507171631.\u001B[0m\n",
      "\u001B[32m[I 2023-12-18 18:09:49,164]\u001B[0m Trial 42 finished with value: 2.5154213905334473 and parameters: {'hidden_layer': 64, 'dropout': 0.2, 'size of network, number of convs': 3, 'lr': 0.006876886251834844, 'out_layer': 128, 'num_negative_samples': 6, 'alpha': 0.1}. Best is trial 16 with value: 2.499917507171631.\u001B[0m\n",
      "\u001B[32m[I 2023-12-18 18:10:08,641]\u001B[0m Trial 43 finished with value: 2.5077199935913086 and parameters: {'hidden_layer': 64, 'dropout': 0.1, 'size of network, number of convs': 3, 'lr': 0.006354878311082615, 'out_layer': 128, 'num_negative_samples': 6, 'alpha': 0.1}. Best is trial 16 with value: 2.499917507171631.\u001B[0m\n",
      "\u001B[32m[I 2023-12-18 18:10:11,585]\u001B[0m Trial 44 finished with value: 5.5307207107543945 and parameters: {'hidden_layer': 32, 'dropout': 0.1, 'size of network, number of convs': 3, 'lr': 0.005004151047171402, 'out_layer': 128, 'num_negative_samples': 6, 'alpha': 0.8}. Best is trial 16 with value: 2.499917507171631.\u001B[0m\n",
      "\u001B[32m[I 2023-12-18 18:10:14,947]\u001B[0m Trial 45 finished with value: 4.1305952072143555 and parameters: {'hidden_layer': 64, 'dropout': 0.2, 'size of network, number of convs': 2, 'lr': 0.007916616019462487, 'out_layer': 64, 'num_negative_samples': 11, 'alpha': 0.6}. Best is trial 16 with value: 2.499917507171631.\u001B[0m\n",
      "\u001B[32m[I 2023-12-18 18:10:35,134]\u001B[0m Trial 46 finished with value: 2.5148067474365234 and parameters: {'hidden_layer': 32, 'dropout': 0.30000000000000004, 'size of network, number of convs': 3, 'lr': 0.005773075174537095, 'out_layer': 128, 'num_negative_samples': 6, 'alpha': 0.1}. Best is trial 16 with value: 2.499917507171631.\u001B[0m\n",
      "\u001B[32m[I 2023-12-18 18:10:44,201]\u001B[0m Trial 47 finished with value: 3.4549522399902344 and parameters: {'hidden_layer': 64, 'dropout': 0.0, 'size of network, number of convs': 1, 'lr': 0.00711087734035004, 'out_layer': 128, 'num_negative_samples': 16, 'alpha': 0.4}. Best is trial 16 with value: 2.499917507171631.\u001B[0m\n",
      "\u001B[32m[I 2023-12-18 18:11:00,630]\u001B[0m Trial 48 finished with value: 2.5062742233276367 and parameters: {'hidden_layer': 128, 'dropout': 0.4, 'size of network, number of convs': 3, 'lr': 0.005970412206712404, 'out_layer': 64, 'num_negative_samples': 6, 'alpha': 0.1}. Best is trial 16 with value: 2.499917507171631.\u001B[0m\n",
      "\u001B[32m[I 2023-12-18 18:11:13,621]\u001B[0m Trial 49 finished with value: 3.0553359985351562 and parameters: {'hidden_layer': 128, 'dropout': 0.1, 'size of network, number of convs': 3, 'lr': 0.007430447871987496, 'out_layer': 128, 'num_negative_samples': 6, 'alpha': 0.3}. Best is trial 16 with value: 2.499917507171631.\u001B[0m\n",
      "C:\\Users\\user\\Desktop\\StableGNN\\venv\\lib\\site-packages\\sklearn\\neural_network\\_multilayer_perceptron.py:692: ConvergenceWarning: Stochastic Optimizer: Maximum iterations (100) reached and the optimization hasn't converged yet.\n",
      "  warnings.warn(\n",
      "\u001B[32m[I 2023-12-18 18:11:36,647]\u001B[0m A new study created in memory with name: no-name-4b5ab812-8078-4d06-9a41-a30abf5a1990\u001B[0m\n",
      "\u001B[32m[I 2023-12-18 18:11:45,284]\u001B[0m Trial 0 finished with value: 3.806633710861206 and parameters: {'hidden_layer': 128, 'dropout': 0.0, 'size of network, number of convs': 1, 'lr': 0.0056577494026844215, 'out_layer': 64, 'num_negative_samples': 6, 'alpha': 0.5}. Best is trial 0 with value: 3.806633710861206.\u001B[0m\n",
      "\u001B[32m[I 2023-12-18 18:11:49,764]\u001B[0m Trial 1 finished with value: 5.586909770965576 and parameters: {'hidden_layer': 64, 'dropout': 0.1, 'size of network, number of convs': 2, 'lr': 0.006530096997953699, 'out_layer': 128, 'num_negative_samples': 1, 'alpha': 0.8}. Best is trial 0 with value: 3.806633710861206.\u001B[0m\n",
      "\u001B[32m[I 2023-12-18 18:12:01,989]\u001B[0m Trial 2 finished with value: 3.1214358806610107 and parameters: {'hidden_layer': 64, 'dropout': 0.5, 'size of network, number of convs': 1, 'lr': 0.00875155517897188, 'out_layer': 64, 'num_negative_samples': 1, 'alpha': 0.3}. Best is trial 2 with value: 3.1214358806610107.\u001B[0m\n",
      "\u001B[32m[I 2023-12-18 18:12:17,296]\u001B[0m Trial 3 finished with value: 2.7924551963806152 and parameters: {'hidden_layer': 128, 'dropout': 0.5, 'size of network, number of convs': 3, 'lr': 0.008888039816498244, 'out_layer': 32, 'num_negative_samples': 6, 'alpha': 0.2}. Best is trial 3 with value: 2.7924551963806152.\u001B[0m\n",
      "\u001B[32m[I 2023-12-18 18:12:22,234]\u001B[0m Trial 4 finished with value: 4.664146423339844 and parameters: {'hidden_layer': 64, 'dropout': 0.30000000000000004, 'size of network, number of convs': 2, 'lr': 0.008608208478521909, 'out_layer': 128, 'num_negative_samples': 6, 'alpha': 0.7}. Best is trial 3 with value: 2.7924551963806152.\u001B[0m\n",
      "\u001B[32m[I 2023-12-18 18:12:26,058]\u001B[0m Trial 5 finished with value: 5.501768112182617 and parameters: {'hidden_layer': 64, 'dropout': 0.30000000000000004, 'size of network, number of convs': 3, 'lr': 0.005269176613068736, 'out_layer': 64, 'num_negative_samples': 6, 'alpha': 0.8}. Best is trial 3 with value: 2.7924551963806152.\u001B[0m\n",
      "\u001B[32m[I 2023-12-18 18:12:35,965]\u001B[0m Trial 6 finished with value: 3.394437551498413 and parameters: {'hidden_layer': 64, 'dropout': 0.0, 'size of network, number of convs': 3, 'lr': 0.008400177651469928, 'out_layer': 32, 'num_negative_samples': 1, 'alpha': 0.4}. Best is trial 3 with value: 2.7924551963806152.\u001B[0m\n",
      "\u001B[32m[I 2023-12-18 18:12:43,791]\u001B[0m Trial 7 finished with value: 3.743549346923828 and parameters: {'hidden_layer': 64, 'dropout': 0.5, 'size of network, number of convs': 3, 'lr': 0.0057849773078341524, 'out_layer': 32, 'num_negative_samples': 11, 'alpha': 0.5}. Best is trial 3 with value: 2.7924551963806152.\u001B[0m\n",
      "\u001B[32m[I 2023-12-18 18:12:51,672]\u001B[0m Trial 8 finished with value: 3.7481555938720703 and parameters: {'hidden_layer': 32, 'dropout': 0.2, 'size of network, number of convs': 3, 'lr': 0.005247695675330462, 'out_layer': 128, 'num_negative_samples': 6, 'alpha': 0.5}. Best is trial 3 with value: 2.7924551963806152.\u001B[0m\n",
      "\u001B[32m[I 2023-12-18 18:12:56,658]\u001B[0m Trial 9 finished with value: 4.723723411560059 and parameters: {'hidden_layer': 32, 'dropout': 0.5, 'size of network, number of convs': 3, 'lr': 0.0063250890338516046, 'out_layer': 64, 'num_negative_samples': 6, 'alpha': 0.7}. Best is trial 3 with value: 2.7924551963806152.\u001B[0m\n",
      "\u001B[32m[I 2023-12-18 18:13:11,810]\u001B[0m Trial 10 finished with value: 2.784557819366455 and parameters: {'hidden_layer': 128, 'dropout': 0.4, 'size of network, number of convs': 2, 'lr': 0.009795276744095447, 'out_layer': 32, 'num_negative_samples': 21, 'alpha': 0.2}. Best is trial 10 with value: 2.784557819366455.\u001B[0m\n",
      "\u001B[32m[I 2023-12-18 18:13:21,633]\u001B[0m Trial 11 finished with value: 2.7833914756774902 and parameters: {'hidden_layer': 128, 'dropout': 0.4, 'size of network, number of convs': 2, 'lr': 0.009822141073462924, 'out_layer': 32, 'num_negative_samples': 21, 'alpha': 0.2}. Best is trial 11 with value: 2.7833914756774902.\u001B[0m\n",
      "\u001B[32m[I 2023-12-18 18:13:36,893]\u001B[0m Trial 12 finished with value: 2.780385971069336 and parameters: {'hidden_layer': 128, 'dropout': 0.4, 'size of network, number of convs': 2, 'lr': 0.009684456537784991, 'out_layer': 32, 'num_negative_samples': 21, 'alpha': 0.2}. Best is trial 12 with value: 2.780385971069336.\u001B[0m\n",
      "\u001B[32m[I 2023-12-18 18:13:52,417]\u001B[0m Trial 13 finished with value: 2.7916762828826904 and parameters: {'hidden_layer': 128, 'dropout': 0.4, 'size of network, number of convs': 2, 'lr': 0.00984156016839259, 'out_layer': 32, 'num_negative_samples': 21, 'alpha': 0.2}. Best is trial 12 with value: 2.780385971069336.\u001B[0m\n",
      "\u001B[32m[I 2023-12-18 18:13:58,802]\u001B[0m Trial 14 finished with value: 4.1219048500061035 and parameters: {'hidden_layer': 128, 'dropout': 0.4, 'size of network, number of convs': 2, 'lr': 0.00940361294494384, 'out_layer': 32, 'num_negative_samples': 21, 'alpha': 0.6}. Best is trial 12 with value: 2.780385971069336.\u001B[0m\n",
      "\u001B[32m[I 2023-12-18 18:14:17,851]\u001B[0m Trial 15 finished with value: 2.5128958225250244 and parameters: {'hidden_layer': 128, 'dropout': 0.30000000000000004, 'size of network, number of convs': 2, 'lr': 0.007951243848369963, 'out_layer': 32, 'num_negative_samples': 16, 'alpha': 0.1}. Best is trial 15 with value: 2.5128958225250244.\u001B[0m\n",
      "\u001B[32m[I 2023-12-18 18:14:36,884]\u001B[0m Trial 16 finished with value: 2.507214307785034 and parameters: {'hidden_layer': 128, 'dropout': 0.2, 'size of network, number of convs': 2, 'lr': 0.007843896866089241, 'out_layer': 32, 'num_negative_samples': 16, 'alpha': 0.1}. Best is trial 16 with value: 2.507214307785034.\u001B[0m\n",
      "\u001B[32m[I 2023-12-18 18:14:55,939]\u001B[0m Trial 17 finished with value: 2.5195741653442383 and parameters: {'hidden_layer': 128, 'dropout': 0.2, 'size of network, number of convs': 2, 'lr': 0.007683877068134769, 'out_layer': 32, 'num_negative_samples': 16, 'alpha': 0.1}. Best is trial 16 with value: 2.507214307785034.\u001B[0m\n",
      "\u001B[32m[I 2023-12-18 18:15:15,124]\u001B[0m Trial 18 finished with value: 2.5213065147399902 and parameters: {'hidden_layer': 32, 'dropout': 0.1, 'size of network, number of convs': 1, 'lr': 0.007428929695467334, 'out_layer': 32, 'num_negative_samples': 16, 'alpha': 0.1}. Best is trial 16 with value: 2.507214307785034.\u001B[0m\n",
      "\u001B[32m[I 2023-12-18 18:15:34,304]\u001B[0m Trial 19 finished with value: 2.5114896297454834 and parameters: {'hidden_layer': 128, 'dropout': 0.2, 'size of network, number of convs': 2, 'lr': 0.007506732674929648, 'out_layer': 128, 'num_negative_samples': 16, 'alpha': 0.1}. Best is trial 16 with value: 2.507214307785034.\u001B[0m\n",
      "\u001B[32m[I 2023-12-18 18:15:36,985]\u001B[0m Trial 20 finished with value: 7.320627689361572 and parameters: {'hidden_layer': 128, 'dropout': 0.1, 'size of network, number of convs': 2, 'lr': 0.007376629475893319, 'out_layer': 128, 'num_negative_samples': 16, 'alpha': 0.9}. Best is trial 16 with value: 2.507214307785034.\u001B[0m\n",
      "\u001B[32m[I 2023-12-18 18:15:50,961]\u001B[0m Trial 21 finished with value: 2.5028250217437744 and parameters: {'hidden_layer': 128, 'dropout': 0.2, 'size of network, number of convs': 2, 'lr': 0.007773488799932348, 'out_layer': 128, 'num_negative_samples': 16, 'alpha': 0.1}. Best is trial 21 with value: 2.5028250217437744.\u001B[0m\n",
      "\u001B[32m[I 2023-12-18 18:16:10,195]\u001B[0m Trial 22 finished with value: 2.5120456218719482 and parameters: {'hidden_layer': 128, 'dropout': 0.2, 'size of network, number of convs': 2, 'lr': 0.006972672720640758, 'out_layer': 128, 'num_negative_samples': 16, 'alpha': 0.1}. Best is trial 21 with value: 2.5028250217437744.\u001B[0m\n",
      "\u001B[32m[I 2023-12-18 18:16:29,375]\u001B[0m Trial 23 finished with value: 2.5157053470611572 and parameters: {'hidden_layer': 128, 'dropout': 0.2, 'size of network, number of convs': 2, 'lr': 0.00798605448782545, 'out_layer': 128, 'num_negative_samples': 16, 'alpha': 0.1}. Best is trial 21 with value: 2.5028250217437744.\u001B[0m\n",
      "\u001B[32m[I 2023-12-18 18:16:48,505]\u001B[0m Trial 24 finished with value: 2.5122134685516357 and parameters: {'hidden_layer': 128, 'dropout': 0.1, 'size of network, number of convs': 2, 'lr': 0.006938943818001122, 'out_layer': 128, 'num_negative_samples': 16, 'alpha': 0.1}. Best is trial 21 with value: 2.5028250217437744.\u001B[0m\n",
      "\u001B[32m[I 2023-12-18 18:17:07,541]\u001B[0m Trial 25 finished with value: 2.597367763519287 and parameters: {'hidden_layer': 32, 'dropout': 0.2, 'size of network, number of convs': 1, 'lr': 0.008211744853947198, 'out_layer': 128, 'num_negative_samples': 11, 'alpha': 0.1}. Best is trial 21 with value: 2.5028250217437744.\u001B[0m\n",
      "\u001B[32m[I 2023-12-18 18:17:17,383]\u001B[0m Trial 26 finished with value: 3.387404680252075 and parameters: {'hidden_layer': 128, 'dropout': 0.30000000000000004, 'size of network, number of convs': 2, 'lr': 0.0069368239901231666, 'out_layer': 128, 'num_negative_samples': 16, 'alpha': 0.4}. Best is trial 21 with value: 2.5028250217437744.\u001B[0m\n",
      "\u001B[32m[I 2023-12-18 18:17:23,783]\u001B[0m Trial 27 finished with value: 4.1076130867004395 and parameters: {'hidden_layer': 128, 'dropout': 0.1, 'size of network, number of convs': 2, 'lr': 0.009227812738679095, 'out_layer': 128, 'num_negative_samples': 16, 'alpha': 0.6}. Best is trial 21 with value: 2.5028250217437744.\u001B[0m\n",
      "\u001B[32m[I 2023-12-18 18:17:26,490]\u001B[0m Trial 28 finished with value: 7.292253017425537 and parameters: {'hidden_layer': 128, 'dropout': 0.2, 'size of network, number of convs': 2, 'lr': 0.007753577228237243, 'out_layer': 128, 'num_negative_samples': 16, 'alpha': 0.9}. Best is trial 21 with value: 2.5028250217437744.\u001B[0m\n",
      "\u001B[32m[I 2023-12-18 18:17:38,882]\u001B[0m Trial 29 finished with value: 3.115433931350708 and parameters: {'hidden_layer': 128, 'dropout': 0.0, 'size of network, number of convs': 1, 'lr': 0.007159718741775477, 'out_layer': 64, 'num_negative_samples': 11, 'alpha': 0.3}. Best is trial 21 with value: 2.5028250217437744.\u001B[0m\n",
      "\u001B[32m[I 2023-12-18 18:17:57,891]\u001B[0m Trial 30 finished with value: 2.5410656929016113 and parameters: {'hidden_layer': 32, 'dropout': 0.30000000000000004, 'size of network, number of convs': 2, 'lr': 0.0064544761261784035, 'out_layer': 128, 'num_negative_samples': 16, 'alpha': 0.1}. Best is trial 21 with value: 2.5028250217437744.\u001B[0m\n",
      "\u001B[32m[I 2023-12-18 18:18:11,675]\u001B[0m Trial 31 finished with value: 2.5058176517486572 and parameters: {'hidden_layer': 128, 'dropout': 0.2, 'size of network, number of convs': 2, 'lr': 0.0070312515779739, 'out_layer': 128, 'num_negative_samples': 16, 'alpha': 0.1}. Best is trial 21 with value: 2.5028250217437744.\u001B[0m\n",
      "\u001B[32m[I 2023-12-18 18:18:30,819]\u001B[0m Trial 32 finished with value: 2.508850574493408 and parameters: {'hidden_layer': 128, 'dropout': 0.2, 'size of network, number of convs': 2, 'lr': 0.00667862497400774, 'out_layer': 128, 'num_negative_samples': 16, 'alpha': 0.1}. Best is trial 21 with value: 2.5028250217437744.\u001B[0m\n",
      "\u001B[32m[I 2023-12-18 18:18:50,096]\u001B[0m Trial 33 finished with value: 2.512813091278076 and parameters: {'hidden_layer': 128, 'dropout': 0.1, 'size of network, number of convs': 2, 'lr': 0.005974358616148352, 'out_layer': 128, 'num_negative_samples': 16, 'alpha': 0.1}. Best is trial 21 with value: 2.5028250217437744.\u001B[0m\n",
      "\u001B[32m[I 2023-12-18 18:18:53,907]\u001B[0m Trial 34 finished with value: 5.656988143920898 and parameters: {'hidden_layer': 128, 'dropout': 0.2, 'size of network, number of convs': 1, 'lr': 0.0066593865900646376, 'out_layer': 128, 'num_negative_samples': 16, 'alpha': 0.8}. Best is trial 21 with value: 2.5028250217437744.\u001B[0m\n",
      "\u001B[32m[I 2023-12-18 18:19:12,912]\u001B[0m Trial 35 finished with value: 2.5211076736450195 and parameters: {'hidden_layer': 128, 'dropout': 0.30000000000000004, 'size of network, number of convs': 2, 'lr': 0.006234805301694321, 'out_layer': 64, 'num_negative_samples': 1, 'alpha': 0.1}. Best is trial 21 with value: 2.5028250217437744.\u001B[0m\n",
      "\u001B[32m[I 2023-12-18 18:19:25,334]\u001B[0m Trial 36 finished with value: 3.0788984298706055 and parameters: {'hidden_layer': 128, 'dropout': 0.2, 'size of network, number of convs': 2, 'lr': 0.00716727487841262, 'out_layer': 128, 'num_negative_samples': 16, 'alpha': 0.3}. Best is trial 21 with value: 2.5028250217437744.\u001B[0m\n",
      "\u001B[32m[I 2023-12-18 18:19:30,286]\u001B[0m Trial 37 finished with value: 4.723661422729492 and parameters: {'hidden_layer': 64, 'dropout': 0.1, 'size of network, number of convs': 2, 'lr': 0.008422471455903658, 'out_layer': 128, 'num_negative_samples': 1, 'alpha': 0.7}. Best is trial 21 with value: 2.5028250217437744.\u001B[0m\n",
      "\u001B[32m[I 2023-12-18 18:19:49,249]\u001B[0m Trial 38 finished with value: 2.5061111450195312 and parameters: {'hidden_layer': 128, 'dropout': 0.0, 'size of network, number of convs': 2, 'lr': 0.006693847318825459, 'out_layer': 64, 'num_negative_samples': 16, 'alpha': 0.1}. Best is trial 21 with value: 2.5028250217437744.\u001B[0m\n",
      "\u001B[32m[I 2023-12-18 18:19:53,598]\u001B[0m Trial 39 finished with value: 3.3815994262695312 and parameters: {'hidden_layer': 64, 'dropout': 0.0, 'size of network, number of convs': 3, 'lr': 0.009003057682971887, 'out_layer': 64, 'num_negative_samples': 11, 'alpha': 0.4}. Best is trial 21 with value: 2.5028250217437744.\u001B[0m\n",
      "\u001B[32m[I 2023-12-18 18:20:01,427]\u001B[0m Trial 40 finished with value: 3.766479969024658 and parameters: {'hidden_layer': 128, 'dropout': 0.0, 'size of network, number of convs': 1, 'lr': 0.008119514993247347, 'out_layer': 64, 'num_negative_samples': 16, 'alpha': 0.5}. Best is trial 21 with value: 2.5028250217437744.\u001B[0m\n",
      "\u001B[32m[I 2023-12-18 18:20:20,543]\u001B[0m Trial 41 finished with value: 2.52504825592041 and parameters: {'hidden_layer': 128, 'dropout': 0.1, 'size of network, number of convs': 2, 'lr': 0.006731754918540452, 'out_layer': 64, 'num_negative_samples': 16, 'alpha': 0.1}. Best is trial 21 with value: 2.5028250217437744.\u001B[0m\n",
      "\u001B[32m[I 2023-12-18 18:20:38,971]\u001B[0m Trial 42 finished with value: 2.50763201713562 and parameters: {'hidden_layer': 128, 'dropout': 0.30000000000000004, 'size of network, number of convs': 2, 'lr': 0.006172068701429371, 'out_layer': 64, 'num_negative_samples': 16, 'alpha': 0.1}. Best is trial 21 with value: 2.5028250217437744.\u001B[0m\n",
      "\u001B[32m[I 2023-12-18 18:20:40,255]\u001B[0m Trial 43 finished with value: 5.544137001037598 and parameters: {'hidden_layer': 128, 'dropout': 0.30000000000000004, 'size of network, number of convs': 2, 'lr': 0.005447485671667915, 'out_layer': 64, 'num_negative_samples': 6, 'alpha': 0.8}. Best is trial 21 with value: 2.5028250217437744.\u001B[0m\n",
      "\u001B[32m[I 2023-12-18 18:20:59,519]\u001B[0m Trial 44 finished with value: 2.5148777961730957 and parameters: {'hidden_layer': 64, 'dropout': 0.30000000000000004, 'size of network, number of convs': 2, 'lr': 0.006034445739076705, 'out_layer': 64, 'num_negative_samples': 16, 'alpha': 0.1}. Best is trial 21 with value: 2.5028250217437744.\u001B[0m\n",
      "\u001B[32m[I 2023-12-18 18:21:18,780]\u001B[0m Trial 45 finished with value: 2.497641086578369 and parameters: {'hidden_layer': 128, 'dropout': 0.30000000000000004, 'size of network, number of convs': 3, 'lr': 0.00561932220941619, 'out_layer': 64, 'num_negative_samples': 1, 'alpha': 0.1}. Best is trial 45 with value: 2.497641086578369.\u001B[0m\n",
      "\u001B[32m[I 2023-12-18 18:21:23,710]\u001B[0m Trial 46 finished with value: 4.7088799476623535 and parameters: {'hidden_layer': 32, 'dropout': 0.30000000000000004, 'size of network, number of convs': 3, 'lr': 0.005496542776823401, 'out_layer': 64, 'num_negative_samples': 1, 'alpha': 0.7}. Best is trial 45 with value: 2.497641086578369.\u001B[0m\n",
      "\u001B[32m[I 2023-12-18 18:21:29,990]\u001B[0m Trial 47 finished with value: 4.151922225952148 and parameters: {'hidden_layer': 128, 'dropout': 0.4, 'size of network, number of convs': 3, 'lr': 0.005828431897672278, 'out_layer': 64, 'num_negative_samples': 1, 'alpha': 0.6}. Best is trial 45 with value: 2.497641086578369.\u001B[0m\n",
      "\u001B[32m[I 2023-12-18 18:21:37,926]\u001B[0m Trial 48 finished with value: 3.7159080505371094 and parameters: {'hidden_layer': 128, 'dropout': 0.1, 'size of network, number of convs': 3, 'lr': 0.00503545571592332, 'out_layer': 64, 'num_negative_samples': 1, 'alpha': 0.5}. Best is trial 45 with value: 2.497641086578369.\u001B[0m\n",
      "\u001B[32m[I 2023-12-18 18:21:56,916]\u001B[0m Trial 49 finished with value: 2.5046932697296143 and parameters: {'hidden_layer': 128, 'dropout': 0.0, 'size of network, number of convs': 3, 'lr': 0.007735930445558193, 'out_layer': 32, 'num_negative_samples': 1, 'alpha': 0.1}. Best is trial 45 with value: 2.497641086578369.\u001B[0m\n",
      "C:\\Users\\user\\Desktop\\StableGNN\\venv\\lib\\site-packages\\sklearn\\neural_network\\_multilayer_perceptron.py:692: ConvergenceWarning: Stochastic Optimizer: Maximum iterations (100) reached and the optimization hasn't converged yet.\n",
      "  warnings.warn(\n"
     ]
    }
   ],
   "source": [
    "accs = []\n",
    "for _ in range(10):\n",
    "    model = ModelLinkPrediction(number_of_trials=50)\n",
    "    train_edges, train_negative, test_edges, test_negative = model.train_test_edges(dataset)\n",
    "    cl = model.train_cl(train_edges,train_negative)\n",
    "    accs.append(model.test(cl,test_edges,test_negative))\n"
   ],
   "metadata": {
    "collapsed": false,
    "ExecuteTime": {
     "end_time": "2023-12-18T15:22:17.224020200Z",
     "start_time": "2023-12-18T14:05:02.504075Z"
    }
   }
  },
  {
   "cell_type": "code",
   "execution_count": 36,
   "outputs": [
    {
     "name": "stdout",
     "output_type": "stream",
     "text": [
      "0.5118064851774533 0.02222114645791002\n"
     ]
    }
   ],
   "source": [
    "import numpy as np\n",
    "print(np.mean(accs), np.std(accs))"
   ],
   "metadata": {
    "collapsed": false,
    "ExecuteTime": {
     "end_time": "2023-12-18T15:22:17.259028600Z",
     "start_time": "2023-12-18T15:22:17.241023800Z"
    }
   }
  },
  {
   "cell_type": "markdown",
   "source": [
    "### Проведем тестирование и узнаем точность модели для уточненного графа"
   ],
   "metadata": {
    "collapsed": false
   }
  },
  {
   "cell_type": "code",
   "execution_count": 37,
   "outputs": [
    {
     "name": "stdout",
     "output_type": "stream",
     "text": [
      "f1 measure 0.4937655860349127\n"
     ]
    }
   ],
   "source": [
    "print(\"f1 measure\", (model.test(cl,test_edges,test_negative)))"
   ],
   "metadata": {
    "collapsed": false,
    "ExecuteTime": {
     "end_time": "2023-12-18T15:22:17.272031700Z",
     "start_time": "2023-12-18T15:22:17.258028300Z"
    }
   }
  },
  {
   "cell_type": "code",
   "execution_count": 6,
   "outputs": [
    {
     "data": {
      "text/plain": "0.46890657795921387"
     },
     "execution_count": 6,
     "metadata": {},
     "output_type": "execute_result"
    }
   ],
   "source": [
    "import numpy as np\n",
    "np.mean(accs)"
   ],
   "metadata": {
    "collapsed": false,
    "ExecuteTime": {
     "end_time": "2023-12-18T19:19:53.850246600Z",
     "start_time": "2023-12-18T19:19:53.842244700Z"
    }
   }
  },
  {
   "cell_type": "code",
   "execution_count": 8,
   "outputs": [
    {
     "name": "stderr",
     "output_type": "stream",
     "text": [
      "C:\\Users\\user\\Desktop\\StableGNN\\stable_gnn\\model_link_predict.py:93: UserWarning: To copy construct from a tensor, it is recommended to use sourceTensor.clone().detach() or sourceTensor.clone().detach().requires_grad_(True), rather than torch.tensor(sourceTensor).\n",
      "  emb_norm = torch.nn.functional.normalize(torch.tensor(self.embeddings))\n",
      "C:\\Users\\user\\Desktop\\StableGNN\\venv\\lib\\site-packages\\sklearn\\neural_network\\_multilayer_perceptron.py:692: ConvergenceWarning: Stochastic Optimizer: Maximum iterations (100) reached and the optimization hasn't converged yet.\n",
      "  warnings.warn(\n",
      "C:\\Users\\user\\Desktop\\StableGNN\\stable_gnn\\model_link_predict.py:116: UserWarning: To copy construct from a tensor, it is recommended to use sourceTensor.clone().detach() or sourceTensor.clone().detach().requires_grad_(True), rather than torch.tensor(sourceTensor).\n",
      "  emb_norm = torch.nn.functional.normalize(torch.tensor(self.embeddings))\n",
      "C:\\Users\\user\\Desktop\\StableGNN\\stable_gnn\\model_link_predict.py:93: UserWarning: To copy construct from a tensor, it is recommended to use sourceTensor.clone().detach() or sourceTensor.clone().detach().requires_grad_(True), rather than torch.tensor(sourceTensor).\n",
      "  emb_norm = torch.nn.functional.normalize(torch.tensor(self.embeddings))\n",
      "C:\\Users\\user\\Desktop\\StableGNN\\venv\\lib\\site-packages\\sklearn\\neural_network\\_multilayer_perceptron.py:692: ConvergenceWarning: Stochastic Optimizer: Maximum iterations (100) reached and the optimization hasn't converged yet.\n",
      "  warnings.warn(\n",
      "C:\\Users\\user\\Desktop\\StableGNN\\stable_gnn\\model_link_predict.py:116: UserWarning: To copy construct from a tensor, it is recommended to use sourceTensor.clone().detach() or sourceTensor.clone().detach().requires_grad_(True), rather than torch.tensor(sourceTensor).\n",
      "  emb_norm = torch.nn.functional.normalize(torch.tensor(self.embeddings))\n",
      "C:\\Users\\user\\Desktop\\StableGNN\\stable_gnn\\model_link_predict.py:93: UserWarning: To copy construct from a tensor, it is recommended to use sourceTensor.clone().detach() or sourceTensor.clone().detach().requires_grad_(True), rather than torch.tensor(sourceTensor).\n",
      "  emb_norm = torch.nn.functional.normalize(torch.tensor(self.embeddings))\n",
      "C:\\Users\\user\\Desktop\\StableGNN\\venv\\lib\\site-packages\\sklearn\\neural_network\\_multilayer_perceptron.py:692: ConvergenceWarning: Stochastic Optimizer: Maximum iterations (100) reached and the optimization hasn't converged yet.\n",
      "  warnings.warn(\n",
      "C:\\Users\\user\\Desktop\\StableGNN\\stable_gnn\\model_link_predict.py:116: UserWarning: To copy construct from a tensor, it is recommended to use sourceTensor.clone().detach() or sourceTensor.clone().detach().requires_grad_(True), rather than torch.tensor(sourceTensor).\n",
      "  emb_norm = torch.nn.functional.normalize(torch.tensor(self.embeddings))\n",
      "C:\\Users\\user\\Desktop\\StableGNN\\stable_gnn\\model_link_predict.py:93: UserWarning: To copy construct from a tensor, it is recommended to use sourceTensor.clone().detach() or sourceTensor.clone().detach().requires_grad_(True), rather than torch.tensor(sourceTensor).\n",
      "  emb_norm = torch.nn.functional.normalize(torch.tensor(self.embeddings))\n",
      "C:\\Users\\user\\Desktop\\StableGNN\\venv\\lib\\site-packages\\sklearn\\neural_network\\_multilayer_perceptron.py:692: ConvergenceWarning: Stochastic Optimizer: Maximum iterations (100) reached and the optimization hasn't converged yet.\n",
      "  warnings.warn(\n",
      "C:\\Users\\user\\Desktop\\StableGNN\\stable_gnn\\model_link_predict.py:116: UserWarning: To copy construct from a tensor, it is recommended to use sourceTensor.clone().detach() or sourceTensor.clone().detach().requires_grad_(True), rather than torch.tensor(sourceTensor).\n",
      "  emb_norm = torch.nn.functional.normalize(torch.tensor(self.embeddings))\n",
      "C:\\Users\\user\\Desktop\\StableGNN\\stable_gnn\\model_link_predict.py:93: UserWarning: To copy construct from a tensor, it is recommended to use sourceTensor.clone().detach() or sourceTensor.clone().detach().requires_grad_(True), rather than torch.tensor(sourceTensor).\n",
      "  emb_norm = torch.nn.functional.normalize(torch.tensor(self.embeddings))\n",
      "C:\\Users\\user\\Desktop\\StableGNN\\venv\\lib\\site-packages\\sklearn\\neural_network\\_multilayer_perceptron.py:692: ConvergenceWarning: Stochastic Optimizer: Maximum iterations (100) reached and the optimization hasn't converged yet.\n",
      "  warnings.warn(\n",
      "C:\\Users\\user\\Desktop\\StableGNN\\stable_gnn\\model_link_predict.py:116: UserWarning: To copy construct from a tensor, it is recommended to use sourceTensor.clone().detach() or sourceTensor.clone().detach().requires_grad_(True), rather than torch.tensor(sourceTensor).\n",
      "  emb_norm = torch.nn.functional.normalize(torch.tensor(self.embeddings))\n",
      "C:\\Users\\user\\Desktop\\StableGNN\\stable_gnn\\model_link_predict.py:93: UserWarning: To copy construct from a tensor, it is recommended to use sourceTensor.clone().detach() or sourceTensor.clone().detach().requires_grad_(True), rather than torch.tensor(sourceTensor).\n",
      "  emb_norm = torch.nn.functional.normalize(torch.tensor(self.embeddings))\n",
      "C:\\Users\\user\\Desktop\\StableGNN\\venv\\lib\\site-packages\\sklearn\\neural_network\\_multilayer_perceptron.py:692: ConvergenceWarning: Stochastic Optimizer: Maximum iterations (100) reached and the optimization hasn't converged yet.\n",
      "  warnings.warn(\n",
      "C:\\Users\\user\\Desktop\\StableGNN\\stable_gnn\\model_link_predict.py:116: UserWarning: To copy construct from a tensor, it is recommended to use sourceTensor.clone().detach() or sourceTensor.clone().detach().requires_grad_(True), rather than torch.tensor(sourceTensor).\n",
      "  emb_norm = torch.nn.functional.normalize(torch.tensor(self.embeddings))\n",
      "C:\\Users\\user\\Desktop\\StableGNN\\stable_gnn\\model_link_predict.py:93: UserWarning: To copy construct from a tensor, it is recommended to use sourceTensor.clone().detach() or sourceTensor.clone().detach().requires_grad_(True), rather than torch.tensor(sourceTensor).\n",
      "  emb_norm = torch.nn.functional.normalize(torch.tensor(self.embeddings))\n",
      "C:\\Users\\user\\Desktop\\StableGNN\\venv\\lib\\site-packages\\sklearn\\neural_network\\_multilayer_perceptron.py:692: ConvergenceWarning: Stochastic Optimizer: Maximum iterations (100) reached and the optimization hasn't converged yet.\n",
      "  warnings.warn(\n",
      "C:\\Users\\user\\Desktop\\StableGNN\\stable_gnn\\model_link_predict.py:116: UserWarning: To copy construct from a tensor, it is recommended to use sourceTensor.clone().detach() or sourceTensor.clone().detach().requires_grad_(True), rather than torch.tensor(sourceTensor).\n",
      "  emb_norm = torch.nn.functional.normalize(torch.tensor(self.embeddings))\n",
      "C:\\Users\\user\\Desktop\\StableGNN\\stable_gnn\\model_link_predict.py:93: UserWarning: To copy construct from a tensor, it is recommended to use sourceTensor.clone().detach() or sourceTensor.clone().detach().requires_grad_(True), rather than torch.tensor(sourceTensor).\n",
      "  emb_norm = torch.nn.functional.normalize(torch.tensor(self.embeddings))\n",
      "C:\\Users\\user\\Desktop\\StableGNN\\venv\\lib\\site-packages\\sklearn\\neural_network\\_multilayer_perceptron.py:692: ConvergenceWarning: Stochastic Optimizer: Maximum iterations (100) reached and the optimization hasn't converged yet.\n",
      "  warnings.warn(\n",
      "C:\\Users\\user\\Desktop\\StableGNN\\stable_gnn\\model_link_predict.py:116: UserWarning: To copy construct from a tensor, it is recommended to use sourceTensor.clone().detach() or sourceTensor.clone().detach().requires_grad_(True), rather than torch.tensor(sourceTensor).\n",
      "  emb_norm = torch.nn.functional.normalize(torch.tensor(self.embeddings))\n",
      "C:\\Users\\user\\Desktop\\StableGNN\\stable_gnn\\model_link_predict.py:93: UserWarning: To copy construct from a tensor, it is recommended to use sourceTensor.clone().detach() or sourceTensor.clone().detach().requires_grad_(True), rather than torch.tensor(sourceTensor).\n",
      "  emb_norm = torch.nn.functional.normalize(torch.tensor(self.embeddings))\n",
      "C:\\Users\\user\\Desktop\\StableGNN\\venv\\lib\\site-packages\\sklearn\\neural_network\\_multilayer_perceptron.py:692: ConvergenceWarning: Stochastic Optimizer: Maximum iterations (100) reached and the optimization hasn't converged yet.\n",
      "  warnings.warn(\n",
      "C:\\Users\\user\\Desktop\\StableGNN\\stable_gnn\\model_link_predict.py:116: UserWarning: To copy construct from a tensor, it is recommended to use sourceTensor.clone().detach() or sourceTensor.clone().detach().requires_grad_(True), rather than torch.tensor(sourceTensor).\n",
      "  emb_norm = torch.nn.functional.normalize(torch.tensor(self.embeddings))\n",
      "C:\\Users\\user\\Desktop\\StableGNN\\stable_gnn\\model_link_predict.py:93: UserWarning: To copy construct from a tensor, it is recommended to use sourceTensor.clone().detach() or sourceTensor.clone().detach().requires_grad_(True), rather than torch.tensor(sourceTensor).\n",
      "  emb_norm = torch.nn.functional.normalize(torch.tensor(self.embeddings))\n",
      "C:\\Users\\user\\Desktop\\StableGNN\\venv\\lib\\site-packages\\sklearn\\neural_network\\_multilayer_perceptron.py:692: ConvergenceWarning: Stochastic Optimizer: Maximum iterations (100) reached and the optimization hasn't converged yet.\n",
      "  warnings.warn(\n",
      "C:\\Users\\user\\Desktop\\StableGNN\\stable_gnn\\model_link_predict.py:116: UserWarning: To copy construct from a tensor, it is recommended to use sourceTensor.clone().detach() or sourceTensor.clone().detach().requires_grad_(True), rather than torch.tensor(sourceTensor).\n",
      "  emb_norm = torch.nn.functional.normalize(torch.tensor(self.embeddings))\n"
     ]
    },
    {
     "name": "stdout",
     "output_type": "stream",
     "text": [
      "0.7229472424842118 0.014154189848559215\n"
     ]
    }
   ],
   "source": [
    "accs = [] #adjust True\n",
    "for _ in range(10):\n",
    "    model = ModelLinkPrediction(number_of_trials=0)\n",
    "    train_edges, train_negative, test_edges, test_negative = model.train_test_edges(dataset)\n",
    "    cl = model.train_cl(train_edges,train_negative)\n",
    "    accs.append(model.test(cl,test_edges,test_negative))\n",
    "print(np.mean(accs), np.std(accs))"
   ],
   "metadata": {
    "collapsed": false,
    "ExecuteTime": {
     "end_time": "2023-12-18T19:30:49.885390900Z",
     "start_time": "2023-12-18T19:28:48.481909900Z"
    }
   }
  },
  {
   "cell_type": "code",
   "execution_count": null,
   "outputs": [],
   "source": [
    "#make adjust flag false\n",
    "for _ in range(10):\n",
    "    model = ModelLinkPrediction(number_of_trials=0)\n",
    "    train_edges, train_negative, test_edges, test_negative = model.train_test_edges(dataset)\n",
    "    cl = model.train_cl(train_edges,train_negative)\n",
    "    accs.append(model.test(cl,test_edges,test_negative))\n",
    "print(np.mean(accs), np.std(accs))"
   ],
   "metadata": {
    "collapsed": false
   }
  },
  {
   "cell_type": "code",
   "execution_count": null,
   "outputs": [],
   "source": [],
   "metadata": {
    "collapsed": false
   }
  }
 ],
 "metadata": {
  "kernelspec": {
   "display_name": "Python 3",
   "language": "python",
   "name": "python3"
  },
  "language_info": {
   "codemirror_mode": {
    "name": "ipython",
    "version": 2
   },
   "file_extension": ".py",
   "mimetype": "text/x-python",
   "name": "python",
   "nbconvert_exporter": "python",
   "pygments_lexer": "ipython2",
   "version": "2.7.6"
  }
 },
 "nbformat": 4,
 "nbformat_minor": 0
}
