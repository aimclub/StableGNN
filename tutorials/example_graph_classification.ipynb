{
 "cells": [
  {
   "cell_type": "markdown",
   "source": [
    "# Задача классификации графов, предсказание свойств горения молекул углеводорода\n",
    "## Постановка задачи: предсказать один из индикаторов качества горения – производное цетановое число (DCN) для оксигенированных углеводородов по структуре молекул."
   ],
   "metadata": {
    "collapsed": false,
    "pycharm": {
     "name": "#%% md\n"
    }
   }
  },
  {
   "cell_type": "code",
   "execution_count": 6,
   "outputs": [],
   "source": [
    "import os\n",
    "import sys\n",
    "sys.path.append('../')\n",
    "import pandas as pd\n",
    "import numpy as np\n",
    "import networkx as nx\n",
    "from matplotlib import pyplot as plt\n",
    "import torch\n",
    "import torch_geometric.transforms as T\n",
    "from torch_geometric.utils import to_dense_adj\n",
    "from torch_geometric.datasets import MoleculeNet\n",
    "\n",
    "from stable_gnn.pipelines.graph_classification_pipeline import TrainModelGC, TrainModelOptunaGC\n",
    "from stable_gnn.explain import Explain\n",
    "from torch_geometric.transforms.largest_connected_components import LargestConnectedComponents\n",
    "from torch_geometric.loader import DataLoader"
   ],
   "metadata": {
    "collapsed": false,
    "pycharm": {
     "name": "#%%\n"
    },
    "ExecuteTime": {
     "end_time": "2023-12-19T13:24:06.062953600Z",
     "start_time": "2023-12-19T13:24:06.058953Z"
    }
   }
  },
  {
   "cell_type": "markdown",
   "source": [
    "# Загрузка датасета, состоящего из молекул.\n",
    " Атрибуты вершин: относится ли атом к определенному типу (например C, N, S и т.д.), степень вершин-атомов, формальный заряд атома, тип гибридизации, является ли атом частью кольца, является ли атом частью ароматического соединения, нормированная атомная масса"
   ],
   "metadata": {
    "collapsed": false,
    "pycharm": {
     "name": "#%% md\n"
    }
   }
  },
  {
   "cell_type": "code",
   "execution_count": 7,
   "outputs": [
    {
     "data": {
      "text/plain": "2050"
     },
     "execution_count": 7,
     "metadata": {},
     "output_type": "execute_result"
    }
   ],
   "source": [
    "root = '../data_validation/'\n",
    "name='BBBP'\n",
    "dataset_old = MoleculeNet(root=root + str(name), name=name,transform=LargestConnectedComponents(num_components=1))\n",
    "len(dataset_old)"
   ],
   "metadata": {
    "collapsed": false,
    "pycharm": {
     "name": "#%%\n"
    },
    "ExecuteTime": {
     "end_time": "2023-12-19T13:24:07.457395900Z",
     "start_time": "2023-12-19T13:24:07.422853100Z"
    }
   }
  },
  {
   "cell_type": "code",
   "execution_count": 8,
   "outputs": [],
   "source": [
    "dataset = []\n",
    "for data in dataset_old:\n",
    "    if len(data.x)>0:\n",
    "        data.y = data.y.squeeze(1)\n",
    "        data.y = data.y.type(torch.LongTensor)\n",
    "        dataset.append(data)\n"
   ],
   "metadata": {
    "collapsed": false,
    "ExecuteTime": {
     "end_time": "2023-12-19T13:24:09.154088600Z",
     "start_time": "2023-12-19T13:24:08.506656900Z"
    }
   }
  },
  {
   "cell_type": "markdown",
   "source": [
    "## Решаем задачу предсказания связей, пользуясь подготовленным пайплайном в stable_gnn.pipelines.train_model_pipeline\n",
    "Задаем различные конфигурации включения экстраполяции и самостоятельного обучения"
   ],
   "metadata": {
    "collapsed": false,
    "pycharm": {
     "name": "#%% md\n"
    }
   }
  },
  {
   "cell_type": "code",
   "execution_count": 9,
   "outputs": [],
   "source": [
    "results = pd.DataFrame(columns=['extrapolate_flag', 'ssl_flag','test accuracy'])"
   ],
   "metadata": {
    "collapsed": false,
    "pycharm": {
     "name": "#%%\n"
    },
    "ExecuteTime": {
     "end_time": "2023-12-19T13:24:09.904685500Z",
     "start_time": "2023-12-19T13:24:09.893682900Z"
    }
   }
  },
  {
   "cell_type": "code",
   "execution_count": 12,
   "outputs": [
    {
     "name": "stdout",
     "output_type": "stream",
     "text": [
      "before tuning init\n",
      "before tuning\n",
      "after tuning\n",
      "before running\n",
      "0\n",
      "1\n",
      "2\n",
      "3\n",
      "4\n",
      "5\n",
      "6\n",
      "7\n",
      "8\n",
      "9\n",
      "10\n",
      "11\n",
      "12\n",
      "13\n",
      "14\n",
      "15\n",
      "16\n",
      "17\n",
      "18\n",
      "19\n",
      "20\n",
      "21\n",
      "22\n",
      "23\n",
      "24\n",
      "25\n",
      "26\n",
      "27\n",
      "28\n",
      "29\n",
      "30\n",
      "31\n",
      "32\n",
      "33\n",
      "34\n",
      "35\n",
      "36\n",
      "37\n",
      "38\n",
      "39\n",
      "40\n",
      "41\n",
      "42\n",
      "43\n",
      "44\n",
      "45\n",
      "46\n",
      "47\n",
      "48\n",
      "49\n",
      "50\n",
      "51\n",
      "52\n",
      "53\n",
      "54\n",
      "55\n",
      "56\n",
      "57\n",
      "58\n",
      "59\n",
      "60\n",
      "61\n",
      "62\n",
      "63\n",
      "64\n",
      "65\n",
      "66\n",
      "67\n",
      "68\n",
      "69\n",
      "70\n",
      "71\n",
      "72\n",
      "73\n",
      "74\n",
      "75\n",
      "76\n",
      "77\n",
      "78\n",
      "79\n",
      "80\n",
      "81\n",
      "82\n",
      "83\n",
      "84\n",
      "85\n",
      "86\n",
      "87\n",
      "88\n",
      "89\n",
      "90\n",
      "91\n",
      "92\n",
      "93\n",
      "94\n",
      "95\n",
      "96\n",
      "97\n",
      "98\n",
      "99\n",
      "0.7642857142857143\n"
     ]
    }
   ],
   "source": [
    "conv = \"GAT\"\n",
    "\n",
    "device = torch.device(\"cuda\" if torch.cuda.is_available() else \"cpu\")\n",
    "ssl_flag = False\n",
    "extrapolate_flag = False\n",
    "\n",
    "    #######\n",
    "print('before tuning init')\n",
    "optuna_training = TrainModelOptunaGC(\n",
    "        data=dataset,\n",
    "            conv=conv,\n",
    "            device=device,\n",
    "            ssl_flag=ssl_flag,\n",
    "            extrapolate_flag=extrapolate_flag,\n",
    "        )\n",
    "print('before tuning')\n",
    "best_values = optuna_training.run(number_of_trials=50)\n",
    "print('after tuning')\n",
    "model_training = TrainModelGC(\n",
    "            data=dataset,\n",
    "            conv=conv,\n",
    "            device=device,\n",
    "            ssl_flag=ssl_flag,\n",
    "            extrapolate_flag=extrapolate_flag,\n",
    ")\n",
    "print('before running')\n",
    "model, train_acc_mi, train_acc_ma, test_acc_mi, test_acc_ma = model_training.run(best_values)\n",
    "print(test_acc_mi)\n",
    "results=results.append(pd.Series([extrapolate_flag,ssl_flag,test_acc_mi],index=results.columns), ignore_index=True)"
   ],
   "metadata": {
    "collapsed": false,
    "pycharm": {
     "name": "#%%\n"
    },
    "ExecuteTime": {
     "end_time": "2023-12-19T13:46:19.361712600Z",
     "start_time": "2023-12-19T13:31:15.717532400Z"
    }
   }
  },
  {
   "cell_type": "code",
   "execution_count": null,
   "outputs": [],
   "source": [],
   "metadata": {
    "collapsed": false
   }
  },
  {
   "cell_type": "markdown",
   "source": [
    "|## Extrapolate_flag = True, ssl_flag = False"
   ],
   "metadata": {
    "collapsed": false,
    "pycharm": {
     "name": "#%% md\n"
    }
   }
  },
  {
   "cell_type": "code",
   "execution_count": 13,
   "outputs": [
    {
     "name": "stdout",
     "output_type": "stream",
     "text": [
      "0\n",
      "1\n",
      "2\n",
      "3\n",
      "4\n",
      "5\n",
      "6\n",
      "7\n",
      "8\n",
      "9\n",
      "10\n",
      "11\n",
      "12\n",
      "13\n",
      "14\n",
      "15\n",
      "16\n",
      "17\n",
      "18\n",
      "19\n",
      "20\n",
      "21\n",
      "22\n",
      "23\n",
      "24\n",
      "25\n",
      "26\n",
      "27\n",
      "28\n",
      "29\n",
      "30\n",
      "31\n",
      "32\n",
      "33\n",
      "34\n",
      "35\n",
      "36\n",
      "37\n",
      "38\n",
      "39\n",
      "40\n",
      "41\n",
      "42\n",
      "43\n",
      "44\n",
      "45\n",
      "46\n",
      "47\n",
      "48\n",
      "49\n",
      "50\n",
      "51\n",
      "52\n",
      "53\n",
      "54\n",
      "55\n",
      "56\n",
      "57\n",
      "58\n",
      "59\n",
      "60\n",
      "61\n",
      "62\n",
      "63\n",
      "64\n",
      "65\n",
      "66\n",
      "67\n",
      "68\n",
      "69\n",
      "70\n",
      "71\n",
      "72\n",
      "73\n",
      "74\n",
      "75\n",
      "76\n",
      "77\n",
      "78\n",
      "79\n",
      "80\n",
      "81\n",
      "82\n",
      "83\n",
      "84\n",
      "85\n",
      "86\n",
      "87\n",
      "88\n",
      "89\n",
      "90\n",
      "91\n",
      "92\n",
      "93\n",
      "94\n",
      "95\n",
      "96\n",
      "97\n",
      "98\n",
      "99\n",
      "0.7523809523809524\n"
     ]
    }
   ],
   "source": [
    "conv = \"GAT\"\n",
    "\n",
    "device = torch.device(\"cuda\" if torch.cuda.is_available() else \"cpu\")\n",
    "ssl_flag = False\n",
    "extrapolate_flag = True\n",
    "\n",
    "    #######\n",
    "\n",
    "\n",
    "optuna_training = TrainModelOptunaGC(\n",
    "        data=dataset,\n",
    "            conv=conv,\n",
    "            device=device,\n",
    "            ssl_flag=ssl_flag,\n",
    "            extrapolate_flag=extrapolate_flag,\n",
    "        )\n",
    "\n",
    "best_values = optuna_training.run(number_of_trials=50)\n",
    "\n",
    "model_training = TrainModelGC(\n",
    "            data=dataset,\n",
    "            conv=conv,\n",
    "            device=device,\n",
    "            ssl_flag=ssl_flag,\n",
    "            extrapolate_flag=extrapolate_flag,\n",
    ")\n",
    "\n",
    "model, train_acc_mi, train_acc_ma, test_acc_mi, test_acc_ma = model_training.run(best_values)\n",
    "print(test_acc_mi)\n",
    "results=results.append(pd.Series([extrapolate_flag,ssl_flag,test_acc_mi],index=results.columns), ignore_index=True)"
   ],
   "metadata": {
    "collapsed": false,
    "pycharm": {
     "name": "#%%\n"
    },
    "ExecuteTime": {
     "end_time": "2023-12-19T14:14:54.756900400Z",
     "start_time": "2023-12-19T13:47:23.886988700Z"
    }
   }
  },
  {
   "cell_type": "markdown",
   "source": [
    "## Extrapolate_flag = False, ssl=True\n"
   ],
   "metadata": {
    "collapsed": false,
    "pycharm": {
     "name": "#%% md\n"
    }
   }
  },
  {
   "cell_type": "code",
   "execution_count": 14,
   "outputs": [
    {
     "name": "stdout",
     "output_type": "stream",
     "text": [
      "0\n",
      "1\n",
      "2\n",
      "3\n",
      "4\n",
      "5\n",
      "6\n",
      "7\n",
      "8\n",
      "9\n",
      "10\n",
      "11\n",
      "12\n",
      "13\n",
      "14\n",
      "15\n",
      "16\n",
      "17\n",
      "18\n",
      "19\n",
      "20\n",
      "21\n",
      "22\n",
      "23\n",
      "24\n",
      "25\n",
      "26\n",
      "27\n",
      "28\n",
      "29\n",
      "30\n",
      "31\n",
      "32\n",
      "33\n",
      "34\n",
      "35\n",
      "36\n",
      "37\n",
      "38\n",
      "39\n",
      "40\n",
      "41\n",
      "42\n",
      "43\n",
      "44\n",
      "45\n",
      "46\n",
      "47\n",
      "48\n",
      "49\n",
      "50\n",
      "51\n",
      "52\n",
      "53\n",
      "54\n",
      "55\n",
      "56\n",
      "57\n",
      "58\n",
      "59\n",
      "60\n",
      "61\n",
      "62\n",
      "63\n",
      "64\n",
      "65\n",
      "66\n",
      "67\n",
      "68\n",
      "69\n",
      "70\n",
      "71\n",
      "72\n",
      "73\n",
      "74\n",
      "75\n",
      "76\n",
      "77\n",
      "78\n",
      "79\n",
      "80\n",
      "81\n",
      "82\n",
      "83\n",
      "84\n",
      "85\n",
      "86\n",
      "87\n",
      "88\n",
      "89\n",
      "90\n",
      "91\n",
      "92\n",
      "93\n",
      "94\n",
      "95\n",
      "96\n",
      "97\n",
      "98\n",
      "99\n",
      "0.7952380952380952\n"
     ]
    }
   ],
   "source": [
    "conv = \"GAT\"\n",
    "\n",
    "device = torch.device(\"cuda\" if torch.cuda.is_available() else \"cpu\")\n",
    "ssl_flag = True\n",
    "extrapolate_flag = False\n",
    "\n",
    "    #######\n",
    "optuna_training = TrainModelOptunaGC(\n",
    "        data=dataset,\n",
    "            conv=conv,\n",
    "            device=device,\n",
    "            ssl_flag=ssl_flag,\n",
    "            extrapolate_flag=extrapolate_flag,\n",
    "        )\n",
    "\n",
    "best_values = optuna_training.run(number_of_trials=50)\n",
    "\n",
    "model_training = TrainModelGC(\n",
    "            data=dataset,\n",
    "            conv=conv,\n",
    "            device=device,\n",
    "            ssl_flag=ssl_flag,\n",
    "            extrapolate_flag=extrapolate_flag,\n",
    ")\n",
    "\n",
    "model, train_acc_mi, train_acc_ma, test_acc_mi, test_acc_ma = model_training.run(best_values)\n",
    "print(test_acc_mi)\n",
    "results=results.append(pd.Series([extrapolate_flag,ssl_flag,test_acc_mi],index=results.columns), ignore_index=True)"
   ],
   "metadata": {
    "collapsed": false,
    "pycharm": {
     "name": "#%%\n"
    },
    "ExecuteTime": {
     "end_time": "2023-12-19T14:34:11.603632800Z",
     "start_time": "2023-12-19T14:15:24.364084900Z"
    }
   }
  },
  {
   "cell_type": "markdown",
   "source": [
    "## Extrapolate_flag = True, ssl_flag = True"
   ],
   "metadata": {
    "collapsed": false,
    "pycharm": {
     "name": "#%% md\n"
    }
   }
  },
  {
   "cell_type": "code",
   "execution_count": null,
   "outputs": [],
   "source": [
    "conv = \"GAT\"\n",
    "\n",
    "device = torch.device(\"cuda\" if torch.cuda.is_available() else \"cpu\")\n",
    "ssl_flag = True\n",
    "extrapolate_flag = True\n",
    "\n",
    "optuna_training = TrainModelOptunaGC(\n",
    "        data=dataset,\n",
    "            conv=conv,\n",
    "            device=device,\n",
    "            ssl_flag=ssl_flag,\n",
    "            extrapolate_flag=extrapolate_flag,\n",
    "        )\n",
    "\n",
    "best_values = optuna_training.run(number_of_trials=50)\n",
    "\n",
    "model_training = TrainModelGC(\n",
    "            data=dataset,\n",
    "            conv=conv,\n",
    "            device=device,\n",
    "            ssl_flag=ssl_flag,\n",
    "            extrapolate_flag=extrapolate_flag,\n",
    ")\n",
    "\n",
    "model, train_acc_mi, train_acc_ma, test_acc_mi, test_acc_ma = model_training.run(best_values)\n",
    "print(test_acc_mi)\n",
    "results=results.append(pd.Series([extrapolate_flag,ssl_flag,test_acc_mi],index=results.columns), ignore_index=True)"
   ],
   "metadata": {
    "collapsed": false,
    "pycharm": {
     "name": "#%%\n"
    }
   }
  },
  {
   "cell_type": "code",
   "execution_count": null,
   "outputs": [],
   "source": [
    "results"
   ],
   "metadata": {
    "collapsed": false,
    "pycharm": {
     "name": "#%%\n"
    }
   }
  },
  {
   "cell_type": "markdown",
   "source": [
    "## Проверим объяснение предсказания"
   ],
   "metadata": {
    "collapsed": false
   }
  },
  {
   "cell_type": "code",
   "execution_count": null,
   "outputs": [],
   "source": [
    "index = 3\n",
    "data_to_explain = dataset[index]\n",
    "root='../data_validation/'\n",
    "if os.path.exists(root + name + \"/A\"+str(index)+\".npy\"):\n",
    "    adj_matrix = np.load(root + name + \"/A\"+str(index)+\".npy\")\n",
    "else:\n",
    "    adj_matrix = torch.squeeze(to_dense_adj(data_to_explain.edge_index.cpu())).numpy()\n",
    "\n",
    "if os.path.exists(root + name + \"/X\"+str(index)+\".npy\"):\n",
    "    features = np.load(root + name + \"/X\"+str(index)+\".npy\")\n",
    "else:\n",
    "    features = torch.squeeze(data_to_explain.x.cpu()).numpy()\n",
    "\n",
    "\n",
    "explainer = Explain(model=model, adj_matrix=adj_matrix, features=features)\n",
    "\n",
    "pgm_explanation = explainer.structure_learning()\n",
    "print(\"explanations is\", pgm_explanation.nodes, pgm_explanation.edges)\n",
    "g = nx.DiGraph()\n",
    "mapping = {}\n",
    "inv_mapping = {}\n",
    "for i, node in enumerate(pgm_explanation.nodes):\n",
    "    mapping[node]=i\n",
    "    inv_mapping[i]=node\n",
    "\n",
    "edges = []\n",
    "for edge in pgm_explanation.edges:\n",
    "    edges.append([mapping[edge[0]], mapping[edge[1]]])\n",
    "g.add_edges_from(edges)\n",
    "for node in g.nodes():\n",
    "    print(node)\n",
    "    g.add_node(node)\n",
    "\n",
    "plt.figure()\n",
    "nx.draw(g)\n",
    "plt.title('data explanation' )\n",
    "plt.show()\n",
    "plt.close()"
   ],
   "metadata": {
    "collapsed": false
   }
  },
  {
   "cell_type": "code",
   "execution_count": null,
   "outputs": [],
   "source": [],
   "metadata": {
    "collapsed": false
   }
  }
 ],
 "metadata": {
  "kernelspec": {
   "display_name": "Python 3",
   "language": "python",
   "name": "python3"
  },
  "language_info": {
   "codemirror_mode": {
    "name": "ipython",
    "version": 2
   },
   "file_extension": ".py",
   "mimetype": "text/x-python",
   "name": "python",
   "nbconvert_exporter": "python",
   "pygments_lexer": "ipython2",
   "version": "2.7.6"
  }
 },
 "nbformat": 4,
 "nbformat_minor": 0
}
