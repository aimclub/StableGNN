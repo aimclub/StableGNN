{
 "cells": [
  {
   "cell_type": "markdown",
   "metadata": {},
   "source": [
    "### **1. Пример расчета метрик GH-графа**\n",
    "\n",
    "**Содержание:**\n",
    "1. Импорт необходимых библиотек и загрузка GH-графа (или генерация синтетического графа).\n",
    "2. Расчет центральности, радиуса, диаметра и потерь, связанных с разреженностью.\n",
    "3. Визуализация результатов."
   ]
  },
  {
   "cell_type": "code",
   "execution_count": null,
   "metadata": {},
   "outputs": [],
   "source": []
  },
  {
   "cell_type": "code",
   "execution_count": null,
   "metadata": {},
   "outputs": [],
   "source": [
    "# Import libraries\n",
    "import torch\n",
    "from stable_gnn.analytics.gh_graph_metrics import GHGraphMetrics\n",
    "\n",
    "# Create a synthetic GH-graph\n",
    "edge_index = torch.tensor([[0, 1, 2, 3], [1, 2, 3, 0]])  # Example edge index\n",
    "num_nodes = 4\n",
    "\n",
    "# Initialize metrics\n",
    "metrics = GHGraphMetrics()\n",
    "\n",
    "# Calculate centrality\n",
    "centrality = metrics.calculate_centrality(edge_index, num_nodes)\n",
    "print(f\"Centrality: {centrality}\")\n",
    "\n",
    "# Calculate radius\n",
    "radius = metrics.calculate_radius(edge_index, num_nodes)\n",
    "print(f\"Radius: {radius}\")\n",
    "\n",
    "# Calculate diameter\n",
    "diameter = metrics.calculate_diameter(edge_index, num_nodes)\n",
    "print(f\"Diameter: {diameter}\")\n",
    "\n",
    "# Calculate sparsity-aware loss\n",
    "sparsity_loss = metrics.calculate_sparsity_loss(edge_index, num_nodes)\n",
    "print(f\"Sparsity Loss: {sparsity_loss}\")\n"
   ]
  },
  {
   "cell_type": "markdown",
   "metadata": {},
   "source": [
    "\n",
    "### **2. Пример работы с функциями потерь**\n",
    "\n",
    "**Содержание:**\n",
    "1. Генерация предсказаний модели и реальных значений.\n",
    "2. Расчет центральности-осознанных потерь.\n",
    "3. Использование sparsity-aware loss.\n"
   ]
  },
  {
   "cell_type": "code",
   "execution_count": null,
   "metadata": {},
   "outputs": [],
   "source": [
    "# Import libraries\n",
    "import torch\n",
    "from stable_gnn.analytics.gh_graph_metrics import GHGraphMetrics, GHLossFunctions\n",
    "\n",
    "# Create synthetic predictions and targets\n",
    "pred = torch.tensor([0.2, 0.8, 0.6, 0.3], requires_grad=True)  # Example predictions\n",
    "target = torch.tensor([0.0, 1.0, 1.0, 0.0])  # Ground truth\n",
    "\n",
    "# Create a synthetic GH-graph\n",
    "edge_index = torch.tensor([[0, 1, 2, 3], [1, 2, 3, 0]])  # Example edge index\n",
    "num_nodes = 4\n",
    "\n",
    "# Calculate centrality\n",
    "centrality = GHGraphMetrics.calculate_centrality(edge_index, num_nodes)\n",
    "\n",
    "# Calculate centrality-weighted loss\n",
    "loss = GHLossFunctions.centrality_weighted_loss(pred, target, centrality)\n",
    "print(f\"Centrality-Weighted Loss: {loss}\")\n",
    "\n",
    "# Calculate sparsity-aware loss\n",
    "sparsity_loss = GHLossFunctions.sparsity_aware_loss(edge_index, num_nodes)\n",
    "print(f\"Sparsity-Aware Loss: {sparsity_loss}\")"
   ]
  },
  {
   "cell_type": "markdown",
   "metadata": {},
   "source": [
    "\n",
    "### **Включение визуализации:**\n",
    "Добавьте визуализацию результатов для лучшего понимания:\n",
    "1. Используйте `matplotlib` для отображения графа.\n",
    "2. Покажите центральности узлов как метки."
   ]
  },
  {
   "cell_type": "code",
   "execution_count": null,
   "metadata": {},
   "outputs": [],
   "source": [
    "import networkx as nx\n",
    "import matplotlib.pyplot as plt\n",
    "\n",
    "# Create a NetworkX graph for visualization\n",
    "G = nx.Graph()\n",
    "G.add_edges_from(edge_index.T.tolist())\n",
    "\n",
    "# Assign centrality as node labels\n",
    "centrality_dict = {i: round(c.item(), 2) for i, c in enumerate(centrality)}\n",
    "\n",
    "# Draw graph\n",
    "plt.figure(figsize=(6, 6))\n",
    "nx.draw(G, with_labels=True, labels=centrality_dict, node_color='lightblue', font_weight='bold')\n",
    "plt.title(\"GH-Graph with Centrality Values\")\n",
    "plt.show()"
   ]
  }
 ],
 "metadata": {
  "kernelspec": {
   "display_name": "local_check",
   "language": "python",
   "name": "python3"
  },
  "language_info": {
   "name": "python",
   "version": "3.10.12"
  }
 },
 "nbformat": 4,
 "nbformat_minor": 2
}
