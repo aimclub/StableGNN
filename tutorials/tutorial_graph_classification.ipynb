{
 "cells": [
  {
   "cell_type": "markdown",
   "source": [
    "# Задача классификации графов, предсказание свойств горения молекул углеводорода\n",
    "## Постановка задачи: предсказать один из индикаторов качества горения – производное цетановое число (DCN) для оксигенированных углеводородов по структуре молекул."
   ],
   "metadata": {
    "collapsed": false,
    "pycharm": {
     "name": "#%% md\n"
    }
   }
  },
  {
   "cell_type": "code",
   "execution_count": null,
   "outputs": [],
   "source": [
    "import os\n",
    "import sys\n",
    "sys.path.append('../')\n",
    "import pandas as pd\n",
    "import numpy as np\n",
    "import networkx as nx\n",
    "from matplotlib import pyplot as plt\n",
    "import torch\n",
    "import torch_geometric.transforms as T\n",
    "from torch_geometric.utils import to_dense_adj\n",
    "\n",
    "from stable_gnn.pipelines.graph_classification_pipeline import TrainModelGC, TrainModelOptunaGC\n",
    "from stable_gnn.graph import Graph\n",
    "from stable_gnn.explain import Explain"
   ],
   "metadata": {
    "collapsed": false,
    "pycharm": {
     "name": "#%%\n"
    }
   }
  },
  {
   "cell_type": "markdown",
   "source": [
    "# Загрузка датасета, состоящего из молекул.\n",
    " Атрибуты вершин: относится ли атом к определенному типу (например C, N, S и т.д.), степень вершин-атомов, формальный заряд атома, тип гибридизации, является ли атом частью кольца, является ли атом частью ароматического соединения, нормированная атомная масса"
   ],
   "metadata": {
    "collapsed": false,
    "pycharm": {
     "name": "#%% md\n"
    }
   }
  },
  {
   "cell_type": "code",
   "execution_count": null,
   "outputs": [],
   "source": [
    "root = '../data_validation/'\n",
    "name='fuel'\n",
    "dataset = Graph(root=root + str(name), name=name, transform=T.NormalizeFeatures(),adjust_flag=False)\n",
    "len(dataset)"
   ],
   "metadata": {
    "collapsed": false,
    "pycharm": {
     "name": "#%%\n"
    }
   }
  },
  {
   "cell_type": "markdown",
   "source": [
    "## Решаем задачу предсказания связей, пользуясь подготовленным пайплайном в stable_gnn.pipelines.train_model_pipeline\n",
    "Задаем различные конфигурации включения экстраполяции и самостоятельного обучения"
   ],
   "metadata": {
    "collapsed": false,
    "pycharm": {
     "name": "#%% md\n"
    }
   }
  },
  {
   "cell_type": "code",
   "execution_count": null,
   "outputs": [],
   "source": [
    "results = pd.DataFrame(columns=['extrapolate_flag', 'ssl_flag','test accuracy'])"
   ],
   "metadata": {
    "collapsed": false,
    "pycharm": {
     "name": "#%%\n"
    }
   }
  },
  {
   "cell_type": "code",
   "execution_count": null,
   "outputs": [],
   "source": [
    "conv = \"GAT\"\n",
    "\n",
    "device = torch.device(\"cuda\" if torch.cuda.is_available() else \"cpu\")\n",
    "ssl_flag = False\n",
    "extrapolate_flag = False\n",
    "\n",
    "    #######\n",
    "\n",
    "optuna_training = TrainModelOptunaGC(\n",
    "        data=dataset,\n",
    "            conv=conv,\n",
    "            device=device,\n",
    "            ssl_flag=ssl_flag,\n",
    "            extrapolate_flag=extrapolate_flag,\n",
    "        )\n",
    "\n",
    "best_values = optuna_training.run(number_of_trials=50)\n",
    "\n",
    "model_training = TrainModelGC(\n",
    "            data=dataset,\n",
    "            conv=conv,\n",
    "            device=device,\n",
    "            ssl_flag=ssl_flag,\n",
    "            extrapolate_flag=extrapolate_flag,\n",
    ")\n",
    "\n",
    "model, train_acc_mi, train_acc_ma, test_acc_mi, test_acc_ma = model_training.run(best_values)\n",
    "print(test_acc_mi)\n",
    "results=results.append(pd.Series([extrapolate_flag,ssl_flag,test_acc_mi],index=results.columns), ignore_index=True)"
   ],
   "metadata": {
    "collapsed": false,
    "pycharm": {
     "name": "#%%\n"
    }
   }
  },
  {
   "cell_type": "code",
   "execution_count": null,
   "outputs": [],
   "source": [],
   "metadata": {
    "collapsed": false
   }
  },
  {
   "cell_type": "markdown",
   "source": [
    "|## Extrapolate_flag = True, ssl_flag = False"
   ],
   "metadata": {
    "collapsed": false,
    "pycharm": {
     "name": "#%% md\n"
    }
   }
  },
  {
   "cell_type": "code",
   "execution_count": null,
   "outputs": [],
   "source": [
    "conv = \"GAT\"\n",
    "\n",
    "device = torch.device(\"cuda\" if torch.cuda.is_available() else \"cpu\")\n",
    "ssl_flag = False\n",
    "extrapolate_flag = True\n",
    "\n",
    "    #######\n",
    "\n",
    "\n",
    "optuna_training = TrainModelOptunaGC(\n",
    "        data=dataset,\n",
    "            conv=conv,\n",
    "            device=device,\n",
    "            ssl_flag=ssl_flag,\n",
    "            extrapolate_flag=extrapolate_flag,\n",
    "        )\n",
    "\n",
    "best_values = optuna_training.run(number_of_trials=50)\n",
    "\n",
    "model_training = TrainModelGC(\n",
    "            data=dataset,\n",
    "            conv=conv,\n",
    "            device=device,\n",
    "            ssl_flag=ssl_flag,\n",
    "            extrapolate_flag=extrapolate_flag,\n",
    ")\n",
    "\n",
    "model, train_acc_mi, train_acc_ma, test_acc_mi, test_acc_ma = model_training.run(best_values)\n",
    "print(test_acc_mi)\n",
    "results=results.append(pd.Series([extrapolate_flag,ssl_flag,test_acc_mi],index=results.columns), ignore_index=True)"
   ],
   "metadata": {
    "collapsed": false,
    "pycharm": {
     "name": "#%%\n"
    }
   }
  },
  {
   "cell_type": "markdown",
   "source": [
    "## Extrapolate_flag = False, ssl=True\n"
   ],
   "metadata": {
    "collapsed": false,
    "pycharm": {
     "name": "#%% md\n"
    }
   }
  },
  {
   "cell_type": "code",
   "execution_count": null,
   "outputs": [],
   "source": [
    "conv = \"GAT\"\n",
    "\n",
    "device = torch.device(\"cuda\" if torch.cuda.is_available() else \"cpu\")\n",
    "ssl_flag = True\n",
    "extrapolate_flag = False\n",
    "\n",
    "    #######\n",
    "optuna_training = TrainModelOptunaGC(\n",
    "        data=dataset,\n",
    "            conv=conv,\n",
    "            device=device,\n",
    "            ssl_flag=ssl_flag,\n",
    "            extrapolate_flag=extrapolate_flag,\n",
    "        )\n",
    "\n",
    "best_values = optuna_training.run(number_of_trials=50)\n",
    "\n",
    "model_training = TrainModelGC(\n",
    "            data=dataset,\n",
    "            conv=conv,\n",
    "            device=device,\n",
    "            ssl_flag=ssl_flag,\n",
    "            extrapolate_flag=extrapolate_flag,\n",
    ")\n",
    "\n",
    "model, train_acc_mi, train_acc_ma, test_acc_mi, test_acc_ma = model_training.run(best_values)\n",
    "print(test_acc_mi)\n",
    "results=results.append(pd.Series([extrapolate_flag,ssl_flag,test_acc_mi],index=results.columns), ignore_index=True)"
   ],
   "metadata": {
    "collapsed": false,
    "pycharm": {
     "name": "#%%\n"
    }
   }
  },
  {
   "cell_type": "markdown",
   "source": [
    "## Extrapolate_flag = True, ssl_flag = True"
   ],
   "metadata": {
    "collapsed": false,
    "pycharm": {
     "name": "#%% md\n"
    }
   }
  },
  {
   "cell_type": "code",
   "execution_count": null,
   "outputs": [],
   "source": [
    "conv = \"GAT\"\n",
    "\n",
    "device = torch.device(\"cuda\" if torch.cuda.is_available() else \"cpu\")\n",
    "ssl_flag = True\n",
    "extrapolate_flag = True\n",
    "\n",
    "optuna_training = TrainModelOptunaGC(\n",
    "        data=dataset,\n",
    "            conv=conv,\n",
    "            device=device,\n",
    "            ssl_flag=ssl_flag,\n",
    "            extrapolate_flag=extrapolate_flag,\n",
    "        )\n",
    "\n",
    "best_values = optuna_training.run(number_of_trials=50)\n",
    "\n",
    "model_training = TrainModelGC(\n",
    "            data=dataset,\n",
    "            conv=conv,\n",
    "            device=device,\n",
    "            ssl_flag=ssl_flag,\n",
    "            extrapolate_flag=extrapolate_flag,\n",
    ")\n",
    "\n",
    "model, train_acc_mi, train_acc_ma, test_acc_mi, test_acc_ma = model_training.run(best_values)\n",
    "print(test_acc_mi)\n",
    "results=results.append(pd.Series([extrapolate_flag,ssl_flag,test_acc_mi],index=results.columns), ignore_index=True)"
   ],
   "metadata": {
    "collapsed": false,
    "pycharm": {
     "name": "#%%\n"
    }
   }
  },
  {
   "cell_type": "code",
   "execution_count": null,
   "outputs": [],
   "source": [
    "results"
   ],
   "metadata": {
    "collapsed": false,
    "pycharm": {
     "name": "#%%\n"
    }
   }
  },
  {
   "cell_type": "markdown",
   "source": [
    "## Проверим объяснение предсказания"
   ],
   "metadata": {
    "collapsed": false
   }
  },
  {
   "cell_type": "code",
   "execution_count": null,
   "outputs": [],
   "source": [
    "index = 3\n",
    "data_to_explain = dataset[index]\n",
    "root='../data_validation/'\n",
    "if os.path.exists(root + name + \"/A\"+str(index)+\".npy\"):\n",
    "    adj_matrix = np.load(root + name + \"/A\"+str(index)+\".npy\")\n",
    "else:\n",
    "    adj_matrix = torch.squeeze(to_dense_adj(data_to_explain.edge_index.cpu())).numpy()\n",
    "\n",
    "if os.path.exists(root + name + \"/X\"+str(index)+\".npy\"):\n",
    "    features = np.load(root + name + \"/X\"+str(index)+\".npy\")\n",
    "else:\n",
    "    features = torch.squeeze(data_to_explain.x.cpu()).numpy()\n",
    "\n",
    "\n",
    "explainer = Explain(model=model, adj_matrix=adj_matrix, features=features)\n",
    "\n",
    "pgm_explanation = explainer.structure_learning()\n",
    "print(\"explanations is\", pgm_explanation.nodes, pgm_explanation.edges)\n",
    "g = nx.DiGraph()\n",
    "mapping = {}\n",
    "inv_mapping = {}\n",
    "for i, node in enumerate(pgm_explanation.nodes):\n",
    "    mapping[node]=i\n",
    "    inv_mapping[i]=node\n",
    "\n",
    "edges = []\n",
    "for edge in pgm_explanation.edges:\n",
    "    edges.append([mapping[edge[0]], mapping[edge[1]]])\n",
    "g.add_edges_from(edges)\n",
    "for node in g.nodes():\n",
    "    print(node)\n",
    "    g.add_node(node)\n",
    "\n",
    "plt.figure()\n",
    "nx.draw(g)\n",
    "plt.title('data explanation' )\n",
    "plt.show()\n",
    "plt.close()"
   ],
   "metadata": {
    "collapsed": false
   }
  },
  {
   "cell_type": "code",
   "execution_count": null,
   "outputs": [],
   "source": [],
   "metadata": {
    "collapsed": false
   }
  }
 ],
 "metadata": {
  "kernelspec": {
   "display_name": "Python 3",
   "language": "python",
   "name": "python3"
  },
  "language_info": {
   "codemirror_mode": {
    "name": "ipython",
    "version": 2
   },
   "file_extension": ".py",
   "mimetype": "text/x-python",
   "name": "python",
   "nbconvert_exporter": "python",
   "pygments_lexer": "ipython2",
   "version": "2.7.6"
  }
 },
 "nbformat": 4,
 "nbformat_minor": 0
}
