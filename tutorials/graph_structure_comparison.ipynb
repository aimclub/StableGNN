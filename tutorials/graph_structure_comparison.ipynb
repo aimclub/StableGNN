{
 "cells": [
  {
   "cell_type": "markdown",
   "source": [
    " # Подсчитаем ассортативность на изначальном графе и уточненном графе\n",
    " ! NB не забывайте очищать кэш"
   ],
   "metadata": {
    "collapsed": false,
    "pycharm": {
     "name": "#%% md\n"
    }
   }
  },
  {
   "cell_type": "code",
   "execution_count": 1,
   "outputs": [],
   "source": [
    "import sys\n",
    "sys.path.append('../')\n",
    "\n",
    "import torch_geometric.transforms as T\n",
    "from torch_geometric.utils import homophily\n",
    "\n",
    "from stable_gnn.graph import Graph\n",
    "\n"
   ],
   "metadata": {
    "collapsed": false,
    "pycharm": {
     "name": "#%%\n"
    },
    "ExecuteTime": {
     "end_time": "2023-11-27T12:31:21.825940500Z",
     "start_time": "2023-11-27T12:31:20.170223Z"
    }
   }
  },
  {
   "cell_type": "code",
   "execution_count": 2,
   "outputs": [
    {
     "name": "stdout",
     "output_type": "stream",
     "text": [
      "0.4683426320552826\n"
     ]
    }
   ],
   "source": [
    "root = '../data_validation/'\n",
    "name='brazil'\n",
    "dataset = Graph(root=root + str(name), name=name, transform=T.NormalizeFeatures(),adjust_flag=False,number_of_trainig_epochs=100)\n",
    "data = dataset[0]\n",
    "print(homophily(data.edge_index,data.y))"
   ],
   "metadata": {
    "collapsed": false,
    "pycharm": {
     "name": "#%%\n"
    },
    "ExecuteTime": {
     "end_time": "2023-11-27T12:30:56.860433600Z",
     "start_time": "2023-11-27T12:30:56.846275200Z"
    }
   }
  },
  {
   "cell_type": "code",
   "execution_count": 2,
   "outputs": [
    {
     "name": "stderr",
     "output_type": "stream",
     "text": [
      "Downloading https://github.com/leoribeiro/struc2vec/raw/master/graph/brazil-airports.edgelist\n",
      "Downloading https://github.com/leoribeiro/struc2vec/raw/master/graph/labels-brazil-airports.txt\n",
      "Processing...\n"
     ]
    },
    {
     "name": "stdout",
     "output_type": "stream",
     "text": [
      "0.7094017267227173\n"
     ]
    },
    {
     "name": "stderr",
     "output_type": "stream",
     "text": [
      "Done!\n"
     ]
    }
   ],
   "source": [
    "root = '../data_validation/'\n",
    "name='brazil'\n",
    "dataset = Graph(root=root + str(name), name=name, transform=T.NormalizeFeatures(),adjust_flag=True)\n",
    "data = dataset[0]\n",
    "print(homophily(data.edge_index,data.y))"
   ],
   "metadata": {
    "collapsed": false,
    "pycharm": {
     "name": "#%%\n"
    },
    "ExecuteTime": {
     "end_time": "2023-11-27T12:31:40.110500Z",
     "start_time": "2023-11-27T12:31:36.476219700Z"
    }
   }
  },
  {
   "cell_type": "markdown",
   "source": [
    "## Следующий датасет: Europe"
   ],
   "metadata": {
    "collapsed": false,
    "pycharm": {
     "name": "#%% md\n"
    }
   }
  },
  {
   "cell_type": "code",
   "execution_count": 3,
   "outputs": [
    {
     "name": "stderr",
     "output_type": "stream",
     "text": [
      "Downloading https://github.com/leoribeiro/struc2vec/raw/master/graph/europe-airports.edgelist\n",
      "Downloading https://github.com/leoribeiro/struc2vec/raw/master/graph/labels-europe-airports.txt\n"
     ]
    },
    {
     "name": "stdout",
     "output_type": "stream",
     "text": [
      "0.40483736991882324\n"
     ]
    },
    {
     "name": "stderr",
     "output_type": "stream",
     "text": [
      "Processing...\n",
      "Done!\n"
     ]
    }
   ],
   "source": [
    "root = '../data_validation/'\n",
    "name='europe'\n",
    "dataset = Graph(root=root + str(name), name=name, transform=T.NormalizeFeatures(),adjust_flag=False)\n",
    "data = dataset[0]\n",
    "print(homophily(data.edge_index,data.y))"
   ],
   "metadata": {
    "collapsed": false,
    "pycharm": {
     "name": "#%%\n"
    },
    "ExecuteTime": {
     "end_time": "2023-11-27T12:31:46.619431600Z",
     "start_time": "2023-11-27T12:31:43.293128600Z"
    }
   }
  },
  {
   "cell_type": "code",
   "execution_count": 4,
   "outputs": [
    {
     "name": "stderr",
     "output_type": "stream",
     "text": [
      "Downloading https://github.com/leoribeiro/struc2vec/raw/master/graph/europe-airports.edgelist\n",
      "Downloading https://github.com/leoribeiro/struc2vec/raw/master/graph/labels-europe-airports.txt\n",
      "Processing...\n"
     ]
    },
    {
     "name": "stdout",
     "output_type": "stream",
     "text": [
      "0.47634583711624146\n"
     ]
    },
    {
     "name": "stderr",
     "output_type": "stream",
     "text": [
      "Done!\n"
     ]
    }
   ],
   "source": [
    "root = '../data_validation/'\n",
    "name='europe'\n",
    "dataset = Graph(root=root + str(name), name=name, transform=T.NormalizeFeatures(),adjust_flag=True)\n",
    "data = dataset[0]\n",
    "print(homophily(data.edge_index,data.y))"
   ],
   "metadata": {
    "collapsed": false,
    "pycharm": {
     "name": "#%%\n"
    },
    "ExecuteTime": {
     "end_time": "2023-11-27T12:31:56.797968500Z",
     "start_time": "2023-11-27T12:31:49.072455400Z"
    }
   }
  },
  {
   "cell_type": "code",
   "execution_count": null,
   "outputs": [],
   "source": [],
   "metadata": {
    "collapsed": false
   }
  }
 ],
 "metadata": {
  "kernelspec": {
   "display_name": "Python 3",
   "language": "python",
   "name": "python3"
  },
  "language_info": {
   "codemirror_mode": {
    "name": "ipython",
    "version": 2
   },
   "file_extension": ".py",
   "mimetype": "text/x-python",
   "name": "python",
   "nbconvert_exporter": "python",
   "pygments_lexer": "ipython2",
   "version": "2.7.6"
  }
 },
 "nbformat": 4,
 "nbformat_minor": 0
}
